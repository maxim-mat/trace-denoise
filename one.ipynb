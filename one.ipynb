{
 "cells": [
  {
   "cell_type": "code",
   "execution_count": 1,
   "id": "initial_id",
   "metadata": {
    "collapsed": true,
    "ExecuteTime": {
     "end_time": "2024-05-02T17:06:35.476829500Z",
     "start_time": "2024-05-02T17:06:34.840828900Z"
    }
   },
   "outputs": [],
   "source": [
    "import pandas as pd\n",
    "import numpy as np\n",
    "import os"
   ]
  },
  {
   "cell_type": "code",
   "execution_count": 2,
   "outputs": [],
   "source": [
    "high_level = {'cut_and_mix_ingredients', 'prepare_dressing', 'serve_salad'}"
   ],
   "metadata": {
    "collapsed": false,
    "ExecuteTime": {
     "end_time": "2024-04-20T18:56:47.530466200Z",
     "start_time": "2024-04-20T18:56:47.520466900Z"
    }
   },
   "id": "234456a77b544be5"
  },
  {
   "cell_type": "code",
   "execution_count": 3,
   "outputs": [],
   "source": [
    "act_low_level = []\n",
    "act_high_level = []\n",
    "\n",
    "with open(\"data/activityAnnotations/01-1-activityAnnotation.txt\", 'r') as f:\n",
    "    for line in f:\n",
    "        ts, te, act = line.split()\n",
    "        if act in high_level:\n",
    "            act_high_level.append((int(ts), int(te), act))\n",
    "        else:\n",
    "            act_low_level.append((int(ts), int(te), act))\n",
    "    act_low_level = sorted(act_low_level, key=lambda x: x[0])\n",
    "    act_high_level = sorted(act_high_level, key=lambda x: x[0])"
   ],
   "metadata": {
    "collapsed": false,
    "ExecuteTime": {
     "end_time": "2024-04-20T18:56:47.669465300Z",
     "start_time": "2024-04-20T18:56:47.642469600Z"
    }
   },
   "id": "ceedccfd4a0c85fd"
  },
  {
   "cell_type": "code",
   "execution_count": 4,
   "outputs": [
    {
     "data": {
      "text/plain": "[(53704269, 268768513, 'cut_and_mix_ingredients'),\n (272435707, 379117707, 'prepare_dressing')]"
     },
     "execution_count": 4,
     "metadata": {},
     "output_type": "execute_result"
    }
   ],
   "source": [
    "act_high_level"
   ],
   "metadata": {
    "collapsed": false,
    "ExecuteTime": {
     "end_time": "2024-04-20T18:56:48.228658500Z",
     "start_time": "2024-04-20T18:56:48.207293900Z"
    }
   },
   "id": "88c4818e8069af9c"
  },
  {
   "cell_type": "code",
   "execution_count": 5,
   "outputs": [
    {
     "data": {
      "text/plain": "[(53704269, 76774251, 'cut_tomato_prep'),\n (76774251, 105911773, 'cut_tomato_core'),\n (105911773, 106878578, 'cut_tomato_post'),\n (106878578, 109512290, 'place_tomato_into_bowl_prep'),\n (109512290, 118080188, 'place_tomato_into_bowl_core'),\n (118546922, 124581123, 'cut_tomato_prep'),\n (124581123, 141816933, 'cut_tomato_core'),\n (141816933, 143750545, 'place_tomato_into_bowl_prep'),\n (143750545, 144717350, 'place_tomato_into_bowl_core'),\n (150618198, 169054181, 'cut_cheese_prep'),\n (169054181, 203992536, 'cut_cheese_core'),\n (203992536, 211860334, 'cut_cheese_post'),\n (211860334, 213327211, 'place_cheese_into_bowl_prep'),\n (213327211, 216761038, 'place_cheese_into_bowl_core'),\n (216761038, 218761326, 'place_cheese_into_bowl_post'),\n (219128045, 242598085, 'cut_lettuce_prep'),\n (242598085, 251732731, 'cut_lettuce_core'),\n (251732731, 255333249, 'place_lettuce_into_bowl_prep'),\n (255333249, 265901435, 'place_lettuce_into_bowl_core'),\n (265901435, 268768513, 'place_lettuce_into_bowl_post'),\n (279536728, 284237403, 'add_salt_prep'),\n (284237403, 286671086, 'add_salt_core'),\n (286671086, 288438007, 'add_salt_post'),\n (289171446, 301506552, 'add_vinegar_prep'),\n (301506552, 304306955, 'add_vinegar_core'),\n (304306955, 314275054, 'add_vinegar_post'),\n (314841802, 320642636, 'add_oil_prep'),\n (320642636, 326476808, 'add_oil_core'),\n (326476808, 331077469, 'add_oil_post'),\n (331744231, 338811914, 'add_pepper_prep'),\n (338811914, 340012086, 'add_pepper_core'),\n (340012086, 341645655, 'add_pepper_post'),\n (341879021, 342745813, 'mix_dressing_prep'),\n (342745813, 364448932, 'mix_dressing_core'),\n (364448932, 379117707, 'mix_dressing_post')]"
     },
     "execution_count": 5,
     "metadata": {},
     "output_type": "execute_result"
    }
   ],
   "source": [
    "act_low_level"
   ],
   "metadata": {
    "collapsed": false,
    "ExecuteTime": {
     "end_time": "2024-04-20T18:56:48.893392400Z",
     "start_time": "2024-04-20T18:56:48.871392900Z"
    }
   },
   "id": "cf6da7af859012a4"
  },
  {
   "cell_type": "code",
   "execution_count": 6,
   "outputs": [],
   "source": [
    "with open(\"data/timestamps/timestamps-01-1.txt\", 'r') as f:\n",
    "    temp = [int(x.split()[0]) for x in f]"
   ],
   "metadata": {
    "collapsed": false,
    "ExecuteTime": {
     "end_time": "2024-04-20T18:56:49.244824Z",
     "start_time": "2024-04-20T18:56:49.233324100Z"
    }
   },
   "id": "87dc14af54c88b61"
  },
  {
   "cell_type": "code",
   "execution_count": 7,
   "outputs": [
    {
     "data": {
      "text/plain": "[(0, 23069982, 'cut_tomato_prep'),\n (23069982, 52207504, 'cut_tomato_core'),\n (52207504, 53174309, 'cut_tomato_post'),\n (53174309, 55808021, 'place_tomato_into_bowl_prep'),\n (55808021, 64375919, 'place_tomato_into_bowl_core'),\n (64842653, 70876854, 'cut_tomato_prep'),\n (70876854, 88112664, 'cut_tomato_core'),\n (88112664, 90046276, 'place_tomato_into_bowl_prep'),\n (90046276, 91013081, 'place_tomato_into_bowl_core'),\n (96913929, 115349912, 'cut_cheese_prep'),\n (115349912, 150288267, 'cut_cheese_core'),\n (150288267, 158156065, 'cut_cheese_post'),\n (158156065, 159622942, 'place_cheese_into_bowl_prep'),\n (159622942, 163056769, 'place_cheese_into_bowl_core'),\n (163056769, 165057057, 'place_cheese_into_bowl_post'),\n (165423776, 188893816, 'cut_lettuce_prep'),\n (188893816, 198028462, 'cut_lettuce_core'),\n (198028462, 201628980, 'place_lettuce_into_bowl_prep'),\n (201628980, 212197166, 'place_lettuce_into_bowl_core'),\n (212197166, 215064244, 'place_lettuce_into_bowl_post'),\n (225832459, 230533134, 'add_salt_prep'),\n (230533134, 232966817, 'add_salt_core'),\n (232966817, 234733738, 'add_salt_post'),\n (235467177, 247802283, 'add_vinegar_prep'),\n (247802283, 250602686, 'add_vinegar_core'),\n (250602686, 260570785, 'add_vinegar_post'),\n (261137533, 266938367, 'add_oil_prep'),\n (266938367, 272772539, 'add_oil_core'),\n (272772539, 277373200, 'add_oil_post'),\n (278039962, 285107645, 'add_pepper_prep'),\n (285107645, 286307817, 'add_pepper_core'),\n (286307817, 287941386, 'add_pepper_post'),\n (288174752, 289041544, 'mix_dressing_prep'),\n (289041544, 310744663, 'mix_dressing_core'),\n (310744663, 325413438, 'mix_dressing_post')]"
     },
     "execution_count": 7,
     "metadata": {},
     "output_type": "execute_result"
    }
   ],
   "source": [
    "_min = act_low_level[0][0]\n",
    "act_low_level = [(ts - _min, te - _min, act) for (ts, te, act) in act_low_level]\n",
    "act_low_level"
   ],
   "metadata": {
    "collapsed": false,
    "ExecuteTime": {
     "end_time": "2024-04-20T18:56:49.697970500Z",
     "start_time": "2024-04-20T18:56:49.683472Z"
    }
   },
   "id": "d4765ca8f3d4aebe"
  },
  {
   "cell_type": "code",
   "execution_count": 8,
   "outputs": [
    {
     "data": {
      "text/plain": "            0          1                             2\n0           0   23069982               cut_tomato_prep\n1    23069982   52207504               cut_tomato_core\n2    52207504   53174309               cut_tomato_post\n3    53174309   55808021   place_tomato_into_bowl_prep\n4    55808021   64375919   place_tomato_into_bowl_core\n5    64842653   70876854               cut_tomato_prep\n6    70876854   88112664               cut_tomato_core\n7    88112664   90046276   place_tomato_into_bowl_prep\n8    90046276   91013081   place_tomato_into_bowl_core\n9    96913929  115349912               cut_cheese_prep\n10  115349912  150288267               cut_cheese_core\n11  150288267  158156065               cut_cheese_post\n12  158156065  159622942   place_cheese_into_bowl_prep\n13  159622942  163056769   place_cheese_into_bowl_core\n14  163056769  165057057   place_cheese_into_bowl_post\n15  165423776  188893816              cut_lettuce_prep\n16  188893816  198028462              cut_lettuce_core\n17  198028462  201628980  place_lettuce_into_bowl_prep\n18  201628980  212197166  place_lettuce_into_bowl_core\n19  212197166  215064244  place_lettuce_into_bowl_post\n20  225832459  230533134                 add_salt_prep\n21  230533134  232966817                 add_salt_core\n22  232966817  234733738                 add_salt_post\n23  235467177  247802283              add_vinegar_prep\n24  247802283  250602686              add_vinegar_core\n25  250602686  260570785              add_vinegar_post\n26  261137533  266938367                  add_oil_prep\n27  266938367  272772539                  add_oil_core\n28  272772539  277373200                  add_oil_post\n29  278039962  285107645               add_pepper_prep\n30  285107645  286307817               add_pepper_core\n31  286307817  287941386               add_pepper_post\n32  288174752  289041544             mix_dressing_prep\n33  289041544  310744663             mix_dressing_core\n34  310744663  325413438             mix_dressing_post",
      "text/html": "<div>\n<style scoped>\n    .dataframe tbody tr th:only-of-type {\n        vertical-align: middle;\n    }\n\n    .dataframe tbody tr th {\n        vertical-align: top;\n    }\n\n    .dataframe thead th {\n        text-align: right;\n    }\n</style>\n<table border=\"1\" class=\"dataframe\">\n  <thead>\n    <tr style=\"text-align: right;\">\n      <th></th>\n      <th>0</th>\n      <th>1</th>\n      <th>2</th>\n    </tr>\n  </thead>\n  <tbody>\n    <tr>\n      <th>0</th>\n      <td>0</td>\n      <td>23069982</td>\n      <td>cut_tomato_prep</td>\n    </tr>\n    <tr>\n      <th>1</th>\n      <td>23069982</td>\n      <td>52207504</td>\n      <td>cut_tomato_core</td>\n    </tr>\n    <tr>\n      <th>2</th>\n      <td>52207504</td>\n      <td>53174309</td>\n      <td>cut_tomato_post</td>\n    </tr>\n    <tr>\n      <th>3</th>\n      <td>53174309</td>\n      <td>55808021</td>\n      <td>place_tomato_into_bowl_prep</td>\n    </tr>\n    <tr>\n      <th>4</th>\n      <td>55808021</td>\n      <td>64375919</td>\n      <td>place_tomato_into_bowl_core</td>\n    </tr>\n    <tr>\n      <th>5</th>\n      <td>64842653</td>\n      <td>70876854</td>\n      <td>cut_tomato_prep</td>\n    </tr>\n    <tr>\n      <th>6</th>\n      <td>70876854</td>\n      <td>88112664</td>\n      <td>cut_tomato_core</td>\n    </tr>\n    <tr>\n      <th>7</th>\n      <td>88112664</td>\n      <td>90046276</td>\n      <td>place_tomato_into_bowl_prep</td>\n    </tr>\n    <tr>\n      <th>8</th>\n      <td>90046276</td>\n      <td>91013081</td>\n      <td>place_tomato_into_bowl_core</td>\n    </tr>\n    <tr>\n      <th>9</th>\n      <td>96913929</td>\n      <td>115349912</td>\n      <td>cut_cheese_prep</td>\n    </tr>\n    <tr>\n      <th>10</th>\n      <td>115349912</td>\n      <td>150288267</td>\n      <td>cut_cheese_core</td>\n    </tr>\n    <tr>\n      <th>11</th>\n      <td>150288267</td>\n      <td>158156065</td>\n      <td>cut_cheese_post</td>\n    </tr>\n    <tr>\n      <th>12</th>\n      <td>158156065</td>\n      <td>159622942</td>\n      <td>place_cheese_into_bowl_prep</td>\n    </tr>\n    <tr>\n      <th>13</th>\n      <td>159622942</td>\n      <td>163056769</td>\n      <td>place_cheese_into_bowl_core</td>\n    </tr>\n    <tr>\n      <th>14</th>\n      <td>163056769</td>\n      <td>165057057</td>\n      <td>place_cheese_into_bowl_post</td>\n    </tr>\n    <tr>\n      <th>15</th>\n      <td>165423776</td>\n      <td>188893816</td>\n      <td>cut_lettuce_prep</td>\n    </tr>\n    <tr>\n      <th>16</th>\n      <td>188893816</td>\n      <td>198028462</td>\n      <td>cut_lettuce_core</td>\n    </tr>\n    <tr>\n      <th>17</th>\n      <td>198028462</td>\n      <td>201628980</td>\n      <td>place_lettuce_into_bowl_prep</td>\n    </tr>\n    <tr>\n      <th>18</th>\n      <td>201628980</td>\n      <td>212197166</td>\n      <td>place_lettuce_into_bowl_core</td>\n    </tr>\n    <tr>\n      <th>19</th>\n      <td>212197166</td>\n      <td>215064244</td>\n      <td>place_lettuce_into_bowl_post</td>\n    </tr>\n    <tr>\n      <th>20</th>\n      <td>225832459</td>\n      <td>230533134</td>\n      <td>add_salt_prep</td>\n    </tr>\n    <tr>\n      <th>21</th>\n      <td>230533134</td>\n      <td>232966817</td>\n      <td>add_salt_core</td>\n    </tr>\n    <tr>\n      <th>22</th>\n      <td>232966817</td>\n      <td>234733738</td>\n      <td>add_salt_post</td>\n    </tr>\n    <tr>\n      <th>23</th>\n      <td>235467177</td>\n      <td>247802283</td>\n      <td>add_vinegar_prep</td>\n    </tr>\n    <tr>\n      <th>24</th>\n      <td>247802283</td>\n      <td>250602686</td>\n      <td>add_vinegar_core</td>\n    </tr>\n    <tr>\n      <th>25</th>\n      <td>250602686</td>\n      <td>260570785</td>\n      <td>add_vinegar_post</td>\n    </tr>\n    <tr>\n      <th>26</th>\n      <td>261137533</td>\n      <td>266938367</td>\n      <td>add_oil_prep</td>\n    </tr>\n    <tr>\n      <th>27</th>\n      <td>266938367</td>\n      <td>272772539</td>\n      <td>add_oil_core</td>\n    </tr>\n    <tr>\n      <th>28</th>\n      <td>272772539</td>\n      <td>277373200</td>\n      <td>add_oil_post</td>\n    </tr>\n    <tr>\n      <th>29</th>\n      <td>278039962</td>\n      <td>285107645</td>\n      <td>add_pepper_prep</td>\n    </tr>\n    <tr>\n      <th>30</th>\n      <td>285107645</td>\n      <td>286307817</td>\n      <td>add_pepper_core</td>\n    </tr>\n    <tr>\n      <th>31</th>\n      <td>286307817</td>\n      <td>287941386</td>\n      <td>add_pepper_post</td>\n    </tr>\n    <tr>\n      <th>32</th>\n      <td>288174752</td>\n      <td>289041544</td>\n      <td>mix_dressing_prep</td>\n    </tr>\n    <tr>\n      <th>33</th>\n      <td>289041544</td>\n      <td>310744663</td>\n      <td>mix_dressing_core</td>\n    </tr>\n    <tr>\n      <th>34</th>\n      <td>310744663</td>\n      <td>325413438</td>\n      <td>mix_dressing_post</td>\n    </tr>\n  </tbody>\n</table>\n</div>"
     },
     "execution_count": 8,
     "metadata": {},
     "output_type": "execute_result"
    }
   ],
   "source": [
    "pd.DataFrame(act_low_level)"
   ],
   "metadata": {
    "collapsed": false,
    "ExecuteTime": {
     "end_time": "2024-04-20T18:56:50.489431600Z",
     "start_time": "2024-04-20T18:56:50.464921500Z"
    }
   },
   "id": "ceaf4cd33c28fb22"
  },
  {
   "cell_type": "code",
   "execution_count": 9,
   "outputs": [],
   "source": [
    "for_df = []\n",
    "\n",
    "for i, filename in enumerate(os.listdir(\"data/activityAnnotations\")):\n",
    "    trace = []\n",
    "    with open(os.path.join(\"data/activityAnnotations\", filename), 'r') as f:\n",
    "        for line in f:\n",
    "            ts, te, act = line.split()\n",
    "            if act not in high_level:\n",
    "                trace.append((int(ts), int(te), act))\n",
    "        trace = sorted(trace, key=lambda x: x[0])\n",
    "        _min = trace[0][0]\n",
    "        for_df.extend([(i, ts - _min, te - _min, act) for (ts, te, act) in trace])"
   ],
   "metadata": {
    "collapsed": false,
    "ExecuteTime": {
     "end_time": "2024-04-20T18:56:51.339477500Z",
     "start_time": "2024-04-20T18:56:51.325978300Z"
    }
   },
   "id": "dadbd4b09bef721d"
  },
  {
   "cell_type": "code",
   "execution_count": 10,
   "outputs": [
    {
     "data": {
      "text/plain": "[(0, 0, 23069982, 'cut_tomato_prep'),\n (0, 23069982, 52207504, 'cut_tomato_core'),\n (0, 52207504, 53174309, 'cut_tomato_post'),\n (0, 53174309, 55808021, 'place_tomato_into_bowl_prep'),\n (0, 55808021, 64375919, 'place_tomato_into_bowl_core'),\n (0, 64842653, 70876854, 'cut_tomato_prep'),\n (0, 70876854, 88112664, 'cut_tomato_core'),\n (0, 88112664, 90046276, 'place_tomato_into_bowl_prep'),\n (0, 90046276, 91013081, 'place_tomato_into_bowl_core'),\n (0, 96913929, 115349912, 'cut_cheese_prep'),\n (0, 115349912, 150288267, 'cut_cheese_core'),\n (0, 150288267, 158156065, 'cut_cheese_post'),\n (0, 158156065, 159622942, 'place_cheese_into_bowl_prep'),\n (0, 159622942, 163056769, 'place_cheese_into_bowl_core'),\n (0, 163056769, 165057057, 'place_cheese_into_bowl_post'),\n (0, 165423776, 188893816, 'cut_lettuce_prep'),\n (0, 188893816, 198028462, 'cut_lettuce_core'),\n (0, 198028462, 201628980, 'place_lettuce_into_bowl_prep'),\n (0, 201628980, 212197166, 'place_lettuce_into_bowl_core'),\n (0, 212197166, 215064244, 'place_lettuce_into_bowl_post'),\n (0, 225832459, 230533134, 'add_salt_prep'),\n (0, 230533134, 232966817, 'add_salt_core'),\n (0, 232966817, 234733738, 'add_salt_post'),\n (0, 235467177, 247802283, 'add_vinegar_prep'),\n (0, 247802283, 250602686, 'add_vinegar_core'),\n (0, 250602686, 260570785, 'add_vinegar_post'),\n (0, 261137533, 266938367, 'add_oil_prep'),\n (0, 266938367, 272772539, 'add_oil_core'),\n (0, 272772539, 277373200, 'add_oil_post'),\n (0, 278039962, 285107645, 'add_pepper_prep'),\n (0, 285107645, 286307817, 'add_pepper_core'),\n (0, 286307817, 287941386, 'add_pepper_post'),\n (0, 288174752, 289041544, 'mix_dressing_prep'),\n (0, 289041544, 310744663, 'mix_dressing_core'),\n (0, 310744663, 325413438, 'mix_dressing_post'),\n (1, 0, 5934186, 'add_salt_prep'),\n (1, 5934186, 12401782, 'add_salt_core'),\n (1, 12401782, 14235379, 'add_salt_post'),\n (1, 15702257, 17269149, 'add_pepper_prep'),\n (1, 17269149, 22569910, 'add_pepper_core'),\n (1, 22569910, 25036932, 'add_pepper_post'),\n (1, 25903723, 28270730, 'add_vinegar_prep'),\n (1, 28270730, 35971837, 'add_vinegar_core'),\n (1, 35971837, 40205779, 'add_vinegar_post'),\n (1, 40772527, 47340137, 'add_oil_prep'),\n (1, 47340137, 51407389, 'add_oil_core'),\n (1, 51407389, 56708150, 'add_oil_post'),\n (1, 56508122, 56874841, 'mix_dressing_prep'),\n (1, 56874841, 63509128, 'mix_dressing_core'),\n (1, 63509128, 65342725, 'mix_dressing_post'),\n (1, 67042969, 86245729, 'cut_cheese_prep'),\n (1, 86245729, 114816502, 'cut_cheese_core'),\n (1, 114816502, 119517178, 'cut_cheese_post'),\n (1, 118983768, 129952011, 'cut_tomato_prep'),\n (1, 129952011, 149054757, 'cut_tomato_core'),\n (1, 149054757, 152221879, 'cut_tomato_post'),\n (1, 154022137, 168924279, 'peel_cucumber_prep'),\n (1, 168924279, 182859615, 'peel_cucumber_core'),\n (1, 182859615, 183959774, 'peel_cucumber_post'),\n (1, 184426507, 186226766, 'peel_cucumber_prep'),\n (1, 186226766, 218731438, 'peel_cucumber_core'),\n (1, 218731438, 231966674, 'peel_cucumber_post'),\n (1, 238834327, 242834902, 'cut_cucumber_prep'),\n (1, 242834902, 271472352, 'cut_cucumber_core'),\n (1, 271472352, 273372625, 'cut_cucumber_post'),\n (1, 273372625, 280140264, 'place_cucumber_into_bowl_prep'),\n (1, 280140264, 288674824, 'place_cucumber_into_bowl_core'),\n (1, 288674824, 289508277, 'place_cucumber_into_bowl_post'),\n (1, 289508277, 291141845, 'place_tomato_into_bowl_prep'),\n (1, 291141845, 292508709, 'place_tomato_into_bowl_core'),\n (1, 292808752, 293575529, 'place_cucumber_into_bowl_core'),\n (1, 293575529, 295542478, 'place_cucumber_into_bowl_post'),\n (1, 296042550, 310911354, 'cut_lettuce_prep'),\n (1, 310911354, 319279223, 'cut_lettuce_core'),\n (1, 319279223, 321712906, 'place_lettuce_into_bowl_prep'),\n (1, 321712906, 327847121, 'place_lettuce_into_bowl_core'),\n (1, 328213840, 334048012, 'add_dressing_prep'),\n (1, 334048012, 339548803, 'add_dressing_core'),\n (1, 339548803, 341582429, 'add_dressing_post'),\n (1, 344182802, 349183521, 'mix_ingredients_prep'),\n (1, 349183521, 358218153, 'mix_ingredients_core'),\n (1, 358251491, 359718369, 'serve_salad_onto_plate_prep'),\n (1, 359718369, 372420194, 'serve_salad_onto_plate_core'),\n (1, 372420194, 377954323, 'serve_salad_onto_plate_post'),\n (2, 0, 25937062, 'cut_cheese_prep'),\n (2, 25937062, 41072570, 'cut_cheese_core'),\n (2, 41072570, 50407245, 'cut_cheese_post'),\n (2, 50407245, 53807734, 'place_cheese_into_bowl_prep'),\n (2, 53807734, 54841216, 'place_cheese_into_bowl_core'),\n (2, 54841216, 56608137, 'place_cheese_into_bowl_post'),\n (2, 58441733, 67309675, 'cut_tomato_prep'),\n (2, 67309675, 91613168, 'cut_tomato_core'),\n (2, 91613168, 92446621, 'place_tomato_into_bowl_prep'),\n (2, 92446621, 95813772, 'place_tomato_into_bowl_core'),\n (2, 95813772, 96847253, 'cut_tomato_prep'),\n (2, 96847253, 97080620, 'cut_tomato_core'),\n (2, 97080620, 98180778, 'place_tomato_into_bowl_prep'),\n (2, 98180778, 99147584, 'place_tomato_into_bowl_core'),\n (2, 99580980, 99947699, 'mix_ingredients_prep'),\n (2, 99947699, 100814490, 'mix_ingredients_core'),\n (2, 100814490, 101814634, 'mix_ingredients_post'),\n (2, 101814634, 102448058, 'place_tomato_into_bowl_core'),\n (2, 102448058, 103448202, 'place_tomato_into_bowl_post'),\n (2, 104815065, 112082777, 'cut_lettuce_prep'),\n (2, 112082777, 126884904, 'cut_lettuce_core'),\n (2, 126884904, 129118558, 'place_lettuce_into_bowl_prep'),\n (2, 129118558, 132018975, 'place_lettuce_into_bowl_core'),\n (2, 132819090, 136752989, 'cut_lettuce_prep'),\n (2, 136752989, 144187391, 'cut_lettuce_core'),\n (2, 144187391, 145387563, 'place_lettuce_into_bowl_prep'),\n (2, 145387563, 150621649, 'place_lettuce_into_bowl_core'),\n (2, 150621649, 153155347, 'place_lettuce_into_bowl_post'),\n (2, 154288843, 158456108, 'peel_cucumber_prep'),\n (2, 158456108, 200395470, 'peel_cucumber_core'),\n (2, 200395470, 208429958, 'peel_cucumber_post'),\n (2, 208429958, 212030475, 'cut_cucumber_prep'),\n (2, 212030475, 231133221, 'cut_cucumber_core'),\n (2, 231133221, 232233379, 'place_cucumber_into_bowl_prep'),\n (2, 232233379, 233166847, 'place_cucumber_into_bowl_core'),\n (2, 233833609, 241801421, 'cut_cucumber_core'),\n (2, 241801421, 243001593, 'place_cucumber_into_bowl_prep'),\n (2, 243001593, 245201910, 'place_cucumber_into_bowl_core'),\n (2, 245201910, 247135521, 'place_cucumber_into_bowl_post'),\n (2, 252136240, 268238554, 'add_vinegar_prep'),\n (2, 268238554, 269772108, 'add_vinegar_core'),\n (2, 269772108, 273639330, 'add_vinegar_post'),\n (2, 273739345, 278773402, 'add_oil_prep'),\n (2, 278773402, 280807027, 'add_oil_core'),\n (2, 280807027, 283440739, 'add_oil_post'),\n (2, 284074163, 285574379, 'add_salt_prep'),\n (2, 285574379, 288874853, 'add_salt_core'),\n (2, 288874853, 289941673, 'add_salt_post'),\n (2, 289708307, 291775270, 'add_pepper_prep'),\n (2, 291775270, 297609442, 'add_pepper_core'),\n (2, 297609442, 299709744, 'add_pepper_post'),\n (2, 299809758, 303776995, 'mix_ingredients_prep'),\n (2, 303776995, 325113395, 'mix_ingredients_core'),\n (2, 325113395, 325513453, 'mix_ingredients_post'),\n (2, 327513740, 330214128, 'serve_salad_onto_plate_prep'),\n (2, 330214128, 343916098, 'serve_salad_onto_plate_core'),\n (2, 343916098, 347049882, 'serve_salad_onto_plate_post'),\n (3, 0, 5367438, 'cut_tomato_prep'),\n (3, 5367438, 28670787, 'cut_tomato_core'),\n (3, 28670787, 31104470, 'place_tomato_into_bowl_prep'),\n (3, 31104470, 41005894, 'place_tomato_into_bowl_core'),\n (3, 44773102, 54041100, 'peel_cucumber_prep'),\n (3, 54041100, 77977874, 'peel_cucumber_core'),\n (3, 77977874, 81645068, 'peel_cucumber_post'),\n (3, 83311974, 88646074, 'cut_cucumber_prep'),\n (3, 88646074, 110349194, 'cut_cucumber_core'),\n (3, 110349194, 111149309, 'place_cucumber_into_bowl_prep'),\n (3, 111149309, 116116689, 'place_cucumber_into_bowl_core'),\n (3, 120517322, 138186528, 'cut_cheese_prep'),\n (3, 138186528, 153922123, 'cut_cheese_core'),\n (3, 153922123, 154488871, 'cut_cheese_post'),\n (3, 154488871, 156422482, 'place_cheese_into_bowl_prep'),\n (3, 156422482, 164890366, 'place_cheese_into_bowl_core'),\n (3, 168324193, 173124883, 'cut_lettuce_prep'),\n (3, 173124883, 181959486, 'cut_lettuce_core'),\n (3, 181959486, 183226335, 'cut_lettuce_post'),\n (3, 183959774, 188827140, 'cut_lettuce_prep'),\n (3, 188827140, 196294880, 'cut_lettuce_core'),\n (3, 196294880, 197495052, 'place_lettuce_into_bowl_prep'),\n (3, 197495052, 202495771, 'place_lettuce_into_bowl_core'),\n (3, 202495771, 205362850, 'place_lettuce_into_bowl_post'),\n (3, 206262979, 207829871, 'mix_ingredients_prep'),\n (3, 207829871, 215697669, 'mix_ingredients_core'),\n (3, 215697669, 219798258, 'mix_ingredients_post'),\n (3, 220231654, 222231941, 'add_vinegar_prep'),\n (3, 222231941, 224565610, 'add_vinegar_core'),\n (3, 224565610, 228499509, 'add_vinegar_post'),\n (3, 227299336, 231399925, 'add_oil_prep'),\n (3, 231399925, 233633580, 'add_oil_core'),\n (3, 233633580, 237467464, 'add_oil_post'),\n (3, 236167277, 239134370, 'add_salt_prep'),\n (3, 239134370, 240967967, 'add_salt_core'),\n (3, 240967967, 242834902, 'add_salt_post'),\n (3, 242201478, 245701981, 'add_pepper_prep'),\n (3, 245701981, 248769089, 'add_pepper_core'),\n (3, 248769089, 250369319, 'add_pepper_post'),\n (3, 251036081, 252869678, 'mix_dressing_prep'),\n (3, 252869678, 264137964, 'mix_dressing_core'),\n (3, 264137964, 264504684, 'mix_dressing_post'),\n (3, 265738194, 269272035, 'serve_salad_onto_plate_prep'),\n (3, 269272035, 277573229, 'serve_salad_onto_plate_core'),\n (3, 277573229, 281040394, 'serve_salad_onto_plate_post'),\n (4, 0, 24703551, 'peel_cucumber_prep'),\n (4, 24703551, 101181209, 'peel_cucumber_core'),\n (4, 101181209, 103581554, 'peel_cucumber_post'),\n (4, 104314993, 111716057, 'place_cucumber_into_bowl_prep'),\n (4, 111716057, 113016244, 'place_cucumber_into_bowl_core'),\n (4, 113016244, 115383251, 'place_cucumber_into_bowl_post'),\n (4, 116916804, 134819377, 'cut_lettuce_prep'),\n (4, 134819377, 152188541, 'cut_lettuce_core'),\n (4, 152188541, 154422195, 'cut_lettuce_post'),\n (4, 154522209, 155589029, 'place_lettuce_into_bowl_prep'),\n (4, 155589029, 160256367, 'place_lettuce_into_bowl_core'),\n (4, 160523072, 166890654, 'cut_cheese_prep'),\n (4, 166890654, 179259098, 'cut_cheese_core'),\n (4, 179259098, 180092551, 'cut_cheese_post'),\n (4, 179925861, 180125889, 'place_cheese_into_bowl_prep'),\n (4, 180125889, 183092982, 'place_cheese_into_bowl_core'),\n (4, 184659874, 192594348, 'cut_tomato_prep'),\n (4, 192594348, 214564172, 'cut_tomato_core'),\n (4, 214564172, 215130921, 'cut_tomato_post'),\n (4, 215464302, 215931036, 'place_tomato_into_bowl_prep'),\n (4, 215931036, 216597798, 'place_tomato_into_bowl_core'),\n (4, 219864934, 220465021, 'mix_ingredients_prep'),\n (4, 220465021, 233500227, 'mix_ingredients_core'),\n (4, 233500227, 235333824, 'mix_ingredients_post'),\n (4, 242701550, 251969549, 'add_oil_prep'),\n (4, 251969549, 258803864, 'add_oil_core'),\n (4, 258803864, 261304224, 'add_oil_post'),\n (4, 261604267, 267605129, 'add_vinegar_prep'),\n (4, 267605129, 273772682, 'add_vinegar_core'),\n (4, 273772682, 277639905, 'add_vinegar_post'),\n (4, 277939948, 280673674, 'add_pepper_prep'),\n (4, 280673674, 282240566, 'add_pepper_core'),\n (4, 282240566, 283207372, 'add_pepper_post'),\n (4, 283674106, 285574379, 'add_salt_prep'),\n (4, 285574379, 289641630, 'add_salt_core'),\n (4, 289641630, 290941817, 'add_salt_post'),\n (4, 291675256, 292808752, 'mix_dressing_prep'),\n (4, 292808752, 307010793, 'mix_dressing_core'),\n (4, 307010793, 310878016, 'mix_dressing_post'),\n (4, 312111526, 320479396, 'serve_salad_onto_plate_prep'),\n (4, 320479396, 328680574, 'serve_salad_onto_plate_core'),\n (4, 328680574, 330080776, 'serve_salad_onto_plate_post'),\n (4, 335481552, 342615911, 'add_dressing_prep'),\n (4, 342615911, 348050025, 'add_dressing_core'),\n (4, 348050025, 348883478, 'add_dressing_post'),\n (5, 0, 2967093, 'add_oil_prep'),\n (5, 2967093, 10268143, 'add_oil_core'),\n (5, 10268143, 15668919, 'add_oil_post'),\n (5, 19002731, 22169853, 'add_vinegar_prep'),\n (5, 22169853, 27837334, 'add_vinegar_core'),\n (5, 27837334, 31871248, 'add_vinegar_post'),\n (5, 32471334, 32938068, 'add_pepper_prep'),\n (5, 32938068, 36438571, 'add_pepper_core'),\n (5, 36438571, 37772096, 'add_pepper_post'),\n (5, 38505534, 40039088, 'add_salt_prep'),\n (5, 40039088, 43439577, 'add_salt_core'),\n (5, 43439577, 45039807, 'add_salt_post'),\n (5, 46006613, 47406814, 'mix_dressing_prep'),\n (5, 47406814, 59941949, 'mix_dressing_core'),\n (5, 59941949, 60975431, 'mix_dressing_post'),\n (5, 64442596, 79511428, 'peel_cucumber_prep'),\n (5, 79511428, 97347325, 'peel_cucumber_core'),\n (5, 97347325, 98680850, 'peel_cucumber_post'),\n (5, 99080908, 99414289, 'place_cucumber_into_bowl_prep'),\n (5, 99414289, 102814778, 'place_cucumber_into_bowl_core'),\n (5, 102948130, 105715194, 'cut_cucumber_prep'),\n (5, 105715194, 133052457, 'cut_cucumber_core'),\n (5, 133052457, 134552673, 'cut_cucumber_post'),\n (5, 134552673, 135052744, 'place_cucumber_into_bowl_prep'),\n (5, 135052744, 141953736, 'place_cucumber_into_bowl_core'),\n (5, 141520341, 153988799, 'cut_tomato_prep'),\n (5, 153988799, 182492896, 'cut_tomato_core'),\n (5, 182492896, 184693213, 'cut_tomato_post'),\n (5, 182959630, 183226335, 'place_tomato_into_bowl_prep'),\n (5, 183226335, 188927154, 'place_tomato_into_bowl_core'),\n (5, 188927154, 190127327, 'place_tomato_into_bowl_post'),\n (5, 190427370, 195028031, 'cut_tomato_prep'),\n (5, 195028031, 222031913, 'cut_tomato_core'),\n (5, 222031913, 222898704, 'cut_tomato_post'),\n (5, 222798689, 224365581, 'place_tomato_into_bowl_prep'),\n (5, 224365581, 233266861, 'place_tomato_into_bowl_core'),\n (5, 233900285, 242368169, 'cut_cheese_prep'),\n (5, 242368169, 252136239, 'cut_cheese_core'),\n (5, 252136239, 253036369, 'cut_cheese_post'),\n (5, 252869678, 253869822, 'place_cheese_into_bowl_prep'),\n (5, 253869822, 260570785, 'place_cheese_into_bowl_core'),\n (5, 263671231, 279173459, 'cut_lettuce_prep'),\n (5, 279173459, 293208809, 'cut_lettuce_core'),\n (5, 293208809, 293842234, 'cut_lettuce_post'),\n (5, 294108939, 294475658, 'place_lettuce_into_bowl_prep'),\n (5, 294475658, 300176478, 'place_lettuce_into_bowl_core'),\n (5, 300309830, 300676549, 'mix_ingredients_prep'),\n (5, 300676549, 313345037, 'mix_ingredients_core'),\n (5, 313345037, 313978461, 'mix_ingredients_post'),\n (5, 318645799, 328580560, 'serve_salad_onto_plate_prep'),\n (5, 328580560, 333647955, 'serve_salad_onto_plate_core'),\n (5, 333647955, 338115264, 'serve_salad_onto_plate_post'),\n (5, 338748688, 344582860, 'add_dressing_prep'),\n (5, 344582860, 353484139, 'add_dressing_core'),\n (5, 353484139, 354784326, 'add_dressing_post'),\n (6, 0, 12068401, 'add_vinegar_prep'),\n (6, 12068401, 16035638, 'add_vinegar_core'),\n (6, 16035638, 19269436, 'add_vinegar_post'),\n (6, 19269436, 25236961, 'add_oil_prep'),\n (6, 25236961, 29037507, 'add_oil_core'),\n (6, 29037507, 38405520, 'add_oil_post'),\n (6, 39038944, 40805865, 'add_pepper_prep'),\n (6, 40805865, 43806296, 'add_pepper_core'),\n (6, 43806296, 45306512, 'add_pepper_post'),\n (6, 45106483, 46706713, 'add_salt_prep'),\n (6, 46706713, 48606986, 'add_salt_core'),\n (6, 48606986, 49673806, 'add_salt_post'),\n (6, 49240411, 51340712, 'mix_dressing_prep'),\n (6, 51340712, 58075014, 'mix_dressing_core'),\n (6, 58075014, 63342437, 'mix_dressing_post'),\n (6, 73310537, 109782446, 'peel_cucumber_prep'),\n (6, 109782446, 120984056, 'peel_cucumber_core'),\n (6, 120984056, 122384257, 'peel_cucumber_post'),\n (6, 122884329, 124751264, 'cut_cucumber_prep'),\n (6, 124751264, 140953592, 'cut_cucumber_core'),\n (6, 140953592, 141420326, 'cut_cucumber_post'),\n (6, 141853722, 145820959, 'peel_cucumber_prep'),\n (6, 145820959, 154488871, 'peel_cucumber_core'),\n (6, 154488871, 158522784, 'peel_cucumber_post'),\n (6, 159056194, 159822971, 'cut_cucumber_prep'),\n (6, 159822971, 170391157, 'cut_cucumber_core'),\n (6, 170391157, 180692637, 'cut_cucumber_post'),\n (6, 180759314, 182159515, 'place_cucumber_into_bowl_prep'),\n (6, 182159515, 187993687, 'place_cucumber_into_bowl_core'),\n (6, 189093845, 200128764, 'cut_cheese_prep'),\n (6, 200128764, 232066688, 'cut_cheese_core'),\n (6, 232066688, 233233522, 'cut_cheese_post'),\n (6, 233566904, 235100457, 'place_cheese_into_bowl_prep'),\n (6, 235100457, 241734744, 'place_cheese_into_bowl_core'),\n (6, 243935061, 254669937, 'cut_tomato_prep'),\n (6, 254669937, 290841802, 'cut_tomato_core'),\n (6, 290841802, 291475227, 'cut_tomato_post'),\n (6, 291841946, 292475371, 'place_tomato_into_bowl_prep'),\n (6, 292475371, 300509859, 'place_tomato_into_bowl_core'),\n (6, 301409988, 310611311, 'cut_lettuce_prep'),\n (6, 310611311, 316612173, 'cut_lettuce_core'),\n (6, 316612173, 317445626, 'cut_lettuce_post'),\n (6, 317745669, 318779151, 'place_lettuce_into_bowl_prep'),\n (6, 318779151, 322979755, 'place_lettuce_into_bowl_core'),\n (6, 322946417, 325213409, 'cut_lettuce_prep'),\n (6, 325213409, 326780301, 'cut_lettuce_core'),\n (6, 326780301, 327747107, 'cut_lettuce_post'),\n (6, 327213697, 327713769, 'place_lettuce_into_bowl_prep'),\n (6, 327713769, 328313855, 'place_lettuce_into_bowl_core'),\n (6, 328313855, 331480977, 'place_lettuce_into_bowl_post'),\n (6, 331480977, 332381106, 'mix_ingredients_prep'),\n (6, 332381106, 346283104, 'mix_ingredients_core'),\n (6, 346283104, 348150039, 'mix_ingredients_post'),\n (6, 355684456, 359118282, 'serve_salad_onto_plate_prep'),\n (6, 359118282, 380054625, 'serve_salad_onto_plate_core'),\n (6, 380054625, 392256379, 'serve_salad_onto_plate_post'),\n (6, 392823127, 396323630, 'add_dressing_prep'),\n (6, 396323630, 408358693, 'add_dressing_core'),\n (6, 408358693, 411959211, 'add_dressing_post'),\n (7, 0, 12635149, 'peel_cucumber_prep'),\n (7, 12635149, 41405951, 'peel_cucumber_core'),\n (7, 41405951, 41705994, 'peel_cucumber_post'),\n (7, 41705994, 43806296, 'cut_cucumber_prep'),\n (7, 43806296, 75177472, 'cut_cucumber_core'),\n (7, 75177472, 80478234, 'cut_cucumber_post'),\n (7, 81845097, 82545197, 'place_cucumber_into_bowl_prep'),\n (7, 82545197, 90246304, 'place_cucumber_into_bowl_core'),\n (7, 99847684, 103214835, 'cut_tomato_prep'),\n (7, 103214835, 116916804, 'cut_tomato_core'),\n (7, 116916804, 117650243, 'cut_tomato_post'),\n (7, 118150315, 119883897, 'place_tomato_into_bowl_prep'),\n (7, 119883897, 127384975, 'place_tomato_into_bowl_core'),\n (7, 127384975, 128051738, 'place_tomato_into_bowl_post'),\n (7, 128551810, 135719507, 'cut_lettuce_prep'),\n (7, 135719507, 149021419, 'cut_lettuce_core'),\n (7, 149021419, 149721519, 'cut_lettuce_post'),\n (7, 150054900, 151188397, 'place_lettuce_into_bowl_prep'),\n (7, 151188397, 154888929, 'place_lettuce_into_bowl_core'),\n (7, 155322324, 158489446, 'place_lettuce_into_bowl_prep'),\n (7, 158489446, 161223172, 'place_lettuce_into_bowl_core'),\n (7, 161789920, 165957186, 'place_lettuce_into_bowl_prep'),\n (7, 165957186, 169057632, 'place_lettuce_into_bowl_core'),\n (7, 171557991, 185193284, 'cut_cheese_prep'),\n (7, 185193284, 209263410, 'cut_cheese_core'),\n (7, 209263410, 210496921, 'cut_cheese_post'),\n (7, 210563597, 214497496, 'place_cheese_into_bowl_prep'),\n (7, 214497496, 222765351, 'place_cheese_into_bowl_core'),\n (7, 224165552, 224498934, 'mix_ingredients_prep'),\n (7, 224498934, 233333537, 'mix_ingredients_core'),\n (7, 233333537, 241401363, 'cut_tomato_prep'),\n (7, 241401363, 242934917, 'cut_tomato_core'),\n (7, 242934917, 243668355, 'cut_tomato_post'),\n (7, 243668355, 244668499, 'place_tomato_into_bowl_prep'),\n (7, 244668499, 245135233, 'place_tomato_into_bowl_core'),\n (7, 245135233, 245835334, 'mix_ingredients_prep'),\n (7, 245835334, 254936642, 'mix_ingredients_core'),\n (7, 254936642, 255770095, 'mix_ingredients_post'),\n (7, 260837490, 280940379, 'add_oil_prep'),\n (7, 280940379, 283940810, 'add_oil_core'),\n (7, 283940810, 299009643, 'add_oil_post'),\n (7, 299743082, 304643786, 'add_vinegar_prep'),\n (7, 304643786, 308377656, 'add_vinegar_core'),\n (7, 308377656, 310444620, 'add_vinegar_post'),\n (7, 311078044, 311278073, 'mix_dressing_prep'),\n (7, 311278073, 318245741, 'mix_dressing_core'),\n (7, 317278935, 320312705, 'add_pepper_prep'),\n (7, 318245741, 318412432, 'mix_dressing_post'),\n (7, 320312705, 322479683, 'add_pepper_core'),\n (7, 322479683, 323379812, 'add_pepper_post'),\n (7, 323846546, 332114401, 'mix_dressing_core'),\n (7, 332114401, 332314430, 'mix_dressing_post'),\n (7, 333314574, 337448501, 'serve_salad_onto_plate_prep'),\n (7, 337448501, 360085088, 'serve_salad_onto_plate_core'),\n (7, 360085088, 365885922, 'serve_salad_onto_plate_post'),\n (7, 367419475, 368819677, 'add_dressing_prep'),\n (7, 368819677, 378754438, 'add_dressing_core'),\n (7, 378754438, 382421632, 'add_dressing_post'),\n (8, 0, 5867510, 'add_vinegar_prep'),\n (8, 5867510, 11568330, 'add_vinegar_core'),\n (8, 11568330, 15268861, 'add_vinegar_post'),\n (8, 15802271, 19569480, 'add_oil_prep'),\n (8, 19569480, 25503666, 'add_oil_core'),\n (8, 25503666, 30237680, 'add_oil_post'),\n (8, 30871104, 33504816, 'add_pepper_prep'),\n (8, 33504816, 40405808, 'add_pepper_core'),\n (8, 40405808, 41839347, 'add_pepper_post'),\n (8, 42339419, 43006181, 'mix_dressing_prep'),\n (8, 43006181, 46106627, 'mix_dressing_core'),\n (8, 46106627, 46506685, 'mix_dressing_post'),\n (8, 46873404, 48540310, 'add_salt_prep'),\n (8, 48540310, 51874123, 'add_salt_core'),\n (8, 51874123, 53007619, 'add_salt_post'),\n (8, 53374338, 53841072, 'mix_dressing_prep'),\n (8, 53841072, 58508410, 'mix_dressing_core'),\n (8, 58508410, 59108496, 'mix_dressing_post'),\n (8, 60675388, 73010494, 'cut_lettuce_prep'),\n (8, 73010494, 91613168, 'cut_lettuce_core'),\n (8, 91613168, 96513872, 'cut_lettuce_post'),\n (8, 96513872, 100281080, 'place_lettuce_into_bowl_prep'),\n (8, 100281080, 102414720, 'place_lettuce_into_bowl_core'),\n (8, 102414720, 104781727, 'place_lettuce_into_bowl_post'),\n (8, 105348475, 114183078, 'cut_tomato_prep'),\n (8, 114183078, 127618343, 'cut_tomato_core'),\n (8, 127618343, 129885335, 'place_tomato_into_bowl_prep'),\n (8, 129885335, 131285536, 'place_tomato_into_bowl_core'),\n (8, 131285536, 132319018, 'place_tomato_into_bowl_post'),\n (8, 132852428, 141253636, 'peel_cucumber_prep'),\n (8, 141253636, 160923130, 'peel_cucumber_core'),\n (8, 160923130, 162956755, 'peel_cucumber_post'),\n (8, 164090251, 171324625, 'cut_cucumber_prep'),\n (8, 171324625, 207263123, 'cut_cucumber_core'),\n (8, 207263123, 208363281, 'cut_cucumber_post'),\n (8, 208796677, 215697669, 'place_cucumber_into_bowl_prep'),\n (8, 215697669, 220898416, 'place_cucumber_into_bowl_core'),\n (8, 220898416, 226799265, 'place_cucumber_into_bowl_post'),\n (8, 226932617, 238800990, 'cut_cheese_prep'),\n (8, 238800990, 251936211, 'cut_cheese_core'),\n (8, 251936211, 252769664, 'cut_cheese_post'),\n (8, 253269736, 254869966, 'place_cheese_into_bowl_core'),\n (8, 254869966, 255536728, 'place_cheese_into_bowl_post'),\n (8, 255536728, 258203778, 'mix_ingredients_prep'),\n (8, 258203778, 270505546, 'mix_ingredients_core'),\n (8, 270505546, 274739488, 'mix_ingredients_post'),\n (8, 275639618, 276206366, 'add_dressing_prep'),\n (8, 276206366, 280373631, 'add_dressing_core'),\n (8, 280373631, 281873847, 'add_dressing_post'),\n (8, 282340581, 283374063, 'mix_ingredients_prep'),\n (8, 283374063, 290841803, 'mix_ingredients_core'),\n (8, 290841803, 292342018, 'mix_ingredients_post'),\n (8, 294042263, 298542910, 'serve_salad_onto_plate_prep'),\n (8, 298542910, 320612748, 'serve_salad_onto_plate_core'),\n (8, 320612748, 327380388, 'serve_salad_onto_plate_post'),\n (9, 0, 6367581, 'add_vinegar_prep'),\n (9, 6367581, 10968243, 'add_vinegar_core'),\n (9, 10968243, 15868947, 'add_vinegar_post'),\n (9, 16502371, 20102889, 'add_oil_prep'),\n (9, 20102889, 29070845, 'add_oil_core'),\n (9, 29070845, 36838628, 'add_oil_post'),\n (9, 36071851, 40139102, 'add_pepper_prep'),\n (9, 40139102, 45406526, 'add_pepper_core'),\n (9, 45406526, 46673375, 'add_pepper_post'),\n (9, 47040094, 49240410, 'add_salt_prep'),\n (9, 49240410, 55274611, 'add_salt_core'),\n (9, 55274611, 56808165, 'add_salt_post'),\n (9, 57408251, 57974999, 'mix_dressing_prep'),\n (9, 57974999, 67042969, 'mix_dressing_core'),\n (9, 67042969, 68809890, 'mix_dressing_post'),\n (9, 70043400, 90012937, 'cut_tomato_prep'),\n (9, 90012937, 102514734, 'cut_tomato_core'),\n (9, 102514734, 103414863, 'cut_tomato_post'),\n (9, 103981611, 105981899, 'place_tomato_into_bowl_prep'),\n (9, 105981899, 107882172, 'place_tomato_into_bowl_core'),\n (9, 107882172, 109349050, 'place_tomato_into_bowl_post'),\n (9, 109715769, 138019837, 'cut_tomato_prep'),\n (9, 138019837, 148621361, 'cut_tomato_core'),\n (9, 149454814, 151088382, 'place_tomato_into_bowl_prep'),\n (9, 151088382, 153255360, 'place_tomato_into_bowl_core'),\n (9, 153255360, 157289273, 'place_tomato_into_bowl_post'),\n (9, 157589316, 165957186, 'cut_lettuce_prep'),\n (9, 165957186, 177458839, 'cut_lettuce_core'),\n (9, 177458839, 179025731, 'cut_lettuce_post'),\n (9, 179492465, 181192709, 'place_lettuce_into_bowl_prep'),\n (9, 181192709, 187793658, 'place_tomato_into_bowl_core'),\n (9, 187793658, 189693931, 'place_tomato_into_bowl_post'),\n (9, 190694075, 200695512, 'cut_cheese_prep'),\n (9, 200695512, 215130920, 'cut_cheese_core'),\n (9, 215130920, 216031050, 'cut_cheese_post'),\n (9, 216764488, 221131783, 'place_cheese_into_bowl_core'),\n (9, 221765207, 226365868, 'mix_ingredients_prep'),\n (9, 226365868, 227832746, 'mix_ingredients_core'),\n (9, 227832746, 234333680, 'mix_ingredients_post'),\n (9, 236000586, 244668499, 'peel_cucumber_prep'),\n (9, 244668499, 281040393, 'peel_cucumber_core'),\n (9, 281040393, 282840652, 'peel_cucumber_post'),\n (9, 282840652, 283974148, 'cut_cucumber_prep'),\n (9, 283974148, 307344174, 'cut_cucumber_core'),\n (9, 307344174, 308110951, 'cut_cucumber_post'),\n (9, 308110951, 310878015, 'place_cucumber_into_bowl_prep'),\n (9, 310878015, 312511583, 'place_cucumber_into_bowl_core'),\n (9, 312511583, 314445195, 'place_cucumber_into_bowl_post'),\n (9, 314745238, 315812058, 'mix_ingredients_prep'),\n (9, 315812058, 327647092, 'mix_ingredients_core'),\n (9, 327647092, 329414013, 'mix_ingredients_post'),\n (9, 330114113, 331647667, 'add_dressing_prep'),\n (9, 331647667, 335348199, 'add_dressing_core'),\n (9, 335348199, 336615048, 'add_dressing_post'),\n (9, 337081781, 337915235, 'mix_ingredients_prep'),\n (9, 337915235, 345883046, 'mix_ingredients_core'),\n (9, 345883046, 347483276, 'mix_ingredients_post'),\n (9, 348383406, 352383981, 'serve_salad_onto_plate_prep'),\n (9, 352383981, 360551821, 'serve_salad_onto_plate_core'),\n (9, 360551821, 365919260, 'serve_salad_onto_plate_post'),\n (10, 0, 7401063, 'cut_tomato_prep'),\n (10, 7401063, 22169853, 'cut_tomato_core'),\n (10, 22169853, 22669925, 'cut_tomato_post'),\n (10, 23036644, 25003593, 'place_tomato_into_bowl_prep'),\n (10, 25003593, 29237535, 'place_tomato_into_bowl_core'),\n (10, 31304499, 35138383, 'peel_cucumber_prep'),\n (10, 35138383, 51474065, 'peel_cucumber_core'),\n (10, 51474065, 58408395, 'peel_cucumber_post'),\n (10, 59141833, 60942092, 'cut_cucumber_prep'),\n (10, 60942092, 72977155, 'cut_cucumber_core'),\n (10, 72977155, 74177328, 'cut_cucumber_post'),\n (10, 74510709, 81611730, 'place_cucumber_into_bowl_prep'),\n (10, 83378650, 95947123, 'cut_lettuce_prep'),\n (10, 95947123, 105381813, 'cut_lettuce_core'),\n (10, 105381813, 106181928, 'cut_lettuce_post'),\n (10, 106748676, 107882172, 'place_lettuce_into_bowl_prep'),\n (10, 107882172, 112349481, 'place_lettuce_into_bowl_core'),\n (10, 113949711, 124584573, 'cut_cheese_prep'),\n (10, 124584573, 130018687, 'cut_cheese_core'),\n (10, 130018687, 131218860, 'cut_cheese_post'),\n (10, 131452226, 131885622, 'place_cheese_into_bowl_prep'),\n (10, 131885622, 135352787, 'place_cheese_into_bowl_core'),\n (10, 139553391, 141120283, 'mix_ingredients_prep'),\n (10, 141120283, 149088095, 'mix_ingredients_core'),\n (10, 149088095, 150554972, 'mix_ingredients_post'),\n (10, 151321749, 168990955, 'add_oil_prep'),\n (10, 168990955, 173591616, 'add_oil_core'),\n (10, 173591616, 181359400, 'add_oil_post'),\n (10, 181959486, 184459845, 'add_salt_prep'),\n (10, 184459845, 189193859, 'add_salt_core'),\n (10, 189193859, 190660736, 'add_salt_post'),\n (10, 191194146, 192694362, 'add_pepper_prep'),\n (10, 192694362, 199428663, 'add_pepper_core'),\n (10, 199428663, 200162102, 'add_pepper_post'),\n (10, 200928879, 203995986, 'mix_dressing_prep'),\n (10, 203995986, 216564460, 'mix_dressing_core'),\n (10, 216564460, 219264848, 'mix_dressing_post'),\n (10, 219864934, 222965380, 'add_vinegar_prep'),\n (10, 222965380, 225132358, 'add_vinegar_core'),\n (10, 225132358, 228866228, 'add_vinegar_post'),\n (10, 229332961, 231099882, 'mix_dressing_prep'),\n (10, 231099882, 243968398, 'mix_dressing_core'),\n (10, 243968398, 248202340, 'mix_dressing_post'),\n (10, 251336124, 263637892, 'serve_salad_onto_plate_prep'),\n (10, 263637892, 276406394, 'serve_salad_onto_plate_core'),\n (10, 276406394, 280306955, 'serve_salad_onto_plate_post'),\n (11, 0, 9701395, 'cut_tomato_prep'),\n (11, 9701395, 25236961, 'cut_tomato_core'),\n (11, 25236961, 25837047, 'cut_tomato_post'),\n (11, 25970400, 28404083, 'place_tomato_into_bowl_prep'),\n (11, 28404083, 33271449, 'place_tomato_into_bowl_core'),\n (11, 33271449, 34338269, 'place_tomato_into_bowl_post'),\n (11, 34404945, 45973275, 'cut_cheese_prep'),\n (11, 45973275, 49740483, 'cut_cheese_core'),\n (11, 49740483, 50973993, 'cut_cheese_post'),\n (11, 51240698, 52207504, 'place_cheese_into_bowl_prep'),\n (11, 52207504, 56774827, 'place_cheese_into_bowl_core'),\n (11, 56774827, 59075158, 'place_cheese_into_bowl_post'),\n (11, 59108496, 68176466, 'cut_lettuce_prep'),\n (11, 68176466, 75844235, 'cut_lettuce_core'),\n (11, 75844235, 78611299, 'cut_lettuce_post'),\n (11, 79044695, 79711457, 'place_lettuce_into_bowl_prep'),\n (11, 79711457, 80811615, 'place_lettuce_into_bowl_core'),\n (11, 80811615, 87945974, 'place_lettuce_into_bowl_post'),\n (11, 87945974, 92479959, 'peel_cucumber_prep'),\n (11, 92479959, 107915511, 'peel_cucumber_core'),\n (11, 107915511, 114049726, 'peel_cucumber_post'),\n (11, 114483121, 116083351, 'cut_cucumber_prep'),\n (11, 116083351, 124884616, 'cut_cucumber_core'),\n (11, 124884616, 126418170, 'cut_cucumber_post'),\n (11, 126651537, 128385120, 'place_cucumber_into_bowl_prep'),\n (11, 128385120, 130618774, 'place_cucumber_into_bowl_core'),\n (11, 130618774, 134786040, 'place_cucumber_into_bowl_post'),\n (11, 135452802, 136652975, 'mix_ingredients_prep'),\n (11, 136652975, 145320887, 'mix_ingredients_core'),\n (11, 145320887, 151088383, 'mix_ingredients_post'),\n (11, 154555548, 157489303, 'add_oil_prep'),\n (11, 157489303, 160723101, 'add_oil_core'),\n (11, 160723101, 169791071, 'add_oil_post'),\n (11, 170091114, 176125315, 'add_vinegar_prep'),\n (11, 176125315, 181826134, 'add_vinegar_core'),\n (11, 181826134, 190327356, 'add_vinegar_post'),\n (11, 190894104, 192460996, 'add_salt_prep'),\n (11, 192460996, 197195010, 'add_salt_core'),\n (11, 197195010, 199395326, 'add_salt_post'),\n (11, 199828721, 200195441, 'add_pepper_prep'),\n (11, 200195441, 204596073, 'add_pepper_core'),\n (11, 204596073, 205329512, 'add_pepper_post'),\n (11, 205662893, 206929742, 'mix_dressing_prep'),\n (11, 206929742, 213364000, 'mix_dressing_core'),\n (11, 213364000, 215430964, 'mix_dressing_post'),\n (11, 216497784, 222431970, 'serve_salad_onto_plate_prep'),\n (11, 222431970, 228732876, 'serve_salad_onto_plate_core'),\n (11, 228732876, 230533135, 'serve_salad_onto_plate_post'),\n (11, 233233523, 235200472, 'add_dressing_prep'),\n (11, 235200472, 247102183, 'add_dressing_core'),\n (11, 247102183, 248769089, 'add_dressing_post'),\n (12, 0, 33971549, 'cut_cheese_prep'),\n (12, 33971549, 51907460, 'cut_cheese_core'),\n (12, 51907460, 61242135, 'cut_cheese_post'),\n (12, 63475790, 73677256, 'peel_cucumber_prep'),\n (12, 73677256, 121817509, 'peel_cucumber_core'),\n (12, 121817509, 135286111, 'peel_cucumber_post'),\n (12, 137186384, 140486859, 'cut_cucumber_prep'),\n (12, 140486859, 164356956, 'cut_cucumber_core'),\n (12, 164356956, 168957617, 'cut_cucumber_post'),\n (12, 173524940, 174591760, 'place_cheese_into_bowl_prep'),\n (12, 174591760, 178158940, 'place_cheese_into_bowl_core'),\n (12, 178158940, 178759026, 'place_cucumber_into_bowl_prep'),\n (12, 178759026, 184693212, 'place_cucumber_into_bowl_core'),\n (12, 184693212, 192594348, 'place_cucumber_into_bowl_post'),\n (12, 201595642, 239034356, 'cut_tomato_prep'),\n (12, 239034356, 279340149, 'cut_tomato_core'),\n (12, 279340149, 282273904, 'place_tomato_into_bowl_prep'),\n (12, 282273904, 290508421, 'place_tomato_into_bowl_core'),\n (12, 290508421, 293075457, 'place_tomato_into_bowl_post'),\n (12, 293075457, 313311699, 'cut_lettuce_prep'),\n (12, 313311699, 340215565, 'cut_lettuce_core'),\n (12, 340215565, 343149320, 'cut_lettuce_post'),\n (12, 343149320, 345116270, 'place_lettuce_into_bowl_prep'),\n (12, 345116270, 351483852, 'place_lettuce_into_bowl_core'),\n (12, 351483852, 353950873, 'place_lettuce_into_bowl_post'),\n (12, 353950873, 354717650, 'mix_ingredients_prep'),\n (12, 354717650, 368052900, 'mix_ingredients_core'),\n (12, 368052900, 375653992, 'mix_ingredients_post'),\n (12, 397057069, 407858621, 'add_vinegar_prep'),\n (12, 407858621, 411159095, 'add_vinegar_core'),\n (12, 411159095, 417460001, 'add_vinegar_post'),\n (12, 418493483, 428928316, 'add_oil_prep'),\n (12, 428928316, 434195740, 'add_oil_core'),\n (12, 434195740, 443063681, 'add_oil_post'),\n (12, 456165564, 459132657, 'add_pepper_prep'),\n (12, 459132657, 463233247, 'add_pepper_core'),\n (12, 463233247, 464733462, 'add_pepper_post'),\n (12, 465366887, 467433850, 'add_salt_prep'),\n (12, 467433850, 470334267, 'add_salt_core'),\n (12, 470334267, 471467764, 'add_salt_post'),\n (12, 471934497, 472267879, 'mix_dressing_prep'),\n (12, 472267879, 488503545, 'mix_dressing_core'),\n (12, 488536884, 491070581, 'add_dressing_prep'),\n (12, 491070581, 508706449, 'add_dressing_core'),\n (12, 508706449, 510540046, 'add_dressing_post'),\n (12, 511573528, 520808189, 'serve_salad_onto_plate_prep'),\n (12, 520808189, 540744387, 'serve_salad_onto_plate_core'),\n (12, 540744387, 547978760, 'serve_salad_onto_plate_post'),\n (13, 0, 23736745, 'cut_lettuce_prep'),\n (13, 23736745, 64175890, 'cut_lettuce_core'),\n (13, 64175890, 67109645, 'cut_lettuce_post'),\n (13, 67109645, 70143415, 'place_lettuce_into_bowl_prep'),\n (13, 70143415, 72510421, 'place_lettuce_into_bowl_core'),\n (13, 72510421, 75010781, 'place_lettuce_into_bowl_post'),\n (13, 76911054, 100047713, 'cut_cheese_prep'),\n (13, 100047713, 136986355, 'cut_cheese_core'),\n (13, 136986355, 138586585, 'cut_cheese_post'),\n (13, 138419895, 147254498, 'place_cheese_into_bowl_prep'),\n (13, 147254498, 149954886, 'place_cheese_into_bowl_core'),\n (13, 149954886, 152688612, 'place_cheese_into_bowl_post'),\n (13, 153555403, 172158077, 'cut_tomato_prep'),\n (13, 172158077, 222598660, 'cut_tomato_core'),\n (13, 222598660, 224565610, 'cut_tomato_post'),\n (13, 224565610, 225732444, 'place_tomato_into_bowl_prep'),\n (13, 225732444, 227932760, 'place_tomato_into_bowl_core'),\n (13, 227932760, 234367018, 'place_tomato_into_bowl_post'),\n (13, 234367018, 246168715, 'peel_cucumber_prep'),\n (13, 246168715, 282307242, 'peel_cucumber_core'),\n (13, 282307242, 296409269, 'peel_cucumber_post'),\n (13, 297909485, 303510290, 'cut_cucumber_prep'),\n (13, 303510290, 326046862, 'cut_cucumber_core'),\n (13, 326046862, 327347049, 'cut_cucumber_post'),\n (13, 327347049, 329414013, 'place_cucumber_into_bowl_prep'),\n (13, 329414013, 333881321, 'place_cucumber_into_bowl_core'),\n (13, 333881321, 334381393, 'place_cucumber_into_bowl_post'),\n (13, 346949866, 349416888, 'mix_ingredients_prep'),\n (13, 349416888, 363985648, 'mix_ingredients_core'),\n (13, 363985648, 366786051, 'mix_ingredients_post'),\n (13, 371620079, 378821114, 'add_vinegar_prep'),\n (13, 378821114, 381588178, 'add_vinegar_core'),\n (13, 381588178, 385222034, 'add_vinegar_post'),\n (13, 385988811, 391722968, 'add_oil_prep'),\n (13, 391722968, 396690349, 'add_oil_core'),\n (13, 396690349, 403891384, 'add_oil_post'),\n (13, 404691499, 406158376, 'add_pepper_prep'),\n (13, 406158376, 409092131, 'add_pepper_core'),\n (13, 409092131, 410559009, 'add_pepper_post'),\n (13, 411359124, 412692649, 'add_salt_prep'),\n (13, 412692649, 414026174, 'add_salt_core'),\n (13, 414026174, 415759756, 'add_salt_post'),\n (13, 416193152, 417460001, 'mix_dressing_prep'),\n (13, 417460001, 433195596, 'mix_dressing_core'),\n (13, 433228934, 444997292, 'add_dressing_core'),\n (13, 444997292, 447297623, 'add_dressing_post'),\n (13, 447564328, 453298485, 'serve_salad_onto_plate_prep'),\n (13, 453298485, 470167576, 'serve_salad_onto_plate_core'),\n (13, 470167576, 471934497, 'serve_salad_onto_plate_post'),\n (14, 0, 23536716, 'cut_lettuce_prep'),\n (14, 23536716, 94080188, 'cut_lettuce_core'),\n (14, 94080188, 97780720, 'cut_lettuce_post'),\n (14, 98480821, 101381238, 'place_lettuce_into_bowl_prep'),\n (14, 101381238, 103348187, 'place_lettuce_into_bowl_core'),\n (14, 103348187, 105581842, 'place_lettuce_into_bowl_post'),\n (14, 106548647, 121417451, 'cut_tomato_prep'),\n (14, 121417451, 137986499, 'cut_tomato_core'),\n (14, 137986499, 140886916, 'cut_tomato_post'),\n (14, 199895397, 201328937, 'cut_tomato_prep'),\n (14, 201328937, 249269160, 'cut_tomato_core'),\n (14, 249269160, 250869390, 'cut_tomato_post'),\n (14, 250869390, 252436282, 'place_tomato_into_bowl_prep'),\n (14, 252436282, 255803433, 'place_tomato_into_bowl_core'),\n (14, 255803433, 258137102, 'place_tomato_into_bowl_post'),\n (14, 258503821, 268238553, 'cut_cheese_prep'),\n (14, 268238553, 305577253, 'cut_cheese_core'),\n (14, 305577253, 309177771, 'cut_cheese_post'),\n (14, 309177771, 311644792, 'place_cheese_into_bowl_prep'),\n (14, 311644792, 313478389, 'place_cheese_into_bowl_core'),\n (14, 313478389, 315812058, 'place_cheese_into_bowl_post'),\n (14, 316278792, 317445626, 'mix_ingredients_prep'),\n (14, 317445626, 334114688, 'mix_ingredients_core'),\n (14, 334114688, 335314861, 'mix_ingredients_post'),\n (14, 337381825, 343982773, 'add_vinegar_prep'),\n (14, 343982773, 347416600, 'add_vinegar_core'),\n (14, 347416600, 351717218, 'add_vinegar_post'),\n (14, 351717218, 353650830, 'add_oil_prep'),\n (14, 353650830, 360085088, 'add_oil_core'),\n (14, 360085088, 362485433, 'add_oil_post'),\n (14, 362985505, 363152195, 'mix_dressing_prep'),\n (14, 363152195, 364852440, 'mix_dressing_core'),\n (14, 364852440, 365119145, 'mix_dressing_post'),\n (14, 365119145, 367252785, 'add_pepper_prep'),\n (14, 367252785, 377520927, 'add_pepper_core'),\n (14, 377520927, 378754438, 'add_pepper_post'),\n (14, 379354524, 381388150, 'add_salt_prep'),\n (14, 381388150, 384288567, 'add_salt_core'),\n (14, 384288567, 385822120, 'add_salt_post'),\n (14, 385588753, 392023012, 'mix_dressing_core'),\n (14, 393189846, 394323342, 'serve_salad_onto_plate_prep'),\n (14, 394323342, 403658017, 'serve_salad_onto_plate_core'),\n (14, 403658017, 405124895, 'serve_salad_onto_plate_post'),\n (14, 406525096, 409425513, 'add_dressing_prep'),\n (14, 409425513, 419593641, 'add_dressing_core'),\n (14, 419593641, 421227209, 'add_dressing_post'),\n (15, 0, 8101165, 'add_vinegar_prep'),\n (15, 8101165, 13068545, 'add_vinegar_core'),\n (15, 13068545, 18069264, 'add_vinegar_post'),\n (15, 18502660, 20202904, 'add_oil_prep'),\n (15, 20202904, 26103752, 'add_oil_core'),\n (15, 26103752, 31171147, 'add_oil_post'),\n (15, 31671219, 34071564, 'add_pepper_prep'),\n (15, 34071564, 36871966, 'add_pepper_core'),\n (15, 36871966, 37905448, 'add_pepper_post'),\n (15, 37905448, 39805721, 'add_salt_prep'),\n (15, 39805721, 42906167, 'add_salt_core'),\n (15, 42906167, 44839778, 'add_salt_post'),\n (15, 44173016, 44906455, 'mix_dressing_prep'),\n (15, 44906455, 52907605, 'mix_dressing_core'),\n (15, 52907605, 54041101, 'mix_dressing_post'),\n (15, 56641475, 60075301, 'cut_cucumber_prep'),\n (15, 60075301, 75244148, 'cut_cucumber_core'),\n (15, 75244148, 77944536, 'cut_cucumber_post'),\n (15, 77944536, 78978018, 'place_cucumber_into_bowl_prep'),\n (15, 78978018, 81745083, 'place_cucumber_into_bowl_core'),\n (15, 81745083, 84012075, 'place_cucumber_into_bowl_post'),\n (15, 84012075, 95780433, 'cut_lettuce_prep'),\n (15, 95780433, 164090251, 'cut_lettuce_core'),\n (15, 164090251, 166157215, 'cut_lettuce_post'),\n (15, 166157215, 168657575, 'place_lettuce_into_bowl_prep'),\n (15, 168657575, 171124596, 'place_lettuce_into_bowl_core'),\n (15, 171124596, 174758451, 'place_lettuce_into_bowl_post'),\n (15, 176058638, 179325775, 'cut_tomato_prep'),\n (15, 179325775, 260537447, 'cut_tomato_core'),\n (15, 260537447, 262704425, 'cut_tomato_post'),\n (15, 263204497, 265038094, 'place_tomato_into_bowl_prep'),\n (15, 265038094, 269372050, 'place_tomato_into_bowl_core'),\n (15, 269372050, 272605848, 'place_tomato_into_bowl_post'),\n (15, 273005906, 282407257, 'cut_cheese_prep'),\n (15, 282407257, 300809902, 'cut_cheese_core'),\n (15, 300809902, 302243441, 'cut_cheese_post'),\n (15, 302243441, 302976880, 'place_cheese_into_bowl_prep'),\n (15, 302976880, 308310980, 'place_cheese_into_bowl_core'),\n (15, 308310980, 309477815, 'place_lettuce_into_bowl_post'),\n (15, 309644505, 312444908, 'mix_ingredients_prep'),\n (15, 312444908, 328813927, 'mix_ingredients_core'),\n (15, 328813927, 329647380, 'mix_ingredients_post'),\n (15, 329680718, 334014675, 'serve_salad_onto_plate_prep'),\n (15, 334014675, 345282961, 'serve_salad_onto_plate_core'),\n (15, 345282961, 351717219, 'serve_salad_onto_plate_post'),\n (15, 353017406, 354017550, 'add_dressing_prep'),\n (15, 354017550, 364252354, 'add_dressing_core'),\n (15, 364252354, 365285836, 'add_dressing_post'),\n (16, 0, 8034488, 'cut_cheese_prep'),\n (16, 8034488, 28004025, 'cut_cheese_core'),\n (16, 28004025, 33604830, 'cut_cheese_post'),\n (16, 33604830, 42306081, 'cut_lettuce_prep'),\n (16, 42306081, 54307806, 'cut_lettuce_core'),\n (16, 54307806, 61142122, 'cut_lettuce_post'),\n (16, 61142122, 61675532, 'cut_cheese_prep'),\n (16, 61675532, 65009344, 'cut_cheese_core'),\n (16, 65009344, 65842797, 'cut_cheese_post'),\n (16, 65842797, 67443027, 'place_cheese_into_bowl_prep'),\n (16, 65842797, 67443027, 'place_lettuce_into_bowl_prep'),\n (16, 67443027, 68843228, 'place_cheese_into_bowl_core'),\n (16, 67443027, 68843228, 'place_lettuce_into_bowl_core'),\n (16, 68843228, 72777127, 'place_cheese_into_bowl_post'),\n (16, 68843228, 72777127, 'place_lettuce_into_bowl_post'),\n (16, 79578105, 81645068, 'peel_cucumber_prep'),\n (16, 81645068, 94613599, 'peel_cucumber_core'),\n (16, 94613599, 112116115, 'peel_cucumber_post'),\n (16, 118250330, 119583855, 'cut_cucumber_prep'),\n (16, 119583855, 123451077, 'cut_cucumber_core'),\n (16, 123451077, 124851278, 'cut_cucumber_post'),\n (16, 124851278, 125884760, 'place_cucumber_into_bowl_prep'),\n (16, 125884760, 127951724, 'place_cucumber_into_bowl_core'),\n (16, 127951724, 129785321, 'place_cucumber_into_bowl_post'),\n (16, 132919105, 140153478, 'cut_tomato_prep'),\n (16, 140153478, 206129627, 'cut_tomato_core'),\n (16, 206129627, 206729713, 'cut_tomato_post'),\n (16, 206729713, 208229929, 'place_tomato_into_bowl_prep'),\n (16, 208229929, 208529972, 'place_tomato_into_bowl_core'),\n (16, 208529972, 215130921, 'place_tomato_into_bowl_post'),\n (16, 217331237, 217664618, 'mix_ingredients_prep'),\n (16, 217664618, 222898704, 'mix_ingredients_core'),\n (16, 222898704, 224532272, 'mix_ingredients_post'),\n (16, 230033063, 239901148, 'add_vinegar_prep'),\n (16, 239901148, 242234817, 'add_vinegar_core'),\n (16, 242234817, 251369463, 'add_vinegar_post'),\n (16, 253703132, 264571360, 'add_oil_prep'),\n (16, 264571360, 267605130, 'add_oil_core'),\n (16, 267605130, 273105920, 'add_oil_post'),\n (16, 276939805, 279306812, 'add_pepper_prep'),\n (16, 279306812, 283274048, 'add_pepper_core'),\n (16, 283274048, 283974149, 'add_pepper_post'),\n (16, 284507559, 287041257, 'add_salt_prep'),\n (16, 287041257, 292242004, 'add_salt_core'),\n (16, 292242004, 292875428, 'add_salt_post'),\n (16, 295109083, 296475946, 'mix_dressing_prep'),\n (16, 296475946, 301209960, 'mix_dressing_core'),\n (16, 301209960, 306377369, 'mix_dressing_post'),\n (16, 306410707, 307344175, 'add_dressing_prep'),\n (16, 307344175, 311644793, 'add_dressing_core'),\n (16, 311644793, 314978605, 'add_dressing_post'),\n (16, 315778720, 322413007, 'mix_ingredients_prep'),\n (16, 322446345, 336114977, 'serve_salad_onto_plate_core'),\n (16, 336114977, 347549953, 'serve_salad_onto_plate_post'),\n (17, 0, 6000862, 'add_oil_prep'),\n (17, 6000862, 9301336, 'add_oil_core'),\n (17, 9301336, 12268430, 'add_oil_post'),\n (17, 12968530, 19769508, 'add_vinegar_prep'),\n (17, 19769508, 23836759, 'add_vinegar_core'),\n (17, 23836759, 27370600, 'add_vinegar_post'),\n (17, 28004025, 29304211, 'add_pepper_prep'),\n (17, 29304211, 37438714, 'add_pepper_core'),\n (17, 37438714, 39205635, 'add_pepper_post'),\n (17, 39872397, 42272742, 'add_salt_prep'),\n (17, 42272742, 44939792, 'add_salt_core'),\n (17, 44939792, 47673518, 'add_salt_post'),\n (17, 51907460, 53341000, 'mix_dressing_prep'),\n (17, 53341000, 61642193, 'mix_dressing_core'),\n (17, 61642193, 62775689, 'mix_dressing_post'),\n (17, 66009487, 71076882, 'cut_lettuce_prep'),\n (17, 71076882, 106748676, 'cut_lettuce_core'),\n (17, 106748676, 109382388, 'place_lettuce_into_bowl_prep'),\n (17, 109382388, 121884185, 'place_lettuce_into_bowl_core'),\n (17, 121884185, 124384544, 'place_lettuce_into_bowl_post'),\n (17, 124617911, 132118989, 'cut_tomato_prep'),\n (17, 132118989, 189393888, 'cut_tomato_core'),\n (17, 189393888, 191327499, 'place_tomato_into_bowl_prep'),\n (17, 191327499, 196761613, 'place_tomato_into_bowl_core'),\n (17, 196761613, 198861915, 'place_tomato_into_bowl_post'),\n (17, 204629411, 216731150, 'cut_cheese_prep'),\n (17, 216731150, 241668068, 'cut_cheese_core'),\n (17, 241668068, 243168283, 'cut_cheese_post'),\n (17, 243168283, 244435132, 'place_cheese_into_bowl_prep'),\n (17, 244435132, 254869965, 'place_cheese_into_bowl_core'),\n (17, 254869965, 257003605, 'place_cheese_into_bowl_post'),\n (17, 260270741, 263937935, 'peel_cucumber_prep'),\n (17, 263937935, 276073013, 'peel_cucumber_core'),\n (17, 276073013, 287908047, 'peel_cucumber_post'),\n (17, 307344174, 311544778, 'cut_cucumber_prep'),\n (17, 311544778, 362118713, 'cut_cucumber_core'),\n (17, 362118713, 369519777, 'cut_cucumber_post'),\n (17, 369519777, 371053331, 'place_cucumber_into_bowl_prep'),\n (17, 371053331, 374120438, 'place_cucumber_into_bowl_core'),\n (17, 374120438, 376220740, 'place_cucumber_into_bowl_post'),\n (17, 379954610, 393423213, 'mix_ingredients_core'),\n (17, 393423213, 394323342, 'mix_ingredients_post'),\n (17, 394690061, 397890521, 'add_dressing_prep'),\n (17, 397890521, 406291729, 'add_dressing_core'),\n (17, 406291729, 407191858, 'add_dressing_post'),\n (17, 407758606, 416293166, 'mix_ingredients_core'),\n (17, 416326505, 418226778, 'serve_salad_onto_plate_prep'),\n (17, 418226778, 430961941, 'serve_salad_onto_plate_core'),\n (17, 430961941, 433729006, 'serve_salad_onto_plate_post'),\n (18, 0, 10401495, 'add_oil_prep'),\n (18, 10401495, 20536285, 'add_oil_core'),\n (18, 20536285, 27970686, 'add_oil_post'),\n (18, 27970686, 33271448, 'add_vinegar_prep'),\n (18, 33271448, 41039231, 'add_vinegar_core'),\n (18, 41039231, 45406526, 'add_vinegar_post'),\n (18, 46206641, 47973561, 'add_pepper_prep'),\n (18, 47973561, 51174021, 'add_pepper_core'),\n (18, 51174021, 56274755, 'mix_dressing_core'),\n (18, 56741488, 57141546, 'add_pepper_prep'),\n (18, 57141546, 58608423, 'add_pepper_core'),\n (18, 58608423, 59575229, 'add_pepper_post'),\n (18, 60108639, 62742351, 'add_salt_prep'),\n (18, 62742351, 67343012, 'add_salt_core'),\n (18, 67343012, 68809890, 'add_salt_post'),\n (18, 69409976, 85512290, 'mix_dressing_core'),\n (18, 85512290, 86645786, 'mix_dressing_post'),\n (18, 87312549, 105748532, 'cut_lettuce_prep'),\n (18, 105748532, 114216416, 'cut_lettuce_core'),\n (18, 114216416, 115149883, 'cut_lettuce_post'),\n (18, 115149883, 116416732, 'place_lettuce_into_bowl_prep'),\n (18, 116416732, 120517321, 'place_lettuce_into_bowl_core'),\n (18, 120517321, 121150746, 'place_lettuce_into_bowl_post'),\n (18, 121150746, 122417595, 'cut_lettuce_prep'),\n (18, 122417595, 125818083, 'cut_lettuce_core'),\n (18, 125818083, 126718213, 'cut_lettuce_post'),\n (18, 126384831, 127585004, 'place_lettuce_into_bowl_prep'),\n (18, 127585004, 128185090, 'place_lettuce_into_bowl_core'),\n (18, 128185090, 135019406, 'place_lettuce_into_bowl_post'),\n (18, 135019406, 142887203, 'cut_tomato_prep'),\n (18, 142887203, 164823690, 'cut_tomato_core'),\n (18, 164823690, 165623805, 'cut_tomato_post'),\n (18, 165623805, 167090682, 'place_tomato_into_bowl_prep'),\n (18, 167090682, 169657718, 'place_tomato_into_bowl_core'),\n (18, 169657718, 183426363, 'cut_cheese_prep'),\n (18, 183426363, 199728706, 'cut_cheese_core'),\n (18, 199728706, 202262404, 'cut_cheese_post'),\n (18, 202262404, 203562591, 'place_cheese_into_bowl_prep'),\n (18, 203562591, 204229353, 'place_cheese_into_bowl_core'),\n (18, 204229353, 206763051, 'place_cheese_into_bowl_post'),\n (18, 206763051, 213897410, 'peel_cucumber_prep'),\n (18, 213897410, 231933335, 'peel_cucumber_core'),\n (18, 231933335, 234867090, 'peel_cucumber_post'),\n (18, 234867090, 241601391, 'cut_cucumber_prep'),\n (18, 241601391, 268171877, 'cut_cucumber_core'),\n (18, 268171877, 269038668, 'cut_cucumber_post'),\n (18, 269038668, 271272323, 'place_cucumber_into_bowl_prep'),\n (18, 271272323, 280907041, 'place_cucumber_into_bowl_core'),\n (18, 280907041, 282873990, 'place_cucumber_into_bowl_post'),\n (18, 282873990, 287774695, 'mix_ingredients_prep'),\n (18, 287774695, 302710175, 'mix_ingredients_core'),\n (18, 302710175, 304077038, 'mix_ingredients_post'),\n (18, 304110376, 316078763, 'serve_salad_onto_plate_prep'),\n (18, 316078763, 329480689, 'serve_salad_onto_plate_core'),\n (18, 329480689, 339182083, 'serve_salad_onto_plate_post'),\n (18, 340415594, 342482558, 'add_dressing_prep'),\n (18, 342482558, 357218009, 'add_dressing_core'),\n (18, 357218009, 358984930, 'add_dressing_post'),\n (19, 0, 8267855, 'add_oil_prep'),\n (19, 8267855, 13835322, 'add_oil_core'),\n (19, 13835322, 20302918, 'add_oil_post'),\n (19, 21269724, 25470327, 'add_vinegar_prep'),\n (19, 25470327, 29504240, 'add_vinegar_core'),\n (19, 29504240, 33271449, 'add_vinegar_post'),\n (19, 33671506, 35105045, 'add_pepper_prep'),\n (19, 35105045, 37505390, 'add_pepper_core'),\n (19, 37505390, 38505534, 'add_pepper_post'),\n (19, 38372182, 39905735, 'add_salt_prep'),\n (19, 39905735, 42372757, 'add_salt_core'),\n (19, 42372757, 43639605, 'add_salt_post'),\n (19, 44106339, 45306512, 'mix_dressing_prep'),\n (19, 45306512, 56041388, 'mix_dressing_core'),\n (19, 56041388, 57574942, 'mix_dressing_post'),\n (19, 58408395, 67076307, 'cut_lettuce_prep'),\n (19, 67076307, 78844665, 'cut_lettuce_core'),\n (19, 78844665, 83345312, 'cut_lettuce_post'),\n (19, 86012362, 89046132, 'place_lettuce_into_bowl_prep'),\n (19, 89046132, 91546491, 'place_lettuce_into_bowl_core'),\n (19, 91546491, 93013369, 'place_lettuce_into_bowl_post'),\n (19, 93013369, 102414720, 'cut_tomato_prep'),\n (19, 102414720, 113382963, 'cut_tomato_core'),\n (19, 113382963, 114483121, 'cut_tomato_post'),\n (19, 114483121, 115749970, 'place_tomato_into_bowl_prep'),\n (19, 115749970, 117516890, 'place_tomato_into_bowl_core'),\n (19, 117516890, 119150459, 'place_tomato_into_bowl_post'),\n (19, 119550516, 124917954, 'cut_cheese_prep'),\n (19, 124917954, 135986212, 'cut_cheese_core'),\n (19, 135986212, 136853003, 'cut_cheese_post'),\n (19, 136853003, 137186384, 'place_cheese_into_bowl_prep'),\n (19, 137186384, 139786758, 'place_cheese_into_bowl_core'),\n (19, 139786758, 144854153, 'place_cheese_into_bowl_post'),\n ...]"
     },
     "execution_count": 10,
     "metadata": {},
     "output_type": "execute_result"
    }
   ],
   "source": [
    "for_df"
   ],
   "metadata": {
    "collapsed": false,
    "ExecuteTime": {
     "end_time": "2024-04-20T18:56:52.004958400Z",
     "start_time": "2024-04-20T18:56:51.967041200Z"
    }
   },
   "id": "9e0ad29607e8b556"
  },
  {
   "cell_type": "code",
   "execution_count": 11,
   "outputs": [
    {
     "data": {
      "text/plain": "      tid      start        end                     activity\n0       0          0   23069982              cut_tomato_prep\n1       0   23069982   52207504              cut_tomato_core\n2       0   52207504   53174309              cut_tomato_post\n3       0   53174309   55808021  place_tomato_into_bowl_prep\n4       0   55808021   64375919  place_tomato_into_bowl_core\n...   ...        ...        ...                          ...\n2781   53  220231654  231166559            mix_dressing_core\n2782   53  231166559  232033350            mix_dressing_post\n2783   53  232066688  237267435  serve_salad_onto_plate_prep\n2784   53  237267435  248935779  serve_salad_onto_plate_core\n2785   53  248935779  251302786  serve_salad_onto_plate_post\n\n[2786 rows x 4 columns]",
      "text/html": "<div>\n<style scoped>\n    .dataframe tbody tr th:only-of-type {\n        vertical-align: middle;\n    }\n\n    .dataframe tbody tr th {\n        vertical-align: top;\n    }\n\n    .dataframe thead th {\n        text-align: right;\n    }\n</style>\n<table border=\"1\" class=\"dataframe\">\n  <thead>\n    <tr style=\"text-align: right;\">\n      <th></th>\n      <th>tid</th>\n      <th>start</th>\n      <th>end</th>\n      <th>activity</th>\n    </tr>\n  </thead>\n  <tbody>\n    <tr>\n      <th>0</th>\n      <td>0</td>\n      <td>0</td>\n      <td>23069982</td>\n      <td>cut_tomato_prep</td>\n    </tr>\n    <tr>\n      <th>1</th>\n      <td>0</td>\n      <td>23069982</td>\n      <td>52207504</td>\n      <td>cut_tomato_core</td>\n    </tr>\n    <tr>\n      <th>2</th>\n      <td>0</td>\n      <td>52207504</td>\n      <td>53174309</td>\n      <td>cut_tomato_post</td>\n    </tr>\n    <tr>\n      <th>3</th>\n      <td>0</td>\n      <td>53174309</td>\n      <td>55808021</td>\n      <td>place_tomato_into_bowl_prep</td>\n    </tr>\n    <tr>\n      <th>4</th>\n      <td>0</td>\n      <td>55808021</td>\n      <td>64375919</td>\n      <td>place_tomato_into_bowl_core</td>\n    </tr>\n    <tr>\n      <th>...</th>\n      <td>...</td>\n      <td>...</td>\n      <td>...</td>\n      <td>...</td>\n    </tr>\n    <tr>\n      <th>2781</th>\n      <td>53</td>\n      <td>220231654</td>\n      <td>231166559</td>\n      <td>mix_dressing_core</td>\n    </tr>\n    <tr>\n      <th>2782</th>\n      <td>53</td>\n      <td>231166559</td>\n      <td>232033350</td>\n      <td>mix_dressing_post</td>\n    </tr>\n    <tr>\n      <th>2783</th>\n      <td>53</td>\n      <td>232066688</td>\n      <td>237267435</td>\n      <td>serve_salad_onto_plate_prep</td>\n    </tr>\n    <tr>\n      <th>2784</th>\n      <td>53</td>\n      <td>237267435</td>\n      <td>248935779</td>\n      <td>serve_salad_onto_plate_core</td>\n    </tr>\n    <tr>\n      <th>2785</th>\n      <td>53</td>\n      <td>248935779</td>\n      <td>251302786</td>\n      <td>serve_salad_onto_plate_post</td>\n    </tr>\n  </tbody>\n</table>\n<p>2786 rows × 4 columns</p>\n</div>"
     },
     "execution_count": 11,
     "metadata": {},
     "output_type": "execute_result"
    }
   ],
   "source": [
    "df = pd.DataFrame(for_df, columns=['tid', 'start', 'end', 'activity'])\n",
    "df"
   ],
   "metadata": {
    "collapsed": false,
    "ExecuteTime": {
     "end_time": "2024-04-20T18:56:52.796439400Z",
     "start_time": "2024-04-20T18:56:52.765966200Z"
    }
   },
   "id": "d8f7c5d81736c987"
  },
  {
   "cell_type": "code",
   "execution_count": 44,
   "outputs": [],
   "source": [
    "df.to_csv(\"data/50salad_log.csv\", index=None)"
   ],
   "metadata": {
    "collapsed": false,
    "ExecuteTime": {
     "end_time": "2024-04-20T17:00:40.171374400Z",
     "start_time": "2024-04-20T17:00:40.142598200Z"
    }
   },
   "id": "655af446e9ef03e3"
  },
  {
   "cell_type": "code",
   "execution_count": 12,
   "outputs": [
    {
     "data": {
      "text/plain": "(33338.0, 33417.94993397906)"
     },
     "execution_count": 12,
     "metadata": {},
     "output_type": "execute_result"
    }
   ],
   "source": [
    "deltas = []\n",
    "\n",
    "for i, filename in enumerate(os.listdir(\"data/timestamps\")):\n",
    "    with open(os.path.join(\"data/timestamps\", filename), 'r') as f:\n",
    "        deltas.extend(np.diff([int(x.split()[0]) for x in f]))\n",
    "        \n",
    "np.median(deltas), np.mean(deltas)"
   ],
   "metadata": {
    "collapsed": false,
    "ExecuteTime": {
     "end_time": "2024-04-20T18:56:55.659532500Z",
     "start_time": "2024-04-20T18:56:55.353532300Z"
    }
   },
   "id": "3d0420bfcc7782c5"
  },
  {
   "cell_type": "code",
   "execution_count": 13,
   "outputs": [],
   "source": [
    "from sklearn.preprocessing import OneHotEncoder\n",
    "from collections import defaultdict\n",
    "\n",
    "dataset = []\n",
    "temp_list = [(tid, ts, te, one_hot) for (_, tid, ts, te, _), one_hot in zip(df.itertuples(), OneHotEncoder(sparse_output=True).fit_transform(X=df['activity'].to_numpy().reshape(-1, 1)))]\n",
    "for tid, *values in temp_list:\n",
    "    if tid < len(dataset):\n",
    "        dataset[tid].append(values)\n",
    "    else:\n",
    "        dataset.append([values])"
   ],
   "metadata": {
    "collapsed": false,
    "ExecuteTime": {
     "end_time": "2024-04-20T18:56:56.779547500Z",
     "start_time": "2024-04-20T18:56:56.091547300Z"
    }
   },
   "id": "15adea36acf95d30"
  },
  {
   "cell_type": "code",
   "execution_count": 27,
   "outputs": [],
   "source": [
    "import pickle as pkl\n",
    "\n",
    "with open(\"data/50salads_one_hot.pkl\", \"wb\") as f:\n",
    "    pkl.dump(dataset, f)"
   ],
   "metadata": {
    "collapsed": false,
    "ExecuteTime": {
     "end_time": "2024-04-20T18:26:52.168375800Z",
     "start_time": "2024-04-20T18:26:52.141879200Z"
    }
   },
   "id": "f55bcd89a8d71e1"
  },
  {
   "cell_type": "code",
   "execution_count": 14,
   "outputs": [],
   "source": [
    "from dataset.dataset import SaladsDataset\n",
    "from sklearn.model_selection import train_test_split\n",
    "\n",
    "train_dataset, test_dataset = train_test_split(dataset, train_size=0.8, shuffle=True, random_state=17)\n",
    "train_salads = SaladsDataset(train_dataset)\n",
    "test_salads = SaladsDataset(test_dataset)"
   ],
   "metadata": {
    "collapsed": false,
    "ExecuteTime": {
     "end_time": "2024-04-20T18:57:04.232065500Z",
     "start_time": "2024-04-20T18:57:01.320565Z"
    }
   },
   "id": "3e92a845becfb9cf"
  },
  {
   "cell_type": "code",
   "execution_count": 15,
   "outputs": [
    {
     "name": "stderr",
     "output_type": "stream",
     "text": [
      "D:\\Projects\\trace-denoise\\dataset\\dataset.py:24: UserWarning: Creating a tensor from a list of numpy.ndarrays is extremely slow. Please consider converting the list to a single numpy.ndarray with numpy.array() before converting to a tensor. (Triggered internally at ..\\torch\\csrc\\utils\\tensor_new.cpp:278.)\n",
      "  return tensor([[ts, te] for ts, te, _ in self.__data[idx]]), tensor([act.toarray() for _, _, act in self.__data[idx]])\n"
     ]
    },
    {
     "data": {
      "text/plain": "(tensor([[        0,   8301193],\n         [  8301193,  12735163],\n         [ 12735163,  17535853],\n         [ 17869235,  20669637],\n         [ 20669637,  24303493],\n         [ 24303493,  27470615],\n         [ 28137377,  30137665],\n         [ 30137665,  34638312],\n         [ 34638312,  36305218],\n         [ 36838628,  38872253],\n         [ 38872253,  40472483],\n         [ 40472483,  41472627],\n         [ 41872685,  42739476],\n         [ 42739476,  48773677],\n         [ 48773677,  52374194],\n         [ 54507834,  68543185],\n         [ 68543185,  75244148],\n         [ 75244148,  76377644],\n         [ 76377644,  78177903],\n         [ 78177903,  79611442],\n         [ 79611442,  81945111],\n         [ 81945111,  89112808],\n         [ 89112808, 112349481],\n         [112349481, 117383538],\n         [118583710, 121117408],\n         [121117408, 173758307],\n         [173758307, 182226191],\n         [184826565, 200195440],\n         [200195440, 213797395],\n         [213797395, 216531122],\n         [217331237, 222665337],\n         [222665337, 267005043],\n         [267005043, 267438438],\n         [269072007, 272839215],\n         [269072007, 272839215],\n         [269072007, 272839215],\n         [272839215, 277573228],\n         [277573228, 278306667],\n         [278306667, 280206940],\n         [280206940, 280573660],\n         [280573660, 283940810],\n         [283940810, 289108220],\n         [289474939, 290441745],\n         [290441745, 294842377],\n         [294842377, 295209097],\n         [296375931, 298376218],\n         [298376218, 300409844],\n         [300409844, 316578835],\n         [322046287, 325480114],\n         [325480114, 337748544],\n         [337748544, 347383262]]),\n tensor([[[0., 0., 0.,  ..., 0., 0., 0.]],\n \n         [[0., 0., 0.,  ..., 0., 0., 0.]],\n \n         [[0., 0., 0.,  ..., 0., 0., 0.]],\n \n         ...,\n \n         [[0., 0., 0.,  ..., 0., 0., 1.]],\n \n         [[0., 0., 0.,  ..., 1., 0., 0.]],\n \n         [[0., 0., 0.,  ..., 0., 1., 0.]]], dtype=torch.float64))"
     },
     "execution_count": 15,
     "metadata": {},
     "output_type": "execute_result"
    }
   ],
   "source": [
    "next(iter(train_salads))"
   ],
   "metadata": {
    "collapsed": false,
    "ExecuteTime": {
     "end_time": "2024-04-20T18:57:17.777826Z",
     "start_time": "2024-04-20T18:57:17.716812600Z"
    }
   },
   "id": "26f6805fd7d3a52e"
  },
  {
   "cell_type": "code",
   "execution_count": 16,
   "outputs": [],
   "source": [
    "from torch.utils.data import DataLoader\n",
    "from torch.nn.utils.rnn import pad_sequence\n",
    "\n",
    "train_loader = DataLoader(train_salads, batch_size=10, collate_fn=lambda batch: pad_sequence(batch, batch_first=True, padding_value=-1))\n",
    "test_loader = DataLoader(test_salads, batch_size=10, collate_fn=lambda batch: pad_sequence(batch, batch_first=True, padding_value=-1))"
   ],
   "metadata": {
    "collapsed": false,
    "ExecuteTime": {
     "end_time": "2024-04-20T18:57:57.196046800Z",
     "start_time": "2024-04-20T18:57:57.183048400Z"
    }
   },
   "id": "69ab1ef6e484eaa1"
  },
  {
   "cell_type": "code",
   "execution_count": 2,
   "outputs": [],
   "source": [
    "import pickle as pkl\n"
   ],
   "metadata": {
    "collapsed": false,
    "ExecuteTime": {
     "end_time": "2024-05-02T17:08:19.322873600Z",
     "start_time": "2024-05-02T17:08:19.286873900Z"
    }
   },
   "id": "82826439fbe4d3fe"
  },
  {
   "cell_type": "code",
   "execution_count": 10,
   "outputs": [],
   "source": [
    "with open(\"data/pickles/50salads_softmax.pkl\", \"rb\") as f:\n",
    "    salads_noisy = pkl.load(f)\n",
    "\n",
    "with open(\"data/pickles/50salads_target.pkl\", \"rb\") as f:\n",
    "    salads_target = pkl.load(f)\n",
    "\n",
    "with open(\"data/50salads_one_hot.pkl\", \"rb\") as f:\n",
    "    salads_one_hot = pkl.load(f)"
   ],
   "metadata": {
    "collapsed": false,
    "ExecuteTime": {
     "end_time": "2024-05-02T17:11:17.367986Z",
     "start_time": "2024-05-02T17:11:17.107485300Z"
    }
   },
   "id": "ebae2c8e2191b861"
  },
  {
   "cell_type": "code",
   "execution_count": 11,
   "outputs": [
    {
     "data": {
      "text/plain": "array([17, 17, 17, ..., 18, 18, 18], dtype=int64)"
     },
     "execution_count": 11,
     "metadata": {},
     "output_type": "execute_result"
    }
   ],
   "source": [
    "salads_target[0]"
   ],
   "metadata": {
    "collapsed": false,
    "ExecuteTime": {
     "end_time": "2024-05-02T17:11:21.947314700Z",
     "start_time": "2024-05-02T17:11:21.919314800Z"
    }
   },
   "id": "498b61c9b864846f"
  },
  {
   "cell_type": "code",
   "execution_count": 13,
   "outputs": [
    {
     "data": {
      "text/plain": "35"
     },
     "execution_count": 13,
     "metadata": {},
     "output_type": "execute_result"
    }
   ],
   "source": [
    "len(salads_one_hot[0])"
   ],
   "metadata": {
    "collapsed": false,
    "ExecuteTime": {
     "end_time": "2024-05-02T17:11:42.689146Z",
     "start_time": "2024-05-02T17:11:42.671646400Z"
    }
   },
   "id": "64bc74114cc2a2b7"
  },
  {
   "cell_type": "code",
   "execution_count": null,
   "outputs": [],
   "source": [],
   "metadata": {
    "collapsed": false
   },
   "id": "f4ac4df8047d13cc"
  }
 ],
 "metadata": {
  "kernelspec": {
   "display_name": "Python 3",
   "language": "python",
   "name": "python3"
  },
  "language_info": {
   "codemirror_mode": {
    "name": "ipython",
    "version": 2
   },
   "file_extension": ".py",
   "mimetype": "text/x-python",
   "name": "python",
   "nbconvert_exporter": "python",
   "pygments_lexer": "ipython2",
   "version": "2.7.6"
  }
 },
 "nbformat": 4,
 "nbformat_minor": 5
}
