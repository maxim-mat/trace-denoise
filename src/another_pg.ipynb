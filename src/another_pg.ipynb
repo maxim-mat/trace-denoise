{
 "cells": [
  {
   "cell_type": "code",
   "execution_count": 1,
   "id": "initial_id",
   "metadata": {
    "collapsed": true,
    "ExecuteTime": {
     "end_time": "2024-08-11T16:01:29.839368800Z",
     "start_time": "2024-08-11T16:01:28.267334700Z"
    }
   },
   "outputs": [],
   "source": [
    "import pickle as pkl\n",
    "import torch\n",
    "from torch.utils.data import DataLoader\n",
    "from dataset.dataset import SaladsDataset\n",
    "from denoisers.UnetDenoiser import UnetDenoiser\n",
    "from ddpm.ddpm_multinomial import Diffusion"
   ]
  },
  {
   "cell_type": "code",
   "execution_count": 2,
   "outputs": [],
   "source": [
    "with open(\"../data/pickles/50_salads_one_hot.pkl\", \"rb\") as f:\n",
    "    dataset = pkl.load(f)\n",
    "with open(\"../data/pickles/50salads_softmax.pkl\", \"rb\") as f:\n",
    "    dataset_noisy = pkl.load(f)"
   ],
   "metadata": {
    "collapsed": false,
    "ExecuteTime": {
     "end_time": "2024-08-11T16:01:29.863868800Z",
     "start_time": "2024-08-11T16:01:29.841369100Z"
    }
   },
   "id": "416d378650a8d29d"
  },
  {
   "cell_type": "code",
   "execution_count": 3,
   "outputs": [
    {
     "data": {
      "text/plain": "array([[0., 0., 0., ..., 0., 1., 0.],\n       [0., 0., 0., ..., 0., 1., 0.],\n       [0., 0., 0., ..., 0., 1., 0.],\n       ...,\n       [0., 0., 0., ..., 0., 0., 1.],\n       [0., 0., 0., ..., 0., 0., 1.],\n       [0., 0., 0., ..., 0., 0., 1.]])"
     },
     "execution_count": 3,
     "metadata": {},
     "output_type": "execute_result"
    }
   ],
   "source": [
    "dataset[0]"
   ],
   "metadata": {
    "collapsed": false,
    "ExecuteTime": {
     "end_time": "2024-08-11T16:01:31.138371Z",
     "start_time": "2024-08-11T16:01:31.117738Z"
    }
   },
   "id": "dc54812f0724a3b0"
  },
  {
   "cell_type": "code",
   "execution_count": 4,
   "outputs": [
    {
     "data": {
      "text/plain": "array([[8.6717535e-04, 2.4197443e-04, 5.7641079e-04, ..., 7.1105489e-05,\n        9.8675495e-01, 1.5492118e-03],\n       [8.0909755e-04, 2.6196477e-04, 6.2371837e-04, ..., 7.1789851e-05,\n        9.8680657e-01, 1.5242213e-03],\n       [6.7556609e-04, 2.2156704e-04, 5.3749501e-04, ..., 6.6280212e-05,\n        9.8780125e-01, 1.3782133e-03],\n       ...,\n       [2.4032191e-04, 9.1276830e-05, 2.0374462e-05, ..., 4.7884742e-04,\n        3.9054497e-04, 9.9704725e-01],\n       [2.2848633e-04, 9.9619814e-05, 1.9927458e-05, ..., 5.0185091e-04,\n        3.8219034e-04, 9.9708599e-01],\n       [2.4557402e-04, 1.0049822e-04, 2.1747077e-05, ..., 5.4936163e-04,\n        3.7254501e-04, 9.9692184e-01]], dtype=float32)"
     },
     "execution_count": 4,
     "metadata": {},
     "output_type": "execute_result"
    }
   ],
   "source": [
    "temp = [x[0].transpose() for x in dataset_noisy]\n",
    "temp[0]"
   ],
   "metadata": {
    "collapsed": false,
    "ExecuteTime": {
     "end_time": "2024-08-11T16:01:32.441182700Z",
     "start_time": "2024-08-11T16:01:32.432181900Z"
    }
   },
   "id": "44f51c9e08d55e6b"
  },
  {
   "cell_type": "code",
   "execution_count": 17,
   "outputs": [],
   "source": [
    "# unified_dataset = {\"target\": dataset, \"stochastic\": temp}\n",
    "# with open(\"../data/pickles/50_salads_unified.pkl\", \"wb\") as f:\n",
    "#     pkl.dump(unified_dataset, f)"
   ],
   "metadata": {
    "collapsed": false,
    "ExecuteTime": {
     "end_time": "2024-08-11T15:25:39.094466300Z",
     "start_time": "2024-08-11T15:25:39.059962500Z"
    }
   },
   "id": "e34fd04f9a06ce3e"
  },
  {
   "cell_type": "code",
   "execution_count": 6,
   "outputs": [],
   "source": [
    "with open(\"../data/pickles/50_salads_unified.pkl\", \"rb\") as f:\n",
    "    data = pkl.load(f)"
   ],
   "metadata": {
    "collapsed": false,
    "ExecuteTime": {
     "end_time": "2024-08-11T16:31:38.400421800Z",
     "start_time": "2024-08-11T16:31:38.371924900Z"
    }
   },
   "id": "635b3835357003f0"
  },
  {
   "cell_type": "code",
   "execution_count": 7,
   "outputs": [],
   "source": [
    "sdataset = SaladsDataset(data['stochastic'], data['target'])"
   ],
   "metadata": {
    "collapsed": false,
    "ExecuteTime": {
     "end_time": "2024-08-11T16:31:39.788080700Z",
     "start_time": "2024-08-11T16:31:39.679080900Z"
    }
   },
   "id": "1b51b16ade1546ca"
  },
  {
   "cell_type": "code",
   "execution_count": 9,
   "outputs": [],
   "source": [
    "loader = DataLoader(\n",
    "    sdataset,\n",
    "    batch_size=5,\n",
    "    shuffle=True\n",
    ")"
   ],
   "metadata": {
    "collapsed": false,
    "ExecuteTime": {
     "end_time": "2024-08-11T16:34:32.842168800Z",
     "start_time": "2024-08-11T16:34:32.836427900Z"
    }
   },
   "id": "7c44884cca4055b8"
  },
  {
   "cell_type": "code",
   "execution_count": 10,
   "outputs": [
    {
     "data": {
      "text/plain": "[tensor([[[0., 0., 0.,  ..., 1., 0., 0.],\n          [0., 0., 0.,  ..., 1., 0., 0.],\n          [0., 0., 0.,  ..., 1., 0., 0.],\n          ...,\n          [0., 0., 0.,  ..., 0., 0., 1.],\n          [0., 0., 0.,  ..., 0., 0., 1.],\n          [0., 0., 0.,  ..., 0., 0., 1.]],\n \n         [[0., 0., 0.,  ..., 1., 0., 0.],\n          [0., 0., 0.,  ..., 1., 0., 0.],\n          [0., 0., 0.,  ..., 1., 0., 0.],\n          ...,\n          [0., 0., 0.,  ..., 0., 0., 1.],\n          [0., 0., 0.,  ..., 0., 0., 1.],\n          [0., 0., 0.,  ..., 0., 0., 1.]],\n \n         [[0., 0., 0.,  ..., 1., 0., 0.],\n          [0., 0., 0.,  ..., 1., 0., 0.],\n          [0., 0., 0.,  ..., 1., 0., 0.],\n          ...,\n          [0., 0., 0.,  ..., 0., 0., 1.],\n          [0., 0., 0.,  ..., 0., 0., 1.],\n          [0., 0., 0.,  ..., 0., 0., 1.]],\n \n         [[0., 0., 0.,  ..., 1., 0., 0.],\n          [0., 0., 0.,  ..., 1., 0., 0.],\n          [0., 0., 0.,  ..., 1., 0., 0.],\n          ...,\n          [0., 0., 0.,  ..., 0., 0., 1.],\n          [0., 0., 0.,  ..., 0., 0., 1.],\n          [0., 0., 0.,  ..., 0., 0., 1.]],\n \n         [[0., 0., 0.,  ..., 1., 0., 0.],\n          [0., 0., 0.,  ..., 1., 0., 0.],\n          [0., 0., 0.,  ..., 1., 0., 0.],\n          ...,\n          [0., 0., 0.,  ..., 0., 0., 1.],\n          [0., 0., 0.,  ..., 0., 0., 1.],\n          [0., 0., 0.,  ..., 0., 0., 1.]]], dtype=torch.float64),\n tensor([[[1.9876e-03, 2.8154e-03, 3.1806e-03,  ..., 9.5284e-01,\n           1.3554e-03, 0.0000e+00],\n          [1.8795e-03, 2.7206e-03, 2.9372e-03,  ..., 9.5599e-01,\n           1.2815e-03, 0.0000e+00],\n          [1.7234e-03, 2.3842e-03, 2.6259e-03,  ..., 9.6108e-01,\n           1.1583e-03, 0.0000e+00],\n          ...,\n          [0.0000e+00, 0.0000e+00, 0.0000e+00,  ..., 0.0000e+00,\n           0.0000e+00, 1.0000e+00],\n          [0.0000e+00, 0.0000e+00, 0.0000e+00,  ..., 0.0000e+00,\n           0.0000e+00, 1.0000e+00],\n          [0.0000e+00, 0.0000e+00, 0.0000e+00,  ..., 0.0000e+00,\n           0.0000e+00, 1.0000e+00]],\n \n         [[1.4470e-03, 2.2203e-03, 2.1328e-03,  ..., 9.5903e-01,\n           1.4369e-03, 0.0000e+00],\n          [1.3621e-03, 2.1223e-03, 1.9883e-03,  ..., 9.6197e-01,\n           1.3377e-03, 0.0000e+00],\n          [1.2487e-03, 1.8691e-03, 1.8032e-03,  ..., 9.6626e-01,\n           1.2005e-03, 0.0000e+00],\n          ...,\n          [0.0000e+00, 0.0000e+00, 0.0000e+00,  ..., 0.0000e+00,\n           0.0000e+00, 1.0000e+00],\n          [0.0000e+00, 0.0000e+00, 0.0000e+00,  ..., 0.0000e+00,\n           0.0000e+00, 1.0000e+00],\n          [0.0000e+00, 0.0000e+00, 0.0000e+00,  ..., 0.0000e+00,\n           0.0000e+00, 1.0000e+00]],\n \n         [[1.3618e-03, 4.5348e-04, 1.3671e-03,  ..., 9.7598e-01,\n           1.5517e-03, 0.0000e+00],\n          [1.2572e-03, 4.0842e-04, 1.2729e-03,  ..., 9.7758e-01,\n           1.4381e-03, 0.0000e+00],\n          [1.1442e-03, 3.7232e-04, 1.1781e-03,  ..., 9.7940e-01,\n           1.3727e-03, 0.0000e+00],\n          ...,\n          [0.0000e+00, 0.0000e+00, 0.0000e+00,  ..., 0.0000e+00,\n           0.0000e+00, 1.0000e+00],\n          [0.0000e+00, 0.0000e+00, 0.0000e+00,  ..., 0.0000e+00,\n           0.0000e+00, 1.0000e+00],\n          [0.0000e+00, 0.0000e+00, 0.0000e+00,  ..., 0.0000e+00,\n           0.0000e+00, 1.0000e+00]],\n \n         [[1.8187e-03, 2.5976e-03, 3.0565e-03,  ..., 9.5218e-01,\n           1.4447e-03, 0.0000e+00],\n          [1.7215e-03, 2.5004e-03, 2.8258e-03,  ..., 9.5541e-01,\n           1.3625e-03, 0.0000e+00],\n          [1.5883e-03, 2.2114e-03, 2.5404e-03,  ..., 9.6031e-01,\n           1.2380e-03, 0.0000e+00],\n          ...,\n          [0.0000e+00, 0.0000e+00, 0.0000e+00,  ..., 0.0000e+00,\n           0.0000e+00, 1.0000e+00],\n          [0.0000e+00, 0.0000e+00, 0.0000e+00,  ..., 0.0000e+00,\n           0.0000e+00, 1.0000e+00],\n          [0.0000e+00, 0.0000e+00, 0.0000e+00,  ..., 0.0000e+00,\n           0.0000e+00, 1.0000e+00]],\n \n         [[5.5970e-03, 1.5947e-03, 4.8950e-04,  ..., 9.5267e-01,\n           7.4582e-03, 0.0000e+00],\n          [5.3550e-03, 1.5334e-03, 4.7114e-04,  ..., 9.5437e-01,\n           7.1669e-03, 0.0000e+00],\n          [5.0051e-03, 1.4710e-03, 4.2686e-04,  ..., 9.5716e-01,\n           6.6823e-03, 0.0000e+00],\n          ...,\n          [0.0000e+00, 0.0000e+00, 0.0000e+00,  ..., 0.0000e+00,\n           0.0000e+00, 1.0000e+00],\n          [0.0000e+00, 0.0000e+00, 0.0000e+00,  ..., 0.0000e+00,\n           0.0000e+00, 1.0000e+00],\n          [0.0000e+00, 0.0000e+00, 0.0000e+00,  ..., 0.0000e+00,\n           0.0000e+00, 1.0000e+00]]])]"
     },
     "execution_count": 10,
     "metadata": {},
     "output_type": "execute_result"
    }
   ],
   "source": [
    "next(iter(loader))"
   ],
   "metadata": {
    "collapsed": false,
    "ExecuteTime": {
     "end_time": "2024-08-11T16:34:38.185979800Z",
     "start_time": "2024-08-11T16:34:38.164980100Z"
    }
   },
   "id": "df15786a2ec48890"
  },
  {
   "cell_type": "code",
   "execution_count": null,
   "outputs": [],
   "source": [],
   "metadata": {
    "collapsed": false
   },
   "id": "17bd53e9eca9d4ba"
  }
 ],
 "metadata": {
  "kernelspec": {
   "display_name": "Python 3",
   "language": "python",
   "name": "python3"
  },
  "language_info": {
   "codemirror_mode": {
    "name": "ipython",
    "version": 2
   },
   "file_extension": ".py",
   "mimetype": "text/x-python",
   "name": "python",
   "nbconvert_exporter": "python",
   "pygments_lexer": "ipython2",
   "version": "2.7.6"
  }
 },
 "nbformat": 4,
 "nbformat_minor": 5
}
