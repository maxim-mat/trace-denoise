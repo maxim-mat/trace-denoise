{
 "cells": [
  {
   "cell_type": "code",
   "execution_count": 1,
   "id": "initial_id",
   "metadata": {
    "collapsed": true,
    "ExecuteTime": {
     "end_time": "2025-01-21T06:41:17.729168300Z",
     "start_time": "2025-01-21T06:41:12.668729900Z"
    }
   },
   "outputs": [],
   "source": [
    "from utils.initialization import initialize\n",
    "import pandas as pd\n",
    "from dataset.dataset import SaladsDataset\n",
    "from utils.pm_utils import discover_dk_process, remove_duplicates_dataset, remove_duplicates_trace, conformance_measure\n",
    "from denoisers.ConditionalUnetMatrixDenoiser import ConditionalUnetMatrixDenoiser\n",
    "from utils.Config import Config\n",
    "import json\n",
    "import pickle as pkl\n",
    "import torch"
   ]
  },
  {
   "cell_type": "code",
   "execution_count": 2,
   "outputs": [],
   "source": [
    "with open(\"config.json\", \"r\") as f:\n",
    "    cfg_json = json.load(f)\n",
    "    cfg = Config(**cfg_json)\n",
    "with open(cfg.data_path, \"rb\") as f:\n",
    "    dataset = pkl.load(f)"
   ],
   "metadata": {
    "collapsed": false,
    "ExecuteTime": {
     "end_time": "2025-01-21T06:41:18.686655900Z",
     "start_time": "2025-01-21T06:41:18.634171200Z"
    }
   },
   "id": "91a5cbc0a27017d6"
  },
  {
   "cell_type": "code",
   "execution_count": 3,
   "outputs": [],
   "source": [
    "salads_dataset = SaladsDataset(dataset['target'], dataset['stochastic'])"
   ],
   "metadata": {
    "collapsed": false,
    "ExecuteTime": {
     "end_time": "2025-01-21T06:41:21.074672400Z",
     "start_time": "2025-01-21T06:41:20.997866300Z"
    }
   },
   "id": "1904829b6c2333b2"
  },
  {
   "cell_type": "code",
   "execution_count": 4,
   "outputs": [],
   "source": [
    "dk_process_model, dk_init_marking, dk_final_marking = discover_dk_process(salads_dataset, cfg,\n",
    "                                                                          preprocess=remove_duplicates_dataset)"
   ],
   "metadata": {
    "collapsed": false,
    "ExecuteTime": {
     "end_time": "2025-01-21T06:41:35.123796400Z",
     "start_time": "2025-01-21T06:41:33.930788800Z"
    }
   },
   "id": "f17f77ac4c7e272"
  },
  {
   "cell_type": "code",
   "execution_count": 5,
   "outputs": [
    {
     "data": {
      "text/plain": "tensor([17, 17, 17,  ..., 19, 19, 19])"
     },
     "execution_count": 5,
     "metadata": {},
     "output_type": "execute_result"
    }
   ],
   "source": [
    "test_trace_one_hot = salads_dataset[0][0]\n",
    "test_trace = torch.argmax(test_trace_one_hot, dim=1).to('cpu')\n",
    "test_trace"
   ],
   "metadata": {
    "collapsed": false,
    "ExecuteTime": {
     "end_time": "2025-01-21T06:41:37.689652400Z",
     "start_time": "2025-01-21T06:41:37.681245Z"
    }
   },
   "id": "d1e99b0a8ebf8cdf"
  },
  {
   "cell_type": "code",
   "execution_count": 6,
   "outputs": [
    {
     "data": {
      "text/plain": "[[17, 11, 13, 4, 5, 2, 3, 0, 1, 15, 8, 7, 9, 6, 10, 16, 14, 18, 19]]"
     },
     "execution_count": 6,
     "metadata": {},
     "output_type": "execute_result"
    }
   ],
   "source": [
    "traces = [remove_duplicates_trace(test_trace).tolist()]\n",
    "traces"
   ],
   "metadata": {
    "collapsed": false,
    "ExecuteTime": {
     "end_time": "2025-01-21T06:41:38.807376600Z",
     "start_time": "2025-01-21T06:41:38.778125100Z"
    }
   },
   "id": "efd98ab4a179face"
  },
  {
   "cell_type": "code",
   "execution_count": 7,
   "outputs": [
    {
     "data": {
      "text/plain": "[{'alignment': [('action_start', 'action_start'),\n   ('>>', None),\n   ('peel_cucumber', 'peel_cucumber'),\n   ('>>', None),\n   ('>>', None),\n   ('>>', None),\n   ('place_cucumber_into_bowl', 'place_cucumber_into_bowl'),\n   ('>>', None),\n   ('>>', None),\n   ('cut_lettuce', 'cut_lettuce'),\n   ('place_lettuce_into_bowl', 'place_lettuce_into_bowl'),\n   ('>>', None),\n   ('>>', None),\n   ('cut_cheese', 'cut_cheese'),\n   ('>>', None),\n   ('place_cheese_into_bowl', 'place_cheese_into_bowl'),\n   ('>>', None),\n   ('>>', None),\n   ('cut_tomato', 'cut_tomato'),\n   ('>>', None),\n   ('>>', None),\n   ('>>', None),\n   ('>>', None),\n   ('place_tomato_into_bowl', 'place_tomato_into_bowl'),\n   ('>>', None),\n   ('mix_ingredients', 'mix_ingredients'),\n   ('>>', None),\n   ('>>', None),\n   ('>>', None),\n   ('add_oil', 'add_oil'),\n   ('add_vinegar', 'add_vinegar'),\n   ('add_pepper', 'add_pepper'),\n   ('>>', None),\n   ('>>', None),\n   ('add_salt', 'add_salt'),\n   ('>>', None),\n   ('>>', None),\n   ('>>', None),\n   ('>>', None),\n   ('mix_dressing', 'mix_dressing'),\n   ('>>', None),\n   ('>>', None),\n   ('>>', None),\n   ('>>', None),\n   ('serve_salad_onto_plate', 'serve_salad_onto_plate'),\n   ('add_dressing', 'add_dressing'),\n   ('action_end', 'action_end'),\n   ('EOT', 'EOT')],\n  'cost': 29,\n  'visited_states': 153,\n  'queued_states': 1061,\n  'traversed_arcs': 1190,\n  'lp_solved': 225,\n  'fitness': 1.0,\n  'bwc': 250007}]"
     },
     "execution_count": 7,
     "metadata": {},
     "output_type": "execute_result"
    }
   ],
   "source": [
    "conformance_measure(traces, dk_process_model, dk_init_marking, dk_final_marking, cfg.activity_names)"
   ],
   "metadata": {
    "collapsed": false,
    "ExecuteTime": {
     "end_time": "2025-01-21T06:41:43.357194700Z",
     "start_time": "2025-01-21T06:41:43.295750800Z"
    }
   },
   "id": "82fde1eaed8a36fa"
  },
  {
   "cell_type": "code",
   "execution_count": 22,
   "outputs": [
    {
     "name": "stdout",
     "output_type": "stream",
     "text": [
      "0.03089130000444129\n",
      "0.04367040004581213\n",
      "12.533685499976855\n",
      "56.215054899977986\n",
      "149.77202009997563\n",
      "484.3508063000045\n"
     ]
    },
    {
     "name": "stderr",
     "output_type": "stream",
     "text": [
      "\n",
      "KeyboardInterrupt\n",
      "\n"
     ]
    }
   ],
   "source": [
    "from timeit import timeit\n",
    "\n",
    "print(timeit(lambda: conformance_measure([test_trace.tolist()[:50]], dk_process_model, dk_init_marking, dk_final_marking, cfg.activity_names), number=1))\n",
    "print(timeit(lambda: conformance_measure([test_trace.tolist()[:100]], dk_process_model, dk_init_marking, dk_final_marking, cfg.activity_names), number=1))\n",
    "print(timeit(lambda: conformance_measure([test_trace.tolist()[:500]], dk_process_model, dk_init_marking, dk_final_marking, cfg.activity_names), number=1))\n",
    "print(timeit(lambda: conformance_measure([test_trace.tolist()[:800]], dk_process_model, dk_init_marking, dk_final_marking, cfg.activity_names), number=1))\n",
    "print(timeit(lambda: conformance_measure([test_trace.tolist()[:1000]], dk_process_model, dk_init_marking, dk_final_marking, cfg.activity_names), number=1))\n",
    "print(timeit(lambda: conformance_measure([test_trace.tolist()[:1500]], dk_process_model, dk_init_marking, dk_final_marking, cfg.activity_names), number=1))\n",
    "print(timeit(lambda: conformance_measure([test_trace.tolist()[:2000]], dk_process_model, dk_init_marking, dk_final_marking, cfg.activity_names), number=1))"
   ],
   "metadata": {
    "collapsed": false,
    "ExecuteTime": {
     "end_time": "2025-01-21T12:05:32.254749900Z",
     "start_time": "2025-01-21T07:43:20.662120900Z"
    }
   },
   "id": "93030cef1e96a28f"
  },
  {
   "cell_type": "code",
   "execution_count": null,
   "outputs": [],
   "source": [],
   "metadata": {
    "collapsed": false
   },
   "id": "3cc035e2309ac679"
  }
 ],
 "metadata": {
  "kernelspec": {
   "display_name": "Python 3",
   "language": "python",
   "name": "python3"
  },
  "language_info": {
   "codemirror_mode": {
    "name": "ipython",
    "version": 2
   },
   "file_extension": ".py",
   "mimetype": "text/x-python",
   "name": "python",
   "nbconvert_exporter": "python",
   "pygments_lexer": "ipython2",
   "version": "2.7.6"
  }
 },
 "nbformat": 4,
 "nbformat_minor": 5
}
