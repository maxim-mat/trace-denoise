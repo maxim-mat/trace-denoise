{
 "cells": [
  {
   "cell_type": "code",
   "id": "initial_id",
   "metadata": {
    "collapsed": true,
    "ExecuteTime": {
     "end_time": "2025-01-22T06:29:27.947647600Z",
     "start_time": "2025-01-22T06:29:18.369011900Z"
    }
   },
   "source": [
    "from utils.initialization import initialize\n",
    "import pandas as pd\n",
    "from dataset.dataset import SaladsDataset\n",
    "from utils.pm_utils import discover_dk_process, remove_duplicates_dataset, remove_duplicates_trace, conformance_measure\n",
    "from denoisers.ConditionalUnetMatrixDenoiser import ConditionalUnetMatrixDenoiser\n",
    "from utils.Config import Config\n",
    "import json\n",
    "import pickle as pkl\n",
    "import torch"
   ],
   "outputs": [],
   "execution_count": 1
  },
  {
   "cell_type": "code",
   "source": [
    "with open(\"config.json\", \"r\") as f:\n",
    "    cfg_json = json.load(f)\n",
    "    cfg = Config(**cfg_json)\n",
    "with open(cfg.data_path, \"rb\") as f:\n",
    "    dataset = pkl.load(f)"
   ],
   "metadata": {
    "collapsed": false,
    "ExecuteTime": {
     "end_time": "2025-01-22T06:29:30.767338500Z",
     "start_time": "2025-01-22T06:29:30.702344Z"
    }
   },
   "id": "91a5cbc0a27017d6",
   "outputs": [],
   "execution_count": 2
  },
  {
   "cell_type": "code",
   "source": [
    "salads_dataset = SaladsDataset(dataset['target'], dataset['stochastic'])"
   ],
   "metadata": {
    "collapsed": false,
    "ExecuteTime": {
     "end_time": "2025-01-22T06:29:32.539174100Z",
     "start_time": "2025-01-22T06:29:32.352977100Z"
    }
   },
   "id": "1904829b6c2333b2",
   "outputs": [],
   "execution_count": 3
  },
  {
   "cell_type": "code",
   "source": [
    "dk_process_model, dk_init_marking, dk_final_marking = discover_dk_process(salads_dataset, cfg,\n",
    "                                                                          preprocess=remove_duplicates_dataset)"
   ],
   "metadata": {
    "collapsed": false,
    "ExecuteTime": {
     "end_time": "2025-01-22T06:29:36.589292600Z",
     "start_time": "2025-01-22T06:29:33.841599300Z"
    }
   },
   "id": "f17f77ac4c7e272",
   "outputs": [],
   "execution_count": 4
  },
  {
   "cell_type": "code",
   "source": [
    "test_trace_one_hot = salads_dataset[0:10][0].permute(0, 2, 1)\n",
    "# test_trace_one_hot = salads_dataset[0][0]\n",
    "test_traces = torch.argmax(test_trace_one_hot, dim=1).to('cpu')\n",
    "test_traces"
   ],
   "metadata": {
    "collapsed": false,
    "ExecuteTime": {
     "end_time": "2025-01-22T06:36:53.201922100Z",
     "start_time": "2025-01-22T06:36:53.116622400Z"
    }
   },
   "id": "d1e99b0a8ebf8cdf",
   "outputs": [
    {
     "data": {
      "text/plain": "tensor([[17, 17, 17,  ..., 19, 19, 19],\n        [17, 17, 17,  ..., 19, 19, 19],\n        [17, 17, 17,  ..., 19, 19, 19],\n        ...,\n        [17, 17, 17,  ..., 19, 19, 19],\n        [17, 17, 17,  ..., 18, 18, 18],\n        [17, 17, 17,  ..., 18, 18, 18]])"
     },
     "execution_count": 11,
     "metadata": {},
     "output_type": "execute_result"
    }
   ],
   "execution_count": 11
  },
  {
   "cell_type": "code",
   "source": [
    "# traces = [remove_duplicates_trace(test_trace).tolist() for test_trace in test_traces]\n",
    "traces = [remove_duplicates_trace(test_traces).tolist()]\n",
    "traces"
   ],
   "metadata": {
    "collapsed": false,
    "ExecuteTime": {
     "end_time": "2025-01-22T06:20:41.872739Z",
     "start_time": "2025-01-22T06:20:41.795407400Z"
    }
   },
   "id": "efd98ab4a179face",
   "outputs": [
    {
     "data": {
      "text/plain": "[[17, 11, 13, 4, 5, 2, 3, 0, 1, 15, 8, 7, 9, 6, 10, 16, 14, 18, 19]]"
     },
     "execution_count": 7,
     "metadata": {},
     "output_type": "execute_result"
    }
   ],
   "execution_count": 7
  },
  {
   "cell_type": "code",
   "source": [
    "conformance_measure(test_traces, dk_process_model, dk_init_marking, dk_final_marking, cfg.activity_names, limit=1000, remove_duplicates=False, approximate=False)"
   ],
   "metadata": {
    "collapsed": false,
    "ExecuteTime": {
     "end_time": "2025-01-22T06:37:57.867850400Z",
     "start_time": "2025-01-22T06:37:44.241981100Z"
    }
   },
   "id": "82fde1eaed8a36fa",
   "outputs": [
    {
     "data": {
      "text/plain": "aligning log, completed variants ::   0%|          | 0/3 [00:00<?, ?it/s]",
      "application/vnd.jupyter.widget-view+json": {
       "version_major": 2,
       "version_minor": 0,
       "model_id": "499f0d232d93432c80aae0e19e10b386"
      }
     },
     "metadata": {},
     "output_type": "display_data"
    },
    {
     "name": "stderr",
     "output_type": "stream",
     "text": [
      "\n",
      "KeyboardInterrupt\n",
      "\n"
     ]
    }
   ],
   "execution_count": 13
  },
  {
   "cell_type": "code",
   "source": [
    "from timeit import timeit\n",
    "\n",
    "print(timeit(lambda: conformance_measure(test_traces, dk_process_model, dk_init_marking, dk_final_marking, cfg.activity_names, limit=50, remove_duplicates=False, approximate=False), number=1))\n",
    "print(timeit(lambda: conformance_measure(test_traces, dk_process_model, dk_init_marking, dk_final_marking, cfg.activity_names, limit=100, remove_duplicates=False, approximate=False), number=1))\n",
    "print(timeit(lambda: conformance_measure(test_traces, dk_process_model, dk_init_marking, dk_final_marking, cfg.activity_names, limit=500, remove_duplicates=False, approximate=False), number=1))\n",
    "print(timeit(lambda: conformance_measure(test_traces, dk_process_model, dk_init_marking, dk_final_marking, cfg.activity_names, limit=800, remove_duplicates=False, approximate=False), number=1))\n",
    "print(timeit(lambda: conformance_measure(test_traces, dk_process_model, dk_init_marking, dk_final_marking, cfg.activity_names, limit=1000, remove_duplicates=False, approximate=False), number=1))\n",
    "print(timeit(lambda: conformance_measure(test_traces, dk_process_model, dk_init_marking, dk_final_marking, cfg.activity_names, limit=1500, remove_duplicates=False, approximate=False), number=1))"
   ],
   "metadata": {
    "collapsed": false,
    "ExecuteTime": {
     "end_time": "2025-01-22T07:00:46.096230Z",
     "start_time": "2025-01-22T06:39:16.039042600Z"
    }
   },
   "id": "93030cef1e96a28f",
   "outputs": [
    {
     "name": "stdout",
     "output_type": "stream",
     "text": [
      "0.04814810000243597\n",
      "0.09023819999856642\n"
     ]
    },
    {
     "data": {
      "text/plain": "aligning log, completed variants ::   0%|          | 0/3 [00:00<?, ?it/s]",
      "application/vnd.jupyter.widget-view+json": {
       "version_major": 2,
       "version_minor": 0,
       "model_id": "4976870811a94abc97680976c4b687bd"
      }
     },
     "metadata": {},
     "output_type": "display_data"
    },
    {
     "name": "stdout",
     "output_type": "stream",
     "text": [
      "45.73386870000104\n"
     ]
    },
    {
     "data": {
      "text/plain": "aligning log, completed variants ::   0%|          | 0/3 [00:00<?, ?it/s]",
      "application/vnd.jupyter.widget-view+json": {
       "version_major": 2,
       "version_minor": 0,
       "model_id": "bf21f4f50ae2436ab9196bb476a6d544"
      }
     },
     "metadata": {},
     "output_type": "display_data"
    },
    {
     "name": "stdout",
     "output_type": "stream",
     "text": [
      "84.80784029999631\n"
     ]
    },
    {
     "data": {
      "text/plain": "aligning log, completed variants ::   0%|          | 0/3 [00:00<?, ?it/s]",
      "application/vnd.jupyter.widget-view+json": {
       "version_major": 2,
       "version_minor": 0,
       "model_id": "c3475ba1edae4ac68acb3bda73e14648"
      }
     },
     "metadata": {},
     "output_type": "display_data"
    },
    {
     "name": "stdout",
     "output_type": "stream",
     "text": [
      "204.91699569999764\n"
     ]
    },
    {
     "data": {
      "text/plain": "aligning log, completed variants ::   0%|          | 0/3 [00:00<?, ?it/s]",
      "application/vnd.jupyter.widget-view+json": {
       "version_major": 2,
       "version_minor": 0,
       "model_id": "3274cda8b0434ea89c0f642a4613467e"
      }
     },
     "metadata": {},
     "output_type": "display_data"
    },
    {
     "name": "stderr",
     "output_type": "stream",
     "text": [
      "\n",
      "KeyboardInterrupt\n",
      "\n"
     ]
    }
   ],
   "execution_count": 14
  },
  {
   "cell_type": "code",
   "execution_count": null,
   "outputs": [
    {
     "name": "stdout",
     "output_type": "stream",
     "text": [
      "0.07293619999836665\n",
      "0.08972649999486748\n"
     ]
    },
    {
     "data": {
      "text/plain": "aligning log, completed variants ::   0%|          | 0/3 [00:00<?, ?it/s]",
      "application/vnd.jupyter.widget-view+json": {
       "version_major": 2,
       "version_minor": 0,
       "model_id": "044a405e90934682b2e4bbfebe74c959"
      }
     },
     "metadata": {},
     "output_type": "display_data"
    },
    {
     "name": "stdout",
     "output_type": "stream",
     "text": [
      "22.258232499996666\n"
     ]
    },
    {
     "data": {
      "text/plain": "aligning log, completed variants ::   0%|          | 0/3 [00:00<?, ?it/s]",
      "application/vnd.jupyter.widget-view+json": {
       "version_major": 2,
       "version_minor": 0,
       "model_id": "b8529866e3cc476e8c19bfd6581139d1"
      }
     },
     "metadata": {},
     "output_type": "display_data"
    },
    {
     "name": "stdout",
     "output_type": "stream",
     "text": [
      "116.61333290000039\n"
     ]
    },
    {
     "data": {
      "text/plain": "aligning log, completed variants ::   0%|          | 0/3 [00:00<?, ?it/s]",
      "application/vnd.jupyter.widget-view+json": {
       "version_major": 2,
       "version_minor": 0,
       "model_id": "901feaf1f1db4a21a7354c0970ec78ba"
      }
     },
     "metadata": {},
     "output_type": "display_data"
    },
    {
     "name": "stdout",
     "output_type": "stream",
     "text": [
      "175.67832310000085\n"
     ]
    },
    {
     "data": {
      "text/plain": "aligning log, completed variants ::   0%|          | 0/3 [00:00<?, ?it/s]",
      "application/vnd.jupyter.widget-view+json": {
       "version_major": 2,
       "version_minor": 0,
       "model_id": "c8db59952075431d9a370cbed5b264ec"
      }
     },
     "metadata": {},
     "output_type": "display_data"
    }
   ],
   "source": [
    "print(timeit(lambda: conformance_measure(test_traces, dk_process_model, dk_init_marking, dk_final_marking, cfg.activity_names, limit=50, remove_duplicates=False, approximate=True), number=1))\n",
    "print(timeit(lambda: conformance_measure(test_traces, dk_process_model, dk_init_marking, dk_final_marking, cfg.activity_names, limit=100, remove_duplicates=False, approximate=True), number=1))\n",
    "print(timeit(lambda: conformance_measure(test_traces, dk_process_model, dk_init_marking, dk_final_marking, cfg.activity_names, limit=500, remove_duplicates=False, approximate=True), number=1))\n",
    "print(timeit(lambda: conformance_measure(test_traces, dk_process_model, dk_init_marking, dk_final_marking, cfg.activity_names, limit=800, remove_duplicates=False, approximate=True), number=1))\n",
    "print(timeit(lambda: conformance_measure(test_traces, dk_process_model, dk_init_marking, dk_final_marking, cfg.activity_names, limit=1000, remove_duplicates=False, approximate=True), number=1))\n",
    "print(timeit(lambda: conformance_measure(test_traces, dk_process_model, dk_init_marking, dk_final_marking, cfg.activity_names, limit=1500, remove_duplicates=False, approximate=True), number=1))"
   ],
   "metadata": {
    "collapsed": false,
    "is_executing": true,
    "ExecuteTime": {
     "start_time": "2025-01-22T09:22:15.086559100Z"
    }
   },
   "id": "3cc035e2309ac679"
  },
  {
   "cell_type": "code",
   "execution_count": null,
   "outputs": [],
   "source": [],
   "metadata": {
    "collapsed": false
   },
   "id": "6f4cc751799dd5d1"
  }
 ],
 "metadata": {
  "kernelspec": {
   "display_name": "Python 3",
   "language": "python",
   "name": "python3"
  },
  "language_info": {
   "codemirror_mode": {
    "name": "ipython",
    "version": 2
   },
   "file_extension": ".py",
   "mimetype": "text/x-python",
   "name": "python",
   "nbconvert_exporter": "python",
   "pygments_lexer": "ipython2",
   "version": "2.7.6"
  }
 },
 "nbformat": 4,
 "nbformat_minor": 5
}
