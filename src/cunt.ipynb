{
 "cells": [
  {
   "cell_type": "code",
   "execution_count": 1,
   "id": "initial_id",
   "metadata": {
    "collapsed": true,
    "ExecuteTime": {
     "end_time": "2024-07-03T17:47:18.159752200Z",
     "start_time": "2024-07-03T17:47:16.545752400Z"
    }
   },
   "outputs": [],
   "source": [
    "import pickle as pkl\n",
    "\n",
    "import torch\n",
    "\n",
    "from ddpm.ddmp_multinomial import Diffusion"
   ]
  },
  {
   "cell_type": "code",
   "execution_count": 2,
   "outputs": [],
   "source": [
    "with open(\"../data/pickles/50_salads_one_hot.pkl\", \"rb\") as f:\n",
    "    dataset = pkl.load(f)"
   ],
   "metadata": {
    "collapsed": false,
    "ExecuteTime": {
     "end_time": "2024-07-03T17:47:18.199751300Z",
     "start_time": "2024-07-03T17:47:18.161753100Z"
    }
   },
   "id": "eef832ee35d85e2f"
  },
  {
   "cell_type": "code",
   "execution_count": 3,
   "outputs": [],
   "source": [
    "with open(\"../data/pickles/50salads_target.pkl\", \"rb\") as f:\n",
    "    temp = pkl.load(f)"
   ],
   "metadata": {
    "collapsed": false,
    "ExecuteTime": {
     "end_time": "2024-07-03T17:47:18.200252Z",
     "start_time": "2024-07-03T17:47:18.178251600Z"
    }
   },
   "id": "a89358ed811e2a1"
  },
  {
   "cell_type": "code",
   "execution_count": 4,
   "outputs": [],
   "source": [
    "from dataset.dataset import SaladsDataset\n",
    "from sklearn.model_selection import train_test_split\n",
    "from torch.utils.data import DataLoader\n",
    "from torch.nn.utils.rnn import pad_sequence\n",
    "\n",
    "train_dataset, test_dataset = train_test_split(dataset, train_size=0.8, shuffle=True, random_state=17)\n",
    "train_salads = SaladsDataset(train_dataset)\n",
    "test_salads = SaladsDataset(test_dataset)\n",
    "\n",
    "train_loader = DataLoader(\n",
    "    train_salads,\n",
    "    batch_size=10,\n",
    "    collate_fn=lambda batch: pad_sequence(batch, batch_first=True, padding_value=-1)\n",
    ")\n",
    "test_loader = DataLoader(\n",
    "    test_salads,\n",
    "    batch_size=10,\n",
    "    collate_fn=lambda batch: pad_sequence(batch, batch_first=True, padding_value=-1)\n",
    ")"
   ],
   "metadata": {
    "collapsed": false,
    "ExecuteTime": {
     "end_time": "2024-07-03T17:47:19.796250800Z",
     "start_time": "2024-07-03T17:47:18.185251300Z"
    }
   },
   "id": "450760a816552d0"
  },
  {
   "cell_type": "code",
   "execution_count": 5,
   "outputs": [],
   "source": [
    "victim = next(iter(train_loader)).permute(0, 2, 1)"
   ],
   "metadata": {
    "collapsed": false,
    "ExecuteTime": {
     "end_time": "2024-07-03T17:47:19.811751700Z",
     "start_time": "2024-07-03T17:47:19.796250800Z"
    }
   },
   "id": "152c4c245f1ecea5"
  },
  {
   "cell_type": "code",
   "execution_count": 6,
   "outputs": [],
   "source": [
    "temp2 = victim.double().to(\"cuda\")"
   ],
   "metadata": {
    "collapsed": false,
    "ExecuteTime": {
     "end_time": "2024-07-03T17:47:20.011251300Z",
     "start_time": "2024-07-03T17:47:19.802750400Z"
    }
   },
   "id": "3260e06517035bba"
  },
  {
   "cell_type": "code",
   "execution_count": 7,
   "outputs": [
    {
     "data": {
      "text/plain": "torch.Size([10, 19, 6584])"
     },
     "execution_count": 7,
     "metadata": {},
     "output_type": "execute_result"
    }
   ],
   "source": [
    "temp2.shape"
   ],
   "metadata": {
    "collapsed": false,
    "ExecuteTime": {
     "end_time": "2024-07-03T17:47:22.298083700Z",
     "start_time": "2024-07-03T17:47:22.281584700Z"
    }
   },
   "id": "4d10e1d89102569"
  },
  {
   "cell_type": "code",
   "execution_count": 9,
   "outputs": [],
   "source": [
    "diffuser = Diffusion(noise_steps=200)"
   ],
   "metadata": {
    "collapsed": false,
    "ExecuteTime": {
     "end_time": "2024-07-03T17:48:28.232634800Z",
     "start_time": "2024-07-03T17:48:28.211132600Z"
    }
   },
   "id": "69ac453cd2c8468e"
  },
  {
   "cell_type": "code",
   "execution_count": 10,
   "outputs": [],
   "source": [
    "t = diffuser.sample_timesteps(temp2.shape[0]).to(\"cuda\")"
   ],
   "metadata": {
    "collapsed": false,
    "ExecuteTime": {
     "end_time": "2024-07-03T17:48:28.953581800Z",
     "start_time": "2024-07-03T17:48:28.944581500Z"
    }
   },
   "id": "16159ca59e12be38"
  },
  {
   "cell_type": "code",
   "execution_count": 11,
   "outputs": [
    {
     "data": {
      "text/plain": "tensor([ 88, 184, 127,  67,  69,  12, 167, 196,  55,  50], device='cuda:0')"
     },
     "execution_count": 11,
     "metadata": {},
     "output_type": "execute_result"
    }
   ],
   "source": [
    "t"
   ],
   "metadata": {
    "collapsed": false,
    "ExecuteTime": {
     "end_time": "2024-07-03T17:48:29.407175600Z",
     "start_time": "2024-07-03T17:48:29.381678600Z"
    }
   },
   "id": "e5179ff1069be7c6"
  },
  {
   "cell_type": "code",
   "execution_count": 12,
   "outputs": [
    {
     "ename": "KeyboardInterrupt",
     "evalue": "",
     "output_type": "error",
     "traceback": [
      "\u001B[1;31m---------------------------------------------------------------------------\u001B[0m",
      "\u001B[1;31mKeyboardInterrupt\u001B[0m                         Traceback (most recent call last)",
      "Cell \u001B[1;32mIn[12], line 1\u001B[0m\n\u001B[1;32m----> 1\u001B[0m x_t, eps \u001B[38;5;241m=\u001B[39m diffuser\u001B[38;5;241m.\u001B[39mnoise_data(temp2, t)\n",
      "File \u001B[1;32mD:\\Projects\\trace-denoise\\src\\ddpm\\ddmp_multinomial.py:25\u001B[0m, in \u001B[0;36mDiffusion.noise_data\u001B[1;34m(self, x, t)\u001B[0m\n\u001B[0;32m     23\u001B[0m sqrt_one_minus_alpha_hat \u001B[38;5;241m=\u001B[39m torch\u001B[38;5;241m.\u001B[39msqrt(\u001B[38;5;241m1\u001B[39m \u001B[38;5;241m-\u001B[39m \u001B[38;5;28mself\u001B[39m\u001B[38;5;241m.\u001B[39malpha_hat[t])[:, \u001B[38;5;28;01mNone\u001B[39;00m, \u001B[38;5;28;01mNone\u001B[39;00m]\n\u001B[0;32m     24\u001B[0m eps \u001B[38;5;241m=\u001B[39m torch\u001B[38;5;241m.\u001B[39mrandn_like(x)\n\u001B[1;32m---> 25\u001B[0m \u001B[38;5;28;01mreturn\u001B[39;00m sqrt_alpha_hat \u001B[38;5;241m*\u001B[39m x \u001B[38;5;241m+\u001B[39m sqrt_one_minus_alpha_hat \u001B[38;5;241m*\u001B[39m eps, eps\n",
      "File \u001B[1;32m_pydevd_bundle\\pydevd_cython_win32_311_64.pyx:1179\u001B[0m, in \u001B[0;36m_pydevd_bundle.pydevd_cython_win32_311_64.SafeCallWrapper.__call__\u001B[1;34m()\u001B[0m\n",
      "File \u001B[1;32m_pydevd_bundle\\pydevd_cython_win32_311_64.pyx:620\u001B[0m, in \u001B[0;36m_pydevd_bundle.pydevd_cython_win32_311_64.PyDBFrame.trace_dispatch\u001B[1;34m()\u001B[0m\n",
      "File \u001B[1;32m_pydevd_bundle\\pydevd_cython_win32_311_64.pyx:1095\u001B[0m, in \u001B[0;36m_pydevd_bundle.pydevd_cython_win32_311_64.PyDBFrame.trace_dispatch\u001B[1;34m()\u001B[0m\n",
      "File \u001B[1;32m_pydevd_bundle\\pydevd_cython_win32_311_64.pyx:1057\u001B[0m, in \u001B[0;36m_pydevd_bundle.pydevd_cython_win32_311_64.PyDBFrame.trace_dispatch\u001B[1;34m()\u001B[0m\n",
      "File \u001B[1;32m_pydevd_bundle\\pydevd_cython_win32_311_64.pyx:317\u001B[0m, in \u001B[0;36m_pydevd_bundle.pydevd_cython_win32_311_64.PyDBFrame.do_wait_suspend\u001B[1;34m()\u001B[0m\n",
      "File \u001B[1;32mC:\\Program Files\\JetBrains\\DataSpell 2023.2.5\\plugins\\python-ce\\helpers\\pydev\\pydevd.py:1160\u001B[0m, in \u001B[0;36mPyDB.do_wait_suspend\u001B[1;34m(self, thread, frame, event, arg, send_suspend_message, is_unhandled_exception)\u001B[0m\n\u001B[0;32m   1157\u001B[0m         from_this_thread\u001B[38;5;241m.\u001B[39mappend(frame_id)\n\u001B[0;32m   1159\u001B[0m \u001B[38;5;28;01mwith\u001B[39;00m \u001B[38;5;28mself\u001B[39m\u001B[38;5;241m.\u001B[39m_threads_suspended_single_notification\u001B[38;5;241m.\u001B[39mnotify_thread_suspended(thread_id, stop_reason):\n\u001B[1;32m-> 1160\u001B[0m     \u001B[38;5;28mself\u001B[39m\u001B[38;5;241m.\u001B[39m_do_wait_suspend(thread, frame, event, arg, suspend_type, from_this_thread)\n",
      "File \u001B[1;32mC:\\Program Files\\JetBrains\\DataSpell 2023.2.5\\plugins\\python-ce\\helpers\\pydev\\pydevd.py:1175\u001B[0m, in \u001B[0;36mPyDB._do_wait_suspend\u001B[1;34m(self, thread, frame, event, arg, suspend_type, from_this_thread)\u001B[0m\n\u001B[0;32m   1172\u001B[0m             \u001B[38;5;28mself\u001B[39m\u001B[38;5;241m.\u001B[39m_call_mpl_hook()\n\u001B[0;32m   1174\u001B[0m         \u001B[38;5;28mself\u001B[39m\u001B[38;5;241m.\u001B[39mprocess_internal_commands()\n\u001B[1;32m-> 1175\u001B[0m         time\u001B[38;5;241m.\u001B[39msleep(\u001B[38;5;241m0.01\u001B[39m)\n\u001B[0;32m   1177\u001B[0m \u001B[38;5;28mself\u001B[39m\u001B[38;5;241m.\u001B[39mcancel_async_evaluation(get_current_thread_id(thread), \u001B[38;5;28mstr\u001B[39m(\u001B[38;5;28mid\u001B[39m(frame)))\n\u001B[0;32m   1179\u001B[0m \u001B[38;5;66;03m# process any stepping instructions\u001B[39;00m\n",
      "\u001B[1;31mKeyboardInterrupt\u001B[0m: "
     ]
    }
   ],
   "source": [
    "x_t, eps = diffuser.noise_data(temp2, t)"
   ],
   "metadata": {
    "collapsed": false,
    "ExecuteTime": {
     "end_time": "2024-07-03T17:48:51.625200500Z",
     "start_time": "2024-07-03T17:48:33.192638300Z"
    }
   },
   "id": "1c62dd753b464fe7"
  },
  {
   "cell_type": "code",
   "execution_count": 12,
   "outputs": [],
   "source": [
    "from src.denoisers.UnetDenoiser import UnetDenoiser\n",
    "\n",
    "model = UnetDenoiser(19, 19, 6584, 128, \"cuda\").to(\"cuda\")"
   ],
   "metadata": {
    "collapsed": false,
    "ExecuteTime": {
     "end_time": "2024-06-30T18:54:05.195207Z",
     "start_time": "2024-06-30T18:54:05.121711200Z"
    }
   },
   "id": "4c80541c66067f97"
  },
  {
   "cell_type": "code",
   "execution_count": 13,
   "outputs": [
    {
     "name": "stdout",
     "output_type": "stream",
     "text": [
      "ERROR! Session/line number was not unique in database. History logging moved to new session 218\n"
     ]
    },
    {
     "data": {
      "text/plain": "tensor([[[ 0.4355,  0.4279,  0.8490,  ...,  0.8727,  0.4341,  1.1588],\n         [ 0.0712, -0.0865,  0.4550,  ...,  0.6751,  0.4271,  0.5068],\n         [-0.4031, -0.5460,  0.3195,  ...,  0.5228,  0.1884,  0.5502],\n         ...,\n         [ 0.3839, -0.1651, -0.8033,  ...,  0.2512,  0.0898,  0.1498],\n         [ 0.1670, -0.2241, -0.2958,  ..., -0.1461,  0.2614, -0.1255],\n         [-0.0841,  0.1751, -0.3773,  ..., -0.3929,  0.7829, -0.5099]],\n\n        [[ 0.2364,  0.4050,  0.8047,  ..., -0.3621, -0.2066,  0.2873],\n         [-0.4098, -0.1003,  0.0720,  ..., -0.5330,  0.3601, -0.1344],\n         [-0.0510,  0.0586,  0.3071,  ...,  0.4373,  0.2036,  0.5619],\n         ...,\n         [ 0.2722, -0.1322,  0.0191,  ..., -0.5555,  0.4708,  0.3151],\n         [-0.0568, -0.1975,  0.2429,  ...,  0.3730,  0.5565,  0.0851],\n         [ 0.0706, -0.1271,  0.3143,  ...,  0.4036,  0.2741, -0.2531]],\n\n        [[ 0.1720,  0.4396,  1.4391,  ..., -0.0277,  0.2064,  0.5989],\n         [-0.2654,  0.0979,  0.9508,  ...,  0.1181,  0.5940,  0.2384],\n         [-0.2210,  0.0724,  0.7618,  ...,  0.6320,  0.0947,  0.3385],\n         ...,\n         [ 0.3617, -0.2055,  0.0229,  ..., -0.8924,  0.0770,  0.2785],\n         [ 0.0436,  0.2903, -0.0930,  ...,  0.1626,  0.8277,  0.0585],\n         [ 0.0491,  0.1690, -0.6747,  ...,  0.5450,  0.3191,  0.1652]],\n\n        ...,\n\n        [[ 0.0498,  0.6661,  0.8266,  ..., -0.1144,  0.3017,  0.7044],\n         [-0.0428,  0.2020, -0.4070,  ...,  0.3433, -0.1126,  0.3942],\n         [-0.0961,  0.4885, -0.4306,  ...,  0.8168,  0.2496,  0.7285],\n         ...,\n         [ 0.3057,  0.6781, -0.0592,  ...,  0.0366, -0.0879,  0.2256],\n         [-0.2568, -0.1973,  0.8541,  ...,  0.0233,  0.5531,  0.2286],\n         [ 0.1399, -0.3109,  0.5769,  ...,  0.5236,  0.1586, -0.5620]],\n\n        [[ 0.3963,  0.9579,  1.1372,  ..., -0.2552,  0.6955,  0.7667],\n         [ 0.3664, -0.0861,  0.7108,  ..., -0.1583, -0.0700,  0.2531],\n         [ 0.0099, -0.1334,  0.3546,  ...,  0.0955,  0.6263,  0.8828],\n         ...,\n         [ 0.3201, -0.0068,  0.4587,  ..., -0.0330,  0.3253,  0.5554],\n         [ 0.0574,  0.1355,  0.0641,  ..., -0.3810,  0.2987,  0.6152],\n         [-0.0467, -0.4855, -0.2516,  ...,  0.1278,  0.1118,  0.0893]],\n\n        [[ 0.0563,  0.5616,  1.0405,  ..., -0.0315,  0.5656,  0.6508],\n         [ 0.0881,  0.1006, -0.1191,  ...,  0.1172, -0.1212,  0.3229],\n         [-0.1666,  0.0803,  0.1658,  ..., -0.1122,  0.6724,  0.6271],\n         ...,\n         [ 0.5254,  0.3023,  0.2428,  ...,  0.4038,  0.1114,  0.9389],\n         [ 0.0274, -0.2251,  0.2336,  ...,  0.0353,  0.5164,  0.2124],\n         [-0.0904, -0.0924,  0.6637,  ...,  0.3052, -0.1370,  0.5007]]],\n       device='cuda:0', grad_fn=<ConvolutionBackward0>)"
     },
     "execution_count": 13,
     "metadata": {},
     "output_type": "execute_result"
    }
   ],
   "source": [
    "model(x_t.float(), t.float())"
   ],
   "metadata": {
    "collapsed": false,
    "ExecuteTime": {
     "end_time": "2024-06-30T18:54:28.417369600Z",
     "start_time": "2024-06-30T18:54:28.056370100Z"
    }
   },
   "id": "34d516f3983af587"
  },
  {
   "cell_type": "code",
   "execution_count": null,
   "outputs": [],
   "source": [
    "from ddpm.modules import UNet_conditional"
   ],
   "metadata": {
    "collapsed": false
   },
   "id": "ec83b7bbb7b05da6"
  },
  {
   "cell_type": "code",
   "execution_count": null,
   "outputs": [],
   "source": [
    "model_cunt = UNet_conditional().to(\"cuda\").float()"
   ],
   "metadata": {
    "collapsed": false
   },
   "id": "1a89912eed879309"
  },
  {
   "cell_type": "code",
   "execution_count": null,
   "outputs": [],
   "source": [
    "diffusion_cunt = Diffusion(noise_steps=256)\n",
    "t_c = diffusion_cunt.sample_timesteps(10).to(\"cuda\")"
   ],
   "metadata": {
    "collapsed": false
   },
   "id": "ced7273d8d7e0eec"
  },
  {
   "cell_type": "code",
   "execution_count": null,
   "outputs": [],
   "source": [
    "import torch\n",
    "\n",
    "victim_cunt = torch.rand(10, 3, 128, 128).to(\"cuda\")"
   ],
   "metadata": {
    "collapsed": false
   },
   "id": "6f97dbc59fcb00"
  },
  {
   "cell_type": "code",
   "execution_count": null,
   "outputs": [],
   "source": [
    "model_cunt(victim_cunt.float(), t_c.float(), None)"
   ],
   "metadata": {
    "collapsed": false
   },
   "id": "63052c8769066a3f"
  },
  {
   "cell_type": "code",
   "execution_count": null,
   "outputs": [],
   "source": [],
   "metadata": {
    "collapsed": false
   },
   "id": "1d6ca1c86db0fad1"
  }
 ],
 "metadata": {
  "kernelspec": {
   "display_name": "Python 3",
   "language": "python",
   "name": "python3"
  },
  "language_info": {
   "codemirror_mode": {
    "name": "ipython",
    "version": 2
   },
   "file_extension": ".py",
   "mimetype": "text/x-python",
   "name": "python",
   "nbconvert_exporter": "python",
   "pygments_lexer": "ipython2",
   "version": "2.7.6"
  }
 },
 "nbformat": 4,
 "nbformat_minor": 5
}
