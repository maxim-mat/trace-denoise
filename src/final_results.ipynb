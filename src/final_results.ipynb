{
 "cells": [
  {
   "cell_type": "code",
   "id": "initial_id",
   "metadata": {
    "collapsed": true,
    "ExecuteTime": {
     "end_time": "2025-04-14T17:06:24.142721Z",
     "start_time": "2025-04-14T17:06:17.280221Z"
    }
   },
   "source": [
    "import streamlit as st\n",
    "import pickle as pkl\n",
    "import numpy as np\n",
    "import torch\n",
    "from sklearn.model_selection import train_test_split\n",
    "from sklearn.metrics import accuracy_score, f1_score, precision_score, recall_score, roc_auc_score\n",
    "from denoisers.ConditionalUnetDenoiser import ConditionalUnetDenoiser\n",
    "from denoisers.ConditionalUnetMatrixDenoiser import ConditionalUnetMatrixDenoiser\n",
    "from utils.graph_utils import get_process_model_reachability_graph_transition_matrix, get_process_model_petri_net_transition_matrix\n",
    "from utils.pm_utils import discover_dk_process, remove_duplicates_dataset, pad_to_multiple_of_n\n",
    "from utils.Config import Config\n",
    "import plotly.express as px\n",
    "import plotly.graph_objects as go\n",
    "from dataset.dataset import SaladsDataset\n",
    "from ddpm.ddpm_multinomial import Diffusion\n",
    "import os\n",
    "import json\n",
    "from torch.utils.data import DataLoader\n",
    "from tqdm.notebook import tqdm"
   ],
   "outputs": [],
   "execution_count": 1
  },
  {
   "metadata": {
    "ExecuteTime": {
     "end_time": "2025-04-14T17:06:24.154721Z",
     "start_time": "2025-04-14T17:06:24.147223Z"
    }
   },
   "cell_type": "code",
   "source": [
    "def load_experiment_config(target_dir):\n",
    "    config_path = os.path.join(target_dir, \"cfg.json\")\n",
    "    if os.path.exists(config_path):\n",
    "        with open(config_path, \"r\") as f:\n",
    "            return Config(**json.load(f))\n",
    "    else:\n",
    "        st.warning(\"Configuration file not found.\")\n",
    "        return None\n",
    "def load_experiment_data_and_model(target_dir, cfg):\n",
    "    with open(cfg.data_path, \"rb\") as f:\n",
    "        base_dataset = pkl.load(f)\n",
    "    dataset = SaladsDataset(base_dataset['target'], base_dataset['stochastic'])\n",
    "    train_dataset, test_dataset = train_test_split(dataset, train_size=cfg.train_percent, shuffle=True,\n",
    "                                                   random_state=cfg.seed)\n",
    "    dk_process_model, dk_init_marking, dk_final_marking = discover_dk_process(train_dataset, cfg,\n",
    "                                                                              preprocess=remove_duplicates_dataset)\n",
    "    diffuser = Diffusion(noise_steps=cfg.num_timesteps, device=cfg.device)\n",
    "    if cfg.enable_matrix:\n",
    "        rg_nx, rg_transition_matrix = get_process_model_petri_net_transition_matrix(dk_process_model, dk_init_marking, dk_final_marking)\n",
    "        rg_transition_matrix = torch.tensor(rg_transition_matrix, device=cfg.device).unsqueeze(0).float()\n",
    "        rg_transition_matrix = pad_to_multiple_of_n(rg_transition_matrix)\n",
    "        denoiser = ConditionalUnetMatrixDenoiser(in_ch=cfg.num_classes, out_ch=cfg.num_classes,\n",
    "                                                 max_input_dim=dataset.sequence_length,\n",
    "                                                 transition_dim=rg_transition_matrix.shape[-1],\n",
    "                                                 device=cfg.device).to(cfg.device).float()\n",
    "    else:\n",
    "        rg_transition_matrix = torch.randn((cfg.num_classes, 2, 2)).to(cfg.device)\n",
    "        denoiser = ConditionalUnetDenoiser(in_ch=cfg.num_classes, out_ch=cfg.num_classes,\n",
    "                                           max_input_dim=dataset.sequence_length,\n",
    "                                           device=cfg.device).to(cfg.device).float()\n",
    "    ckpt_path = os.path.join(target_dir, \"best.ckpt\")\n",
    "    denoiser.load_state_dict(torch.load(ckpt_path, map_location=cfg.device)['model_state'])\n",
    "    final_res_path = os.path.join(target_dir, \"final_results.json\")\n",
    "    if os.path.exists(final_res_path):\n",
    "        with open(final_res_path, \"r\") as f:\n",
    "            final_res = json.load(f)\n",
    "    else:\n",
    "        st.warning(\"Final results not found.\")\n",
    "\n",
    "    return (train_dataset, test_dataset, dk_process_model, dk_init_marking, dk_final_marking, rg_transition_matrix,\n",
    "            diffuser, denoiser, final_res)"
   ],
   "id": "4a6e98b2557316e4",
   "outputs": [],
   "execution_count": 2
  },
  {
   "metadata": {
    "ExecuteTime": {
     "end_time": "2025-04-14T17:06:26.766907Z",
     "start_time": "2025-04-14T17:06:24.452722Z"
    }
   },
   "cell_type": "code",
   "source": [
    "target_dir = r\"D:\\Projects\\trace-denoise\\final_runs\\50_salads_unified_gamma_0_5\"\n",
    "cfg = load_experiment_config(target_dir)\n",
    "cfg.device = \"cuda:0\"\n",
    "train_dataset, test_dataset, dk_process_model, dk_init_marking, dk_final_marking, rg_transition_matrix, diffuser, denoiser, final_res = load_experiment_data_and_model(target_dir, cfg)"
   ],
   "id": "8c7b61a1bc0fd233",
   "outputs": [],
   "execution_count": 3
  },
  {
   "metadata": {
    "ExecuteTime": {
     "end_time": "2025-04-14T17:06:26.925884Z",
     "start_time": "2025-04-14T17:06:26.887408Z"
    }
   },
   "cell_type": "code",
   "source": [
    "with open(\"../data/pickles/50_salads_unified.pkl\", \"rb\") as f:\n",
    "    salads_data = pkl.load(f)\n",
    "with open(\"../data/pickles/gtea_unified.pkl\", \"rb\") as f:\n",
    "    gtea_data = pkl.load(f)"
   ],
   "id": "11f47e33e79b2cf0",
   "outputs": [],
   "execution_count": 4
  },
  {
   "metadata": {
    "ExecuteTime": {
     "end_time": "2025-04-14T17:06:27.012885Z",
     "start_time": "2025-04-14T17:06:26.942386Z"
    }
   },
   "cell_type": "code",
   "source": [
    "salads_dataset = SaladsDataset(salads_data['target'], salads_data['stochastic'])\n",
    "gtea_dataset = SaladsDataset(gtea_data['target'], gtea_data['stochastic'])"
   ],
   "id": "b3ca28059421a8ad",
   "outputs": [],
   "execution_count": 5
  },
  {
   "metadata": {
    "ExecuteTime": {
     "end_time": "2025-04-14T17:06:27.037384Z",
     "start_time": "2025-04-14T17:06:27.031384Z"
    }
   },
   "cell_type": "code",
   "source": [
    "salads_train, salads_test = train_test_split(salads_dataset, train_size=0.75, shuffle=True, random_state=42)\n",
    "gtea_train, gtea_test = train_test_split(gtea_dataset, train_size=0.75, shuffle=True, random_state=42)\n",
    "salads_tr_loader = DataLoader(salads_train, batch_size=2, shuffle=False, num_workers=2)\n",
    "salads_ts_loader = DataLoader(salads_test, batch_size=2, shuffle=False, num_workers=2)\n",
    "gtea_tr_loader = DataLoader(gtea_train, batch_size=2, shuffle=False, num_workers=2)\n",
    "gtea_ts_loader = DataLoader(gtea_test, batch_size=2, shuffle=False, num_workers=2)"
   ],
   "id": "da35564dd7142b6d",
   "outputs": [],
   "execution_count": 6
  },
  {
   "metadata": {
    "ExecuteTime": {
     "end_time": "2025-04-14T17:06:27.089386Z",
     "start_time": "2025-04-14T17:06:27.086387Z"
    }
   },
   "cell_type": "code",
   "source": [
    "SALADS_PAD = 19\n",
    "GTEA_PAD = 11"
   ],
   "id": "3be0b0a6fc9d0f04",
   "outputs": [],
   "execution_count": 7
  },
  {
   "metadata": {
    "ExecuteTime": {
     "end_time": "2025-04-14T17:06:27.111884Z",
     "start_time": "2025-04-14T17:06:27.101388Z"
    }
   },
   "cell_type": "code",
   "source": [
    "x_list = []\n",
    "y_list = []\n",
    "for x_0, y in salads_test:\n",
    "    x_tokens = torch.argmax(x_0, dim=1)\n",
    "    y_tokens = torch.argmax(y, dim=1)\n",
    "    x_list.append(np.array(x_tokens[x_tokens != SALADS_PAD]))\n",
    "    y_list.append(np.array(y_tokens[x_tokens != SALADS_PAD]))"
   ],
   "id": "80ed7333b209bcbe",
   "outputs": [],
   "execution_count": 8
  },
  {
   "metadata": {
    "ExecuteTime": {
     "end_time": "2025-04-14T17:06:27.142384Z",
     "start_time": "2025-04-14T17:06:27.139384Z"
    }
   },
   "cell_type": "code",
   "source": [
    "def average_accuracy_dataset(gt, dataset):\n",
    "    return np.mean([accuracy_score(np.argmax(x, axis=1), np.argmax(y, axis=1)) for x, y in zip(gt, dataset)])"
   ],
   "id": "f74742334f935ddd",
   "outputs": [],
   "execution_count": 9
  },
  {
   "metadata": {
    "ExecuteTime": {
     "end_time": "2025-04-14T17:06:27.240387Z",
     "start_time": "2025-04-14T17:06:27.199387Z"
    }
   },
   "cell_type": "code",
   "source": [
    "acc = np.mean([accuracy_score(x, y) for x, y in zip(x_list, y_list)])\n",
    "rec = np.mean([recall_score(x, y, average='macro', zero_division=0) for x, y in zip(x_list, y_list)])\n",
    "pre = np.mean([precision_score(x, y, average='macro', zero_division=0) for x, y in zip(x_list, y_list)])\n",
    "# auc = np.mean([roc_auc_score(x, y) for x, y in zip(x_list, y_list)])\n",
    "print(\"Argmax measures: accuracy: {:.4f}, recall: {:.4f}, precision: {:.4f}\".format(acc, rec, pre))"
   ],
   "id": "40f04df47afb1e62",
   "outputs": [
    {
     "name": "stdout",
     "output_type": "stream",
     "text": [
      "Argmax measures: accuracy: 0.7746, recall: 0.7318, precision: 0.7448\n"
     ]
    }
   ],
   "execution_count": 10
  },
  {
   "metadata": {
    "ExecuteTime": {
     "end_time": "2025-04-14T17:08:53.385058Z",
     "start_time": "2025-04-14T17:06:33.941557Z"
    }
   },
   "cell_type": "code",
   "source": [
    "denoiser.eval()\n",
    "denoised = []\n",
    "gt = []\n",
    "for x, y in tqdm(salads_ts_loader):\n",
    "    x = x.permute(0, 2, 1).to(cfg.device).float()\n",
    "    y = y.permute(0, 2, 1).to(cfg.device).float()\n",
    "    x_hat, matrix_hat, loss, seq_loss, mat_loss = \\\n",
    "        diffuser.sample_with_matrix(denoiser, y.shape[0], cfg.num_classes, denoiser.max_input_dim,\n",
    "                                    rg_transition_matrix.shape[-1], rg_transition_matrix, x, y,\n",
    "                                    cfg.predict_on)\n",
    "    denoised.append(x_hat)\n",
    "    gt.append(x)"
   ],
   "id": "34baa1b9607ace71",
   "outputs": [
    {
     "data": {
      "text/plain": [
       "  0%|          | 0/5 [00:00<?, ?it/s]"
      ],
      "application/vnd.jupyter.widget-view+json": {
       "version_major": 2,
       "version_minor": 0,
       "model_id": "7a65223b4c264d10840db0d04dc40b54"
      }
     },
     "metadata": {},
     "output_type": "display_data"
    }
   ],
   "execution_count": 11
  },
  {
   "metadata": {
    "ExecuteTime": {
     "end_time": "2025-04-14T17:08:53.552557Z",
     "start_time": "2025-04-14T17:08:53.549058Z"
    }
   },
   "cell_type": "code",
   "source": [
    "denoised = torch.cat(denoised, dim=0)\n",
    "gt = torch.cat(gt, dim=0)"
   ],
   "id": "a77e0a4e54e2dd43",
   "outputs": [],
   "execution_count": 12
  },
  {
   "metadata": {
    "ExecuteTime": {
     "end_time": "2025-04-14T17:08:53.647557Z",
     "start_time": "2025-04-14T17:08:53.631058Z"
    }
   },
   "cell_type": "code",
   "source": [
    "x_list = []\n",
    "y_list = []\n",
    "for x_0, y in zip(gt, denoised):\n",
    "    x_tokens = torch.argmax(x_0, dim=0)\n",
    "    y_tokens = torch.argmax(torch.softmax(y, dim=0).transpose(0, 1), dim=1)\n",
    "    x_list.append(np.array(x_tokens[x_tokens != SALADS_PAD].cpu()))\n",
    "    y_list.append(np.array(y_tokens[x_tokens != SALADS_PAD].cpu()))"
   ],
   "id": "4fa137905d0175b0",
   "outputs": [],
   "execution_count": 13
  },
  {
   "metadata": {
    "ExecuteTime": {
     "end_time": "2025-04-14T17:08:53.760558Z",
     "start_time": "2025-04-14T17:08:53.720059Z"
    }
   },
   "cell_type": "code",
   "source": [
    "acc = np.mean([accuracy_score(x, y) for x, y in zip(x_list, y_list)])\n",
    "rec = np.mean([recall_score(x, y, average='macro', zero_division=0) for x, y in zip(x_list, y_list)])\n",
    "pre = np.mean([precision_score(x, y, average='macro', zero_division=0) for x, y in zip(x_list, y_list)])\n",
    "# auc = np.mean([roc_auc_score(x, y) for x, y in zip(x_list, y_list)])\n",
    "print(\"Diffusion with pm measures: accuracy: {:.4f}, recall: {:.4f}, precision: {:.4f}\".format(acc, rec, pre))"
   ],
   "id": "2f120c6fb180c280",
   "outputs": [
    {
     "name": "stdout",
     "output_type": "stream",
     "text": [
      "Diffusion measures: accuracy: 0.9344, recall: 0.8865, precision: 0.8914\n"
     ]
    }
   ],
   "execution_count": 14
  },
  {
   "metadata": {
    "ExecuteTime": {
     "end_time": "2025-04-14T17:10:22.458558Z",
     "start_time": "2025-04-14T17:08:53.819559Z"
    }
   },
   "cell_type": "code",
   "source": [
    "target_dir = r\"D:\\Projects\\trace-denoise\\final_runs\\50_salads_unified_gamma_0_5_without_process\"\n",
    "cfg = load_experiment_config(target_dir)\n",
    "cfg.device = \"cuda:0\"\n",
    "train_dataset, test_dataset, dk_process_model, dk_init_marking, dk_final_marking, rg_transition_matrix, diffuser, denoiser, final_res = load_experiment_data_and_model(target_dir, cfg)\n",
    "denoiser.eval()\n",
    "denoised = []\n",
    "gt = []\n",
    "for x, y in tqdm(salads_ts_loader):\n",
    "    x = x.permute(0, 2, 1).to(cfg.device).float()\n",
    "    y = y.permute(0, 2, 1).to(cfg.device).float()\n",
    "    x_hat, matrix_hat, loss, seq_loss, mat_loss = \\\n",
    "        diffuser.sample_with_matrix(denoiser, y.shape[0], cfg.num_classes, denoiser.max_input_dim,\n",
    "                                    rg_transition_matrix.shape[-1], rg_transition_matrix, x, y,\n",
    "                                    cfg.predict_on)\n",
    "    denoised.append(x_hat)\n",
    "    gt.append(x)\n",
    "denoised = torch.cat(denoised, dim=0)\n",
    "gt = torch.cat(gt, dim=0)\n",
    "x_list = []\n",
    "y_list = []\n",
    "for x_0, y in zip(gt, denoised):\n",
    "    x_tokens = torch.argmax(x_0, dim=0)\n",
    "    y_tokens = torch.argmax(torch.softmax(y, dim=0).transpose(0, 1), dim=1)\n",
    "    x_list.append(np.array(x_tokens[x_tokens != SALADS_PAD].cpu()))\n",
    "    y_list.append(np.array(y_tokens[x_tokens != SALADS_PAD].cpu()))\n",
    "acc = np.mean([accuracy_score(x, y) for x, y in zip(x_list, y_list)])\n",
    "rec = np.mean([recall_score(x, y, average='macro', zero_division=0) for x, y in zip(x_list, y_list)])\n",
    "pre = np.mean([precision_score(x, y, average='macro', zero_division=0) for x, y in zip(x_list, y_list)])\n",
    "# auc = np.mean([roc_auc_score(x, y) for x, y in zip(x_list, y_list)])\n",
    "print(\"Diffusion without pm measures: accuracy: {:.4f}, recall: {:.4f}, precision: {:.4f}\".format(acc, rec, pre))"
   ],
   "id": "f06cd6b419c28b7",
   "outputs": [
    {
     "data": {
      "text/plain": [
       "  0%|          | 0/5 [00:00<?, ?it/s]"
      ],
      "application/vnd.jupyter.widget-view+json": {
       "version_major": 2,
       "version_minor": 0,
       "model_id": "dc9a92d63ac74e29bef7368527bb80d6"
      }
     },
     "metadata": {},
     "output_type": "display_data"
    },
    {
     "name": "stdout",
     "output_type": "stream",
     "text": [
      "Diffusion without pm measures: accuracy: 0.9352, recall: 0.8835, precision: 0.8876\n"
     ]
    }
   ],
   "execution_count": 15
  },
  {
   "metadata": {
    "ExecuteTime": {
     "end_time": "2025-04-13T19:20:35.011823Z",
     "start_time": "2025-04-13T19:20:35.008324Z"
    }
   },
   "cell_type": "code",
   "source": "datasets = [ds for ds in os.listdir(\"../data/synthetic\") if \"det\" in ds]",
   "id": "f29423b6b05c9f44",
   "outputs": [],
   "execution_count": 15
  },
  {
   "metadata": {
    "ExecuteTime": {
     "end_time": "2025-04-13T19:59:55.052375Z",
     "start_time": "2025-04-13T19:20:35.075327Z"
    }
   },
   "cell_type": "code",
   "source": [
    "result_list = []\n",
    "denoiser.eval()\n",
    "for ds in tqdm(datasets):\n",
    "    with open(os.path.join(\"../data/synthetic\", ds), \"rb\") as f:\n",
    "        data = pkl.load(f)\n",
    "    dataset = SaladsDataset(data['target'], data['stochastic'])\n",
    "    dataset_train, dataset_test = train_test_split(dataset, train_size=0.75, shuffle=True, random_state=42)\n",
    "    train_loader = DataLoader(dataset_train, batch_size=2, shuffle=False, num_workers=2)\n",
    "    test_loader = DataLoader(dataset_test, batch_size=2, shuffle=False, num_workers=2)\n",
    "    denoised = []\n",
    "    gt = []\n",
    "    for x, y in tqdm(test_loader):\n",
    "        x = x.permute(0, 2, 1).to(cfg.device).float()\n",
    "        y = y.permute(0, 2, 1).to(cfg.device).float()\n",
    "        x_hat, matrix_hat, loss, seq_loss, mat_loss = \\\n",
    "            diffuser.sample_with_matrix(denoiser, y.shape[0], cfg.num_classes, denoiser.max_input_dim,\n",
    "                                        rg_transition_matrix.shape[-1], rg_transition_matrix, x, y,\n",
    "                                        cfg.predict_on)\n",
    "        denoised.append(x_hat)\n",
    "        gt.append(x)\n",
    "    denoised = torch.cat(denoised, dim=0)\n",
    "    gt = torch.cat(gt, dim=0)\n",
    "    x_list = []\n",
    "    y_list = []\n",
    "    for x_0, y in zip(gt, denoised):\n",
    "        x_tokens = torch.argmax(x_0, dim=0)\n",
    "        y_tokens = torch.argmax(torch.softmax(y, dim=0).transpose(0, 1), dim=1)\n",
    "        x_list.append(np.array(x_tokens[x_tokens != SALADS_PAD].cpu()))\n",
    "        y_list.append(np.array(y_tokens[x_tokens != SALADS_PAD].cpu()))\n",
    "    acc = np.mean([accuracy_score(x, y) for x, y in zip(x_list, y_list)])\n",
    "    rec = np.mean([recall_score(x, y, average='macro', zero_division=0) for x, y in zip(x_list, y_list)])\n",
    "    pre = np.mean([precision_score(x, y, average='macro', zero_division=0) for x, y in zip(x_list, y_list)])\n",
    "    result_list.append(\n",
    "        {\"dataset\": ds, \"accuracy\": acc, \"recall\": rec, \"precision\": pre}\n",
    "    )"
   ],
   "id": "815fd4a1a866f8c6",
   "outputs": [
    {
     "name": "stderr",
     "output_type": "stream",
     "text": [
      "  0%|          | 0/17 [00:00<?, ?it/s]\n",
      "  0%|          | 0/5 [00:00<?, ?it/s]\u001B[A\n",
      " 20%|██        | 1/5 [00:29<01:57, 29.46s/it]\u001B[A\n",
      " 40%|████      | 2/5 [00:56<01:24, 28.05s/it]\u001B[A\n",
      " 60%|██████    | 3/5 [01:22<00:53, 26.92s/it]\u001B[A\n",
      " 80%|████████  | 4/5 [01:48<00:26, 26.59s/it]\u001B[A\n",
      "100%|██████████| 5/5 [02:14<00:00, 26.88s/it]\u001B[A\n",
      "  6%|▌         | 1/17 [02:14<35:53, 134.58s/it]\n",
      "  0%|          | 0/5 [00:00<?, ?it/s]\u001B[A\n",
      " 20%|██        | 1/5 [00:29<01:56, 29.02s/it]\u001B[A\n",
      " 40%|████      | 2/5 [00:54<01:20, 26.87s/it]\u001B[A\n",
      " 60%|██████    | 3/5 [01:19<00:52, 26.15s/it]\u001B[A\n",
      " 80%|████████  | 4/5 [01:44<00:25, 25.80s/it]\u001B[A\n",
      "100%|██████████| 5/5 [02:10<00:00, 26.08s/it]\u001B[A\n",
      " 12%|█▏        | 2/17 [04:25<33:04, 132.27s/it]\n",
      "  0%|          | 0/5 [00:00<?, ?it/s]\u001B[A\n",
      " 20%|██        | 1/5 [00:27<01:51, 27.93s/it]\u001B[A\n",
      " 40%|████      | 2/5 [00:53<01:19, 26.62s/it]\u001B[A\n",
      " 60%|██████    | 3/5 [01:19<00:52, 26.08s/it]\u001B[A\n",
      " 80%|████████  | 4/5 [01:44<00:25, 25.95s/it]\u001B[A\n",
      "100%|██████████| 5/5 [02:12<00:00, 26.47s/it]\u001B[A\n",
      " 18%|█▊        | 3/17 [06:37<30:53, 132.41s/it]\n",
      "  0%|          | 0/5 [00:00<?, ?it/s]\u001B[A\n",
      " 20%|██        | 1/5 [00:28<01:55, 28.84s/it]\u001B[A\n",
      " 40%|████      | 2/5 [00:56<01:23, 27.94s/it]\u001B[A\n",
      " 60%|██████    | 3/5 [01:23<00:55, 27.63s/it]\u001B[A\n",
      " 80%|████████  | 4/5 [01:52<00:28, 28.24s/it]\u001B[A\n",
      "100%|██████████| 5/5 [02:24<00:00, 28.81s/it]\u001B[A\n",
      " 24%|██▎       | 4/17 [09:02<29:42, 137.11s/it]\n",
      "  0%|          | 0/5 [00:00<?, ?it/s]\u001B[A\n",
      " 20%|██        | 1/5 [00:33<02:13, 33.41s/it]\u001B[A\n",
      " 40%|████      | 2/5 [01:04<01:35, 31.90s/it]\u001B[A\n",
      " 60%|██████    | 3/5 [01:35<01:02, 31.38s/it]\u001B[A\n",
      " 80%|████████  | 4/5 [02:05<00:31, 31.11s/it]\u001B[A\n",
      "100%|██████████| 5/5 [02:37<00:00, 31.51s/it]\u001B[A\n",
      " 29%|██▉       | 5/17 [11:39<28:54, 144.56s/it]\n",
      "  0%|          | 0/5 [00:00<?, ?it/s]\u001B[A\n",
      " 20%|██        | 1/5 [00:36<02:24, 36.19s/it]\u001B[A\n",
      " 40%|████      | 2/5 [01:08<01:41, 33.77s/it]\u001B[A\n",
      " 60%|██████    | 3/5 [01:39<01:04, 32.48s/it]\u001B[A\n",
      " 80%|████████  | 4/5 [02:10<00:31, 31.98s/it]\u001B[A\n",
      "100%|██████████| 5/5 [02:41<00:00, 32.35s/it]\u001B[A\n",
      " 35%|███▌      | 6/17 [14:21<27:35, 150.48s/it]\n",
      "  0%|          | 0/5 [00:00<?, ?it/s]\u001B[A\n",
      " 20%|██        | 1/5 [00:33<02:13, 33.38s/it]\u001B[A\n",
      " 40%|████      | 2/5 [01:04<01:35, 31.89s/it]\u001B[A\n",
      " 60%|██████    | 3/5 [01:35<01:02, 31.42s/it]\u001B[A\n",
      " 80%|████████  | 4/5 [02:05<00:31, 31.19s/it]\u001B[A\n",
      "100%|██████████| 5/5 [02:37<00:00, 31.41s/it]\u001B[A\n",
      " 41%|████      | 7/17 [16:59<25:27, 152.71s/it]\n",
      "  0%|          | 0/5 [00:00<?, ?it/s]\u001B[A\n",
      " 20%|██        | 1/5 [00:33<02:15, 33.77s/it]\u001B[A\n",
      " 40%|████      | 2/5 [01:01<01:31, 30.47s/it]\u001B[A\n",
      " 60%|██████    | 3/5 [01:28<00:57, 28.72s/it]\u001B[A\n",
      " 80%|████████  | 4/5 [01:55<00:27, 27.83s/it]\u001B[A\n",
      "100%|██████████| 5/5 [02:22<00:00, 28.46s/it]\u001B[A\n",
      " 47%|████▋     | 8/17 [19:21<22:25, 149.46s/it]\n",
      "  0%|          | 0/5 [00:00<?, ?it/s]\u001B[A\n",
      " 20%|██        | 1/5 [00:28<01:54, 28.51s/it]\u001B[A\n",
      " 40%|████      | 2/5 [00:54<01:21, 27.10s/it]\u001B[A\n",
      " 60%|██████    | 3/5 [01:20<00:53, 26.69s/it]\u001B[A\n",
      " 80%|████████  | 4/5 [01:47<00:26, 26.60s/it]\u001B[A\n",
      "100%|██████████| 5/5 [02:14<00:00, 26.81s/it]\u001B[A\n",
      " 53%|█████▎    | 9/17 [21:35<19:17, 144.71s/it]\n",
      "  0%|          | 0/5 [00:00<?, ?it/s]\u001B[A\n",
      " 20%|██        | 1/5 [00:28<01:52, 28.09s/it]\u001B[A\n",
      " 40%|████      | 2/5 [00:53<01:19, 26.39s/it]\u001B[A\n",
      " 60%|██████    | 3/5 [01:18<00:51, 25.81s/it]\u001B[A\n",
      " 80%|████████  | 4/5 [01:43<00:25, 25.54s/it]\u001B[A\n",
      "100%|██████████| 5/5 [02:08<00:00, 25.79s/it]\u001B[A\n",
      " 59%|█████▉    | 10/17 [23:45<16:19, 139.91s/it]\n",
      "  0%|          | 0/5 [00:00<?, ?it/s]\u001B[A\n",
      " 20%|██        | 1/5 [00:28<01:52, 28.13s/it]\u001B[A\n",
      " 40%|████      | 2/5 [00:53<01:19, 26.51s/it]\u001B[A\n",
      " 60%|██████    | 3/5 [01:18<00:51, 25.92s/it]\u001B[A\n",
      " 80%|████████  | 4/5 [01:44<00:25, 25.70s/it]\u001B[A\n",
      "100%|██████████| 5/5 [02:11<00:00, 26.25s/it]\u001B[A\n",
      " 65%|██████▍   | 11/17 [25:56<13:44, 137.34s/it]\n",
      "  0%|          | 0/5 [00:00<?, ?it/s]\u001B[A\n",
      " 20%|██        | 1/5 [00:29<01:56, 29.24s/it]\u001B[A\n",
      " 40%|████      | 2/5 [00:55<01:22, 27.52s/it]\u001B[A\n",
      " 60%|██████    | 3/5 [01:21<00:53, 26.88s/it]\u001B[A\n",
      " 80%|████████  | 4/5 [01:47<00:26, 26.62s/it]\u001B[A\n",
      "100%|██████████| 5/5 [02:14<00:00, 26.86s/it]\u001B[A\n",
      " 71%|███████   | 12/17 [28:11<11:22, 136.48s/it]\n",
      "  0%|          | 0/5 [00:00<?, ?it/s]\u001B[A\n",
      " 20%|██        | 1/5 [00:28<01:54, 28.55s/it]\u001B[A\n",
      " 40%|████      | 2/5 [00:54<01:21, 27.12s/it]\u001B[A\n",
      " 60%|██████    | 3/5 [01:20<00:53, 26.67s/it]\u001B[A\n",
      " 80%|████████  | 4/5 [01:46<00:26, 26.44s/it]\u001B[A\n",
      "100%|██████████| 5/5 [02:13<00:00, 26.64s/it]\u001B[A\n",
      " 76%|███████▋  | 13/17 [30:24<09:02, 135.56s/it]\n",
      "  0%|          | 0/5 [00:00<?, ?it/s]\u001B[A\n",
      " 20%|██        | 1/5 [00:28<01:53, 28.44s/it]\u001B[A\n",
      " 40%|████      | 2/5 [00:54<01:21, 27.04s/it]\u001B[A\n",
      " 60%|██████    | 3/5 [01:20<00:53, 26.64s/it]\u001B[A\n",
      " 80%|████████  | 4/5 [01:46<00:26, 26.46s/it]\u001B[A\n",
      "100%|██████████| 5/5 [02:13<00:00, 26.64s/it]\u001B[A\n",
      " 82%|████████▏ | 14/17 [32:37<06:44, 134.91s/it]\n",
      "  0%|          | 0/5 [00:00<?, ?it/s]\u001B[A\n",
      " 20%|██        | 1/5 [00:28<01:54, 28.57s/it]\u001B[A\n",
      " 40%|████      | 2/5 [00:54<01:21, 27.23s/it]\u001B[A\n",
      " 60%|██████    | 3/5 [01:20<00:53, 26.69s/it]\u001B[A\n",
      " 80%|████████  | 4/5 [01:47<00:26, 26.48s/it]\u001B[A\n",
      "100%|██████████| 5/5 [02:13<00:00, 26.70s/it]\u001B[A\n",
      " 88%|████████▊ | 15/17 [34:51<04:29, 134.55s/it]\n",
      "  0%|          | 0/5 [00:00<?, ?it/s]\u001B[A\n",
      " 20%|██        | 1/5 [00:28<01:53, 28.45s/it]\u001B[A\n",
      " 40%|████      | 2/5 [00:54<01:21, 27.07s/it]\u001B[A\n",
      " 60%|██████    | 3/5 [01:20<00:53, 26.63s/it]\u001B[A\n",
      " 80%|████████  | 4/5 [01:46<00:26, 26.43s/it]\u001B[A\n",
      "100%|██████████| 5/5 [02:13<00:00, 26.64s/it]\u001B[A\n",
      " 94%|█████████▍| 16/17 [37:05<02:14, 134.21s/it]\n",
      "  0%|          | 0/5 [00:00<?, ?it/s]\u001B[A\n",
      " 20%|██        | 1/5 [00:28<01:55, 28.97s/it]\u001B[A\n",
      " 40%|████      | 2/5 [00:55<01:22, 27.42s/it]\u001B[A\n",
      " 60%|██████    | 3/5 [01:21<00:53, 26.91s/it]\u001B[A\n",
      " 80%|████████  | 4/5 [01:47<00:26, 26.68s/it]\u001B[A\n",
      "100%|██████████| 5/5 [02:14<00:00, 26.92s/it]\u001B[A\n",
      "100%|██████████| 17/17 [39:19<00:00, 138.82s/it]\n"
     ]
    }
   ],
   "execution_count": 16
  },
  {
   "metadata": {
    "ExecuteTime": {
     "end_time": "2025-04-13T20:04:32.243370Z",
     "start_time": "2025-04-13T20:04:29.459373Z"
    }
   },
   "cell_type": "code",
   "source": [
    "results_argmax = []\n",
    "for ds in datasets:\n",
    "    with open(os.path.join(\"../data/synthetic\", ds), \"rb\") as f:\n",
    "        data = pkl.load(f)\n",
    "    dataset = SaladsDataset(data['target'], data['stochastic'])\n",
    "    dataset_train, dataset_test = train_test_split(dataset, train_size=0.75, shuffle=True, random_state=42)\n",
    "    x_list = []\n",
    "    y_list = []\n",
    "    for x_0, y in dataset_test:\n",
    "        x_tokens = torch.argmax(x_0, dim=1)\n",
    "        y_tokens = torch.argmax(y, dim=1)\n",
    "        x_list.append(np.array(x_tokens[x_tokens != SALADS_PAD]))\n",
    "        y_list.append(np.array(y_tokens[x_tokens != SALADS_PAD]))\n",
    "    acc = np.mean([accuracy_score(x, y) for x, y in zip(x_list, y_list)])\n",
    "    rec = np.mean([recall_score(x, y, average='macro', zero_division=0) for x, y in zip(x_list, y_list)])\n",
    "    pre = np.mean([precision_score(x, y, average='macro', zero_division=0) for x, y in zip(x_list, y_list)])\n",
    "    results_argmax.append(\n",
    "        {\"dataset\": ds, \"accuracy\": acc, \"recall\": rec, \"precision\": pre}\n",
    "    )"
   ],
   "id": "b4b1efcbe016f65c",
   "outputs": [],
   "execution_count": 20
  },
  {
   "metadata": {
    "ExecuteTime": {
     "end_time": "2025-04-13T20:07:19.862818Z",
     "start_time": "2025-04-13T20:07:19.852317Z"
    }
   },
   "cell_type": "code",
   "source": [
    "noise_levels = np.arange(0.67, 0.84, 0.01)\n",
    "accs = [d[\"accuracy\"] for d in result_list]\n",
    "accs_argmax = [d[\"accuracy\"] for d in results_argmax]\n",
    "fig = go.Figure()\n",
    "fig.add_trace(go.Scatter(x=noise_levels, y=accs, mode='lines+markers', name='Diffusion', line=dict(color='blue')))\n",
    "fig.add_trace(go.Scatter(x=noise_levels, y=accs_argmax, mode='lines+markers', name='Argmax', line=dict(color='red')))\n",
    "fig.update_layout(title='Accuracy vs Noise Level',\n",
    "                  xaxis_title='Noise Level',\n",
    "                  yaxis_title='Accuracy')\n",
    "fig.show()"
   ],
   "id": "56f6e918a3fdd8f4",
   "outputs": [
    {
     "data": {
      "application/vnd.plotly.v1+json": {
       "data": [
        {
         "line": {
          "color": "blue"
         },
         "mode": "lines+markers",
         "name": "Diffusion",
         "x": [
          0.67,
          0.68,
          0.6900000000000001,
          0.7000000000000001,
          0.7100000000000001,
          0.7200000000000001,
          0.7300000000000001,
          0.7400000000000001,
          0.7500000000000001,
          0.7600000000000001,
          0.7700000000000001,
          0.7800000000000001,
          0.7900000000000001,
          0.8000000000000002,
          0.8100000000000002,
          0.8200000000000002,
          0.8300000000000002
         ],
         "y": [
          0.7645785877832708,
          0.763068104232345,
          0.7380356006956587,
          0.7294126451871745,
          0.6919463254407003,
          0.6715130955166321,
          0.6698887783044379,
          0.649819045300086,
          0.656461040462119,
          0.6343912182511239,
          0.6288270614412361,
          0.5973069528421917,
          0.5665836266971764,
          0.5871407240197349,
          0.55383620005546,
          0.5136347831628061,
          0.4778145262039037
         ],
         "type": "scatter"
        },
        {
         "line": {
          "color": "red"
         },
         "mode": "lines+markers",
         "name": "Argmax",
         "x": [
          0.67,
          0.68,
          0.6900000000000001,
          0.7000000000000001,
          0.7100000000000001,
          0.7200000000000001,
          0.7300000000000001,
          0.7400000000000001,
          0.7500000000000001,
          0.7600000000000001,
          0.7700000000000001,
          0.7800000000000001,
          0.7900000000000001,
          0.8000000000000002,
          0.8100000000000002,
          0.8200000000000002,
          0.8300000000000002
         ],
         "y": [
          0.9080482643215622,
          0.897465095323175,
          0.8844080954741613,
          0.8667907200895858,
          0.8509176259703368,
          0.8356945729583425,
          0.8176218793345447,
          0.79647268573594,
          0.7712765951061193,
          0.7497924839687962,
          0.7220086587823867,
          0.6945997796855545,
          0.6680217359765733,
          0.6334854297313012,
          0.5967395835567926,
          0.5640841521721406,
          0.5229411396221704
         ],
         "type": "scatter"
        }
       ],
       "layout": {
        "template": {
         "data": {
          "candlestick": [
           {
            "decreasing": {
             "line": {
              "color": "#000033"
             }
            },
            "increasing": {
             "line": {
              "color": "#000032"
             }
            },
            "type": "candlestick"
           }
          ],
          "contourcarpet": [
           {
            "colorscale": [
             [
              0.0,
              "#000011"
             ],
             [
              0.1111111111111111,
              "#000012"
             ],
             [
              0.2222222222222222,
              "#000013"
             ],
             [
              0.3333333333333333,
              "#000014"
             ],
             [
              0.4444444444444444,
              "#000015"
             ],
             [
              0.5555555555555556,
              "#000016"
             ],
             [
              0.6666666666666666,
              "#000017"
             ],
             [
              0.7777777777777778,
              "#000018"
             ],
             [
              0.8888888888888888,
              "#000019"
             ],
             [
              1.0,
              "#000020"
             ]
            ],
            "type": "contourcarpet"
           }
          ],
          "contour": [
           {
            "colorscale": [
             [
              0.0,
              "#000011"
             ],
             [
              0.1111111111111111,
              "#000012"
             ],
             [
              0.2222222222222222,
              "#000013"
             ],
             [
              0.3333333333333333,
              "#000014"
             ],
             [
              0.4444444444444444,
              "#000015"
             ],
             [
              0.5555555555555556,
              "#000016"
             ],
             [
              0.6666666666666666,
              "#000017"
             ],
             [
              0.7777777777777778,
              "#000018"
             ],
             [
              0.8888888888888888,
              "#000019"
             ],
             [
              1.0,
              "#000020"
             ]
            ],
            "type": "contour"
           }
          ],
          "heatmap": [
           {
            "colorscale": [
             [
              0.0,
              "#000011"
             ],
             [
              0.1111111111111111,
              "#000012"
             ],
             [
              0.2222222222222222,
              "#000013"
             ],
             [
              0.3333333333333333,
              "#000014"
             ],
             [
              0.4444444444444444,
              "#000015"
             ],
             [
              0.5555555555555556,
              "#000016"
             ],
             [
              0.6666666666666666,
              "#000017"
             ],
             [
              0.7777777777777778,
              "#000018"
             ],
             [
              0.8888888888888888,
              "#000019"
             ],
             [
              1.0,
              "#000020"
             ]
            ],
            "type": "heatmap"
           }
          ],
          "histogram2d": [
           {
            "colorscale": [
             [
              0.0,
              "#000011"
             ],
             [
              0.1111111111111111,
              "#000012"
             ],
             [
              0.2222222222222222,
              "#000013"
             ],
             [
              0.3333333333333333,
              "#000014"
             ],
             [
              0.4444444444444444,
              "#000015"
             ],
             [
              0.5555555555555556,
              "#000016"
             ],
             [
              0.6666666666666666,
              "#000017"
             ],
             [
              0.7777777777777778,
              "#000018"
             ],
             [
              0.8888888888888888,
              "#000019"
             ],
             [
              1.0,
              "#000020"
             ]
            ],
            "type": "histogram2d"
           }
          ],
          "icicle": [
           {
            "textfont": {
             "color": "white"
            },
            "type": "icicle"
           }
          ],
          "sankey": [
           {
            "textfont": {
             "color": "#000036"
            },
            "type": "sankey"
           }
          ],
          "scatter": [
           {
            "marker": {
             "line": {
              "width": 0
             }
            },
            "type": "scatter"
           }
          ],
          "table": [
           {
            "cells": {
             "fill": {
              "color": "#000038"
             },
             "font": {
              "color": "#000037"
             },
             "line": {
              "color": "#000039"
             }
            },
            "header": {
             "fill": {
              "color": "#000040"
             },
             "font": {
              "color": "#000036"
             },
             "line": {
              "color": "#000039"
             }
            },
            "type": "table"
           }
          ],
          "waterfall": [
           {
            "connector": {
             "line": {
              "color": "#000036",
              "width": 2
             }
            },
            "decreasing": {
             "marker": {
              "color": "#000033"
             }
            },
            "increasing": {
             "marker": {
              "color": "#000032"
             }
            },
            "totals": {
             "marker": {
              "color": "#000034"
             }
            },
            "type": "waterfall"
           }
          ]
         },
         "layout": {
          "coloraxis": {
           "colorscale": [
            [
             0.0,
             "#000011"
            ],
            [
             0.1111111111111111,
             "#000012"
            ],
            [
             0.2222222222222222,
             "#000013"
            ],
            [
             0.3333333333333333,
             "#000014"
            ],
            [
             0.4444444444444444,
             "#000015"
            ],
            [
             0.5555555555555556,
             "#000016"
            ],
            [
             0.6666666666666666,
             "#000017"
            ],
            [
             0.7777777777777778,
             "#000018"
            ],
            [
             0.8888888888888888,
             "#000019"
            ],
            [
             1.0,
             "#000020"
            ]
           ]
          },
          "colorscale": {
           "diverging": [
            [
             0.0,
             "#000021"
            ],
            [
             0.1,
             "#000022"
            ],
            [
             0.2,
             "#000023"
            ],
            [
             0.3,
             "#000024"
            ],
            [
             0.4,
             "#000025"
            ],
            [
             0.5,
             "#000026"
            ],
            [
             0.6,
             "#000027"
            ],
            [
             0.7,
             "#000028"
            ],
            [
             0.8,
             "#000029"
            ],
            [
             0.9,
             "#000030"
            ],
            [
             1.0,
             "#000031"
            ]
           ],
           "sequential": [
            [
             0.0,
             "#000011"
            ],
            [
             0.1111111111111111,
             "#000012"
            ],
            [
             0.2222222222222222,
             "#000013"
            ],
            [
             0.3333333333333333,
             "#000014"
            ],
            [
             0.4444444444444444,
             "#000015"
            ],
            [
             0.5555555555555556,
             "#000016"
            ],
            [
             0.6666666666666666,
             "#000017"
            ],
            [
             0.7777777777777778,
             "#000018"
            ],
            [
             0.8888888888888888,
             "#000019"
            ],
            [
             1.0,
             "#000020"
            ]
           ],
           "sequentialminus": [
            [
             0.0,
             "#000011"
            ],
            [
             0.1111111111111111,
             "#000012"
            ],
            [
             0.2222222222222222,
             "#000013"
            ],
            [
             0.3333333333333333,
             "#000014"
            ],
            [
             0.4444444444444444,
             "#000015"
            ],
            [
             0.5555555555555556,
             "#000016"
            ],
            [
             0.6666666666666666,
             "#000017"
            ],
            [
             0.7777777777777778,
             "#000018"
            ],
            [
             0.8888888888888888,
             "#000019"
            ],
            [
             1.0,
             "#000020"
            ]
           ]
          },
          "colorway": [
           "#000001",
           "#000002",
           "#000003",
           "#000004",
           "#000005",
           "#000006",
           "#000007",
           "#000008",
           "#000009",
           "#000010"
          ]
         }
        },
        "title": {
         "text": "Accuracy vs Noise Level"
        },
        "xaxis": {
         "title": {
          "text": "Noise Level"
         }
        },
        "yaxis": {
         "title": {
          "text": "Accuracy"
         }
        }
       },
       "config": {
        "plotlyServerURL": "https://plot.ly"
       }
      },
      "text/html": [
       "<div>                            <div id=\"8435338d-8ad1-4ab8-acbf-fdfd95ddd9e1\" class=\"plotly-graph-div\" style=\"height:525px; width:100%;\"></div>            <script type=\"text/javascript\">                require([\"plotly\"], function(Plotly) {                    window.PLOTLYENV=window.PLOTLYENV || {};                                    if (document.getElementById(\"8435338d-8ad1-4ab8-acbf-fdfd95ddd9e1\")) {                    Plotly.newPlot(                        \"8435338d-8ad1-4ab8-acbf-fdfd95ddd9e1\",                        [{\"line\":{\"color\":\"blue\"},\"mode\":\"lines+markers\",\"name\":\"Diffusion\",\"x\":[0.67,0.68,0.6900000000000001,0.7000000000000001,0.7100000000000001,0.7200000000000001,0.7300000000000001,0.7400000000000001,0.7500000000000001,0.7600000000000001,0.7700000000000001,0.7800000000000001,0.7900000000000001,0.8000000000000002,0.8100000000000002,0.8200000000000002,0.8300000000000002],\"y\":[0.7645785877832708,0.763068104232345,0.7380356006956587,0.7294126451871745,0.6919463254407003,0.6715130955166321,0.6698887783044379,0.649819045300086,0.656461040462119,0.6343912182511239,0.6288270614412361,0.5973069528421917,0.5665836266971764,0.5871407240197349,0.55383620005546,0.5136347831628061,0.4778145262039037],\"type\":\"scatter\"},{\"line\":{\"color\":\"red\"},\"mode\":\"lines+markers\",\"name\":\"Argmax\",\"x\":[0.67,0.68,0.6900000000000001,0.7000000000000001,0.7100000000000001,0.7200000000000001,0.7300000000000001,0.7400000000000001,0.7500000000000001,0.7600000000000001,0.7700000000000001,0.7800000000000001,0.7900000000000001,0.8000000000000002,0.8100000000000002,0.8200000000000002,0.8300000000000002],\"y\":[0.9080482643215622,0.897465095323175,0.8844080954741613,0.8667907200895858,0.8509176259703368,0.8356945729583425,0.8176218793345447,0.79647268573594,0.7712765951061193,0.7497924839687962,0.7220086587823867,0.6945997796855545,0.6680217359765733,0.6334854297313012,0.5967395835567926,0.5640841521721406,0.5229411396221704],\"type\":\"scatter\"}],                        {\"template\":{\"data\":{\"candlestick\":[{\"decreasing\":{\"line\":{\"color\":\"#000033\"}},\"increasing\":{\"line\":{\"color\":\"#000032\"}},\"type\":\"candlestick\"}],\"contourcarpet\":[{\"colorscale\":[[0.0,\"#000011\"],[0.1111111111111111,\"#000012\"],[0.2222222222222222,\"#000013\"],[0.3333333333333333,\"#000014\"],[0.4444444444444444,\"#000015\"],[0.5555555555555556,\"#000016\"],[0.6666666666666666,\"#000017\"],[0.7777777777777778,\"#000018\"],[0.8888888888888888,\"#000019\"],[1.0,\"#000020\"]],\"type\":\"contourcarpet\"}],\"contour\":[{\"colorscale\":[[0.0,\"#000011\"],[0.1111111111111111,\"#000012\"],[0.2222222222222222,\"#000013\"],[0.3333333333333333,\"#000014\"],[0.4444444444444444,\"#000015\"],[0.5555555555555556,\"#000016\"],[0.6666666666666666,\"#000017\"],[0.7777777777777778,\"#000018\"],[0.8888888888888888,\"#000019\"],[1.0,\"#000020\"]],\"type\":\"contour\"}],\"heatmap\":[{\"colorscale\":[[0.0,\"#000011\"],[0.1111111111111111,\"#000012\"],[0.2222222222222222,\"#000013\"],[0.3333333333333333,\"#000014\"],[0.4444444444444444,\"#000015\"],[0.5555555555555556,\"#000016\"],[0.6666666666666666,\"#000017\"],[0.7777777777777778,\"#000018\"],[0.8888888888888888,\"#000019\"],[1.0,\"#000020\"]],\"type\":\"heatmap\"}],\"histogram2d\":[{\"colorscale\":[[0.0,\"#000011\"],[0.1111111111111111,\"#000012\"],[0.2222222222222222,\"#000013\"],[0.3333333333333333,\"#000014\"],[0.4444444444444444,\"#000015\"],[0.5555555555555556,\"#000016\"],[0.6666666666666666,\"#000017\"],[0.7777777777777778,\"#000018\"],[0.8888888888888888,\"#000019\"],[1.0,\"#000020\"]],\"type\":\"histogram2d\"}],\"icicle\":[{\"textfont\":{\"color\":\"white\"},\"type\":\"icicle\"}],\"sankey\":[{\"textfont\":{\"color\":\"#000036\"},\"type\":\"sankey\"}],\"scatter\":[{\"marker\":{\"line\":{\"width\":0}},\"type\":\"scatter\"}],\"table\":[{\"cells\":{\"fill\":{\"color\":\"#000038\"},\"font\":{\"color\":\"#000037\"},\"line\":{\"color\":\"#000039\"}},\"header\":{\"fill\":{\"color\":\"#000040\"},\"font\":{\"color\":\"#000036\"},\"line\":{\"color\":\"#000039\"}},\"type\":\"table\"}],\"waterfall\":[{\"connector\":{\"line\":{\"color\":\"#000036\",\"width\":2}},\"decreasing\":{\"marker\":{\"color\":\"#000033\"}},\"increasing\":{\"marker\":{\"color\":\"#000032\"}},\"totals\":{\"marker\":{\"color\":\"#000034\"}},\"type\":\"waterfall\"}]},\"layout\":{\"coloraxis\":{\"colorscale\":[[0.0,\"#000011\"],[0.1111111111111111,\"#000012\"],[0.2222222222222222,\"#000013\"],[0.3333333333333333,\"#000014\"],[0.4444444444444444,\"#000015\"],[0.5555555555555556,\"#000016\"],[0.6666666666666666,\"#000017\"],[0.7777777777777778,\"#000018\"],[0.8888888888888888,\"#000019\"],[1.0,\"#000020\"]]},\"colorscale\":{\"diverging\":[[0.0,\"#000021\"],[0.1,\"#000022\"],[0.2,\"#000023\"],[0.3,\"#000024\"],[0.4,\"#000025\"],[0.5,\"#000026\"],[0.6,\"#000027\"],[0.7,\"#000028\"],[0.8,\"#000029\"],[0.9,\"#000030\"],[1.0,\"#000031\"]],\"sequential\":[[0.0,\"#000011\"],[0.1111111111111111,\"#000012\"],[0.2222222222222222,\"#000013\"],[0.3333333333333333,\"#000014\"],[0.4444444444444444,\"#000015\"],[0.5555555555555556,\"#000016\"],[0.6666666666666666,\"#000017\"],[0.7777777777777778,\"#000018\"],[0.8888888888888888,\"#000019\"],[1.0,\"#000020\"]],\"sequentialminus\":[[0.0,\"#000011\"],[0.1111111111111111,\"#000012\"],[0.2222222222222222,\"#000013\"],[0.3333333333333333,\"#000014\"],[0.4444444444444444,\"#000015\"],[0.5555555555555556,\"#000016\"],[0.6666666666666666,\"#000017\"],[0.7777777777777778,\"#000018\"],[0.8888888888888888,\"#000019\"],[1.0,\"#000020\"]]},\"colorway\":[\"#000001\",\"#000002\",\"#000003\",\"#000004\",\"#000005\",\"#000006\",\"#000007\",\"#000008\",\"#000009\",\"#000010\"]}},\"title\":{\"text\":\"Accuracy vs Noise Level\"},\"xaxis\":{\"title\":{\"text\":\"Noise Level\"}},\"yaxis\":{\"title\":{\"text\":\"Accuracy\"}}},                        {\"responsive\": true}                    ).then(function(){\n",
       "                            \n",
       "var gd = document.getElementById('8435338d-8ad1-4ab8-acbf-fdfd95ddd9e1');\n",
       "var x = new MutationObserver(function (mutations, observer) {{\n",
       "        var display = window.getComputedStyle(gd).display;\n",
       "        if (!display || display === 'none') {{\n",
       "            console.log([gd, 'removed!']);\n",
       "            Plotly.purge(gd);\n",
       "            observer.disconnect();\n",
       "        }}\n",
       "}});\n",
       "\n",
       "// Listen for the removal of the full notebook cells\n",
       "var notebookContainer = gd.closest('#notebook-container');\n",
       "if (notebookContainer) {{\n",
       "    x.observe(notebookContainer, {childList: true});\n",
       "}}\n",
       "\n",
       "// Listen for the clearing of the current output cell\n",
       "var outputEl = gd.closest('.output');\n",
       "if (outputEl) {{\n",
       "    x.observe(outputEl, {childList: true});\n",
       "}}\n",
       "\n",
       "                        })                };                });            </script>        </div>"
      ]
     },
     "metadata": {},
     "output_type": "display_data"
    }
   ],
   "execution_count": 22
  },
  {
   "metadata": {
    "ExecuteTime": {
     "end_time": "2025-04-13T20:07:38.341815Z",
     "start_time": "2025-04-13T20:07:38.337815Z"
    }
   },
   "cell_type": "code",
   "source": "datasets = [ds for ds in os.listdir(\"../data/synthetic\") if \"sto\" in ds]",
   "id": "155f66cf46b77bbd",
   "outputs": [],
   "execution_count": 23
  },
  {
   "metadata": {
    "ExecuteTime": {
     "end_time": "2025-04-13T21:24:37.449463Z",
     "start_time": "2025-04-13T20:08:45.222159Z"
    }
   },
   "cell_type": "code",
   "source": [
    "result_list = []\n",
    "denoiser.eval()\n",
    "for ds in tqdm(datasets):\n",
    "    with open(os.path.join(\"../data/synthetic\", ds), \"rb\") as f:\n",
    "        data = pkl.load(f)\n",
    "    dataset = SaladsDataset(data['target'], data['stochastic'])\n",
    "    dataset_train, dataset_test = train_test_split(dataset, train_size=0.75, shuffle=True, random_state=42)\n",
    "    train_loader = DataLoader(dataset_train, batch_size=2, shuffle=False, num_workers=2)\n",
    "    test_loader = DataLoader(dataset_test, batch_size=2, shuffle=False, num_workers=2)\n",
    "    denoised = []\n",
    "    gt = []\n",
    "    for x, y in tqdm(test_loader):\n",
    "        x = x.permute(0, 2, 1).to(cfg.device).float()\n",
    "        y = y.permute(0, 2, 1).to(cfg.device).float()\n",
    "        x_hat, matrix_hat, loss, seq_loss, mat_loss = \\\n",
    "            diffuser.sample_with_matrix(denoiser, y.shape[0], cfg.num_classes, denoiser.max_input_dim,\n",
    "                                        rg_transition_matrix.shape[-1], rg_transition_matrix, x, y,\n",
    "                                        cfg.predict_on)\n",
    "        denoised.append(x_hat)\n",
    "        gt.append(x)\n",
    "    denoised = torch.cat(denoised, dim=0)\n",
    "    gt = torch.cat(gt, dim=0)\n",
    "    x_list = []\n",
    "    y_list = []\n",
    "    for x_0, y in zip(gt, denoised):\n",
    "        x_tokens = torch.argmax(x_0, dim=0)\n",
    "        y_tokens = torch.argmax(torch.softmax(y, dim=0).transpose(0, 1), dim=1)\n",
    "        x_list.append(np.array(x_tokens[x_tokens != SALADS_PAD].cpu()))\n",
    "        y_list.append(np.array(y_tokens[x_tokens != SALADS_PAD].cpu()))\n",
    "    acc = np.mean([accuracy_score(x, y) for x, y in zip(x_list, y_list)])\n",
    "    rec = np.mean([recall_score(x, y, average='macro', zero_division=0) for x, y in zip(x_list, y_list)])\n",
    "    pre = np.mean([precision_score(x, y, average='macro', zero_division=0) for x, y in zip(x_list, y_list)])\n",
    "    result_list.append(\n",
    "        {\"dataset\": ds, \"accuracy\": acc, \"recall\": rec, \"precision\": pre}\n",
    "    )"
   ],
   "id": "9f813e4cd2813741",
   "outputs": [
    {
     "name": "stderr",
     "output_type": "stream",
     "text": [
      "  0%|          | 0/34 [00:00<?, ?it/s]\n",
      "  0%|          | 0/5 [00:00<?, ?it/s]\u001B[A\n",
      " 20%|██        | 1/5 [00:29<01:58, 29.68s/it]\u001B[A\n",
      " 40%|████      | 2/5 [00:55<01:22, 27.67s/it]\u001B[A\n",
      " 60%|██████    | 3/5 [01:22<00:53, 26.94s/it]\u001B[A\n",
      " 80%|████████  | 4/5 [01:48<00:26, 26.58s/it]\u001B[A\n",
      "100%|██████████| 5/5 [02:14<00:00, 26.88s/it]\u001B[A\n",
      "  3%|▎         | 1/34 [02:14<1:14:00, 134.57s/it]\n",
      "  0%|          | 0/5 [00:00<?, ?it/s]\u001B[A\n",
      " 20%|██        | 1/5 [00:28<01:53, 28.49s/it]\u001B[A\n",
      " 40%|████      | 2/5 [00:54<01:21, 27.08s/it]\u001B[A\n",
      " 60%|██████    | 3/5 [01:20<00:53, 26.62s/it]\u001B[A\n",
      " 80%|████████  | 4/5 [01:46<00:26, 26.41s/it]\u001B[A\n",
      "100%|██████████| 5/5 [02:13<00:00, 26.66s/it]\u001B[A\n",
      "  6%|▌         | 2/34 [04:28<1:11:26, 133.94s/it]\n",
      "  0%|          | 0/5 [00:00<?, ?it/s]\u001B[A\n",
      " 20%|██        | 1/5 [00:28<01:54, 28.68s/it]\u001B[A\n",
      " 40%|████      | 2/5 [00:54<01:21, 27.22s/it]\u001B[A\n",
      " 60%|██████    | 3/5 [01:21<00:53, 26.73s/it]\u001B[A\n",
      " 80%|████████  | 4/5 [01:47<00:26, 26.48s/it]\u001B[A\n",
      "100%|██████████| 5/5 [02:13<00:00, 26.74s/it]\u001B[A\n",
      "  9%|▉         | 3/34 [06:41<1:09:11, 133.91s/it]\n",
      "  0%|          | 0/5 [00:00<?, ?it/s]\u001B[A\n",
      " 20%|██        | 1/5 [00:28<01:54, 28.57s/it]\u001B[A\n",
      " 40%|████      | 2/5 [00:54<01:21, 27.12s/it]\u001B[A\n",
      " 60%|██████    | 3/5 [01:20<00:53, 26.66s/it]\u001B[A\n",
      " 80%|████████  | 4/5 [01:46<00:26, 26.45s/it]\u001B[A\n",
      "100%|██████████| 5/5 [02:13<00:00, 26.66s/it]\u001B[A\n",
      " 12%|█▏        | 4/34 [08:55<1:06:52, 133.74s/it]\n",
      "  0%|          | 0/5 [00:00<?, ?it/s]\u001B[A\n",
      " 20%|██        | 1/5 [00:28<01:53, 28.50s/it]\u001B[A\n",
      " 40%|████      | 2/5 [00:54<01:21, 27.25s/it]\u001B[A\n",
      " 60%|██████    | 3/5 [01:21<00:53, 26.75s/it]\u001B[A\n",
      " 80%|████████  | 4/5 [01:47<00:26, 26.50s/it]\u001B[A\n",
      "100%|██████████| 5/5 [02:13<00:00, 26.71s/it]\u001B[A\n",
      " 15%|█▍        | 5/34 [11:09<1:04:38, 133.75s/it]\n",
      "  0%|          | 0/5 [00:00<?, ?it/s]\u001B[A\n",
      " 20%|██        | 1/5 [00:28<01:54, 28.50s/it]\u001B[A\n",
      " 40%|████      | 2/5 [00:54<01:21, 27.11s/it]\u001B[A\n",
      " 60%|██████    | 3/5 [01:20<00:53, 26.66s/it]\u001B[A\n",
      " 80%|████████  | 4/5 [01:46<00:26, 26.45s/it]\u001B[A\n",
      "100%|██████████| 5/5 [02:13<00:00, 26.67s/it]\u001B[A\n",
      " 18%|█▊        | 6/34 [13:22<1:02:22, 133.68s/it]\n",
      "  0%|          | 0/5 [00:00<?, ?it/s]\u001B[A\n",
      " 20%|██        | 1/5 [00:28<01:54, 28.74s/it]\u001B[A\n",
      " 40%|████      | 2/5 [00:54<01:21, 27.27s/it]\u001B[A\n",
      " 60%|██████    | 3/5 [01:21<00:53, 26.80s/it]\u001B[A\n",
      " 80%|████████  | 4/5 [01:47<00:26, 26.56s/it]\u001B[A\n",
      "100%|██████████| 5/5 [02:13<00:00, 26.78s/it]\u001B[A\n",
      " 21%|██        | 7/34 [15:36<1:00:12, 133.81s/it]\n",
      "  0%|          | 0/5 [00:00<?, ?it/s]\u001B[A\n",
      " 20%|██        | 1/5 [00:28<01:54, 28.57s/it]\u001B[A\n",
      " 40%|████      | 2/5 [00:54<01:21, 27.16s/it]\u001B[A\n",
      " 60%|██████    | 3/5 [01:20<00:53, 26.71s/it]\u001B[A\n",
      " 80%|████████  | 4/5 [01:47<00:26, 26.50s/it]\u001B[A\n",
      "100%|██████████| 5/5 [02:13<00:00, 26.71s/it]\u001B[A\n",
      " 24%|██▎       | 8/34 [17:50<57:58, 133.79s/it]  \n",
      "  0%|          | 0/5 [00:00<?, ?it/s]\u001B[A\n",
      " 20%|██        | 1/5 [00:28<01:54, 28.59s/it]\u001B[A\n",
      " 40%|████      | 2/5 [00:54<01:21, 27.19s/it]\u001B[A\n",
      " 60%|██████    | 3/5 [01:21<00:53, 26.74s/it]\u001B[A\n",
      " 80%|████████  | 4/5 [01:47<00:26, 26.53s/it]\u001B[A\n",
      "100%|██████████| 5/5 [02:13<00:00, 26.74s/it]\u001B[A\n",
      " 26%|██▋       | 9/34 [20:04<55:45, 133.83s/it]\n",
      "  0%|          | 0/5 [00:00<?, ?it/s]\u001B[A\n",
      " 20%|██        | 1/5 [00:28<01:54, 28.62s/it]\u001B[A\n",
      " 40%|████      | 2/5 [00:54<01:21, 27.18s/it]\u001B[A\n",
      " 60%|██████    | 3/5 [01:21<00:53, 26.77s/it]\u001B[A\n",
      " 80%|████████  | 4/5 [01:47<00:26, 26.56s/it]\u001B[A\n",
      "100%|██████████| 5/5 [02:13<00:00, 26.76s/it]\u001B[A\n",
      " 29%|██▉       | 10/34 [22:18<53:33, 133.88s/it]\n",
      "  0%|          | 0/5 [00:00<?, ?it/s]\u001B[A\n",
      " 20%|██        | 1/5 [00:29<01:58, 29.60s/it]\u001B[A\n",
      " 40%|████      | 2/5 [00:55<01:22, 27.53s/it]\u001B[A\n",
      " 60%|██████    | 3/5 [01:21<00:53, 26.97s/it]\u001B[A\n",
      " 80%|████████  | 4/5 [01:48<00:26, 26.60s/it]\u001B[A\n",
      "100%|██████████| 5/5 [02:14<00:00, 26.87s/it]\u001B[A\n",
      " 32%|███▏      | 11/34 [24:33<51:23, 134.08s/it]\n",
      "  0%|          | 0/5 [00:00<?, ?it/s]\u001B[A\n",
      " 20%|██        | 1/5 [00:28<01:54, 28.59s/it]\u001B[A\n",
      " 40%|████      | 2/5 [00:54<01:21, 27.12s/it]\u001B[A\n",
      " 60%|██████    | 3/5 [01:20<00:53, 26.65s/it]\u001B[A\n",
      " 80%|████████  | 4/5 [01:46<00:26, 26.42s/it]\u001B[A\n",
      "100%|██████████| 5/5 [02:13<00:00, 26.64s/it]\u001B[A\n",
      " 35%|███▌      | 12/34 [26:46<49:05, 133.87s/it]\n",
      "  0%|          | 0/5 [00:00<?, ?it/s]\u001B[A\n",
      " 20%|██        | 1/5 [00:28<01:54, 28.51s/it]\u001B[A\n",
      " 40%|████      | 2/5 [00:54<01:21, 27.09s/it]\u001B[A\n",
      " 60%|██████    | 3/5 [01:20<00:53, 26.62s/it]\u001B[A\n",
      " 80%|████████  | 4/5 [01:46<00:26, 26.40s/it]\u001B[A\n",
      "100%|██████████| 5/5 [02:13<00:00, 26.62s/it]\u001B[A\n",
      " 38%|███▊      | 13/34 [28:59<46:47, 133.69s/it]\n",
      "  0%|          | 0/5 [00:00<?, ?it/s]\u001B[A\n",
      " 20%|██        | 1/5 [00:28<01:54, 28.55s/it]\u001B[A\n",
      " 40%|████      | 2/5 [00:54<01:21, 27.12s/it]\u001B[A\n",
      " 60%|██████    | 3/5 [01:20<00:53, 26.66s/it]\u001B[A\n",
      " 80%|████████  | 4/5 [01:46<00:26, 26.44s/it]\u001B[A\n",
      "100%|██████████| 5/5 [02:13<00:00, 26.66s/it]\u001B[A\n",
      " 41%|████      | 14/34 [31:13<44:32, 133.62s/it]\n",
      "  0%|          | 0/5 [00:00<?, ?it/s]\u001B[A\n",
      " 20%|██        | 1/5 [00:28<01:54, 28.54s/it]\u001B[A\n",
      " 40%|████      | 2/5 [00:54<01:21, 27.10s/it]\u001B[A\n",
      " 60%|██████    | 3/5 [01:20<00:53, 26.64s/it]\u001B[A\n",
      " 80%|████████  | 4/5 [01:46<00:26, 26.43s/it]\u001B[A\n",
      "100%|██████████| 5/5 [02:14<00:00, 26.81s/it]\u001B[A\n",
      " 44%|████▍     | 15/34 [33:27<42:22, 133.80s/it]\n",
      "  0%|          | 0/5 [00:00<?, ?it/s]\u001B[A\n",
      " 20%|██        | 1/5 [00:28<01:54, 28.57s/it]\u001B[A\n",
      " 40%|████      | 2/5 [00:54<01:21, 27.21s/it]\u001B[A\n",
      " 60%|██████    | 3/5 [01:21<00:53, 26.75s/it]\u001B[A\n",
      " 80%|████████  | 4/5 [01:47<00:26, 26.53s/it]\u001B[A\n",
      "100%|██████████| 5/5 [02:13<00:00, 26.74s/it]\u001B[A\n",
      " 47%|████▋     | 16/34 [35:41<40:08, 133.82s/it]\n",
      "  0%|          | 0/5 [00:00<?, ?it/s]\u001B[A\n",
      " 20%|██        | 1/5 [00:28<01:54, 28.70s/it]\u001B[A\n",
      " 40%|████      | 2/5 [00:55<01:21, 27.30s/it]\u001B[A\n",
      " 60%|██████    | 3/5 [01:21<00:53, 26.79s/it]\u001B[A\n",
      " 80%|████████  | 4/5 [01:47<00:26, 26.54s/it]\u001B[A\n",
      "100%|██████████| 5/5 [02:13<00:00, 26.76s/it]\u001B[A\n",
      " 50%|█████     | 17/34 [37:55<37:55, 133.86s/it]\n",
      "  0%|          | 0/5 [00:00<?, ?it/s]\u001B[A\n",
      " 20%|██        | 1/5 [00:28<01:54, 28.62s/it]\u001B[A\n",
      " 40%|████      | 2/5 [00:54<01:21, 27.19s/it]\u001B[A\n",
      " 60%|██████    | 3/5 [01:20<00:53, 26.71s/it]\u001B[A\n",
      " 80%|████████  | 4/5 [01:47<00:26, 26.50s/it]\u001B[A\n",
      "100%|██████████| 5/5 [02:13<00:00, 26.72s/it]\u001B[A\n",
      " 53%|█████▎    | 18/34 [40:08<35:41, 133.83s/it]\n",
      "  0%|          | 0/5 [00:00<?, ?it/s]\u001B[A\n",
      " 20%|██        | 1/5 [00:28<01:54, 28.60s/it]\u001B[A\n",
      " 40%|████      | 2/5 [00:54<01:21, 27.15s/it]\u001B[A\n",
      " 60%|██████    | 3/5 [01:20<00:53, 26.71s/it]\u001B[A\n",
      " 80%|████████  | 4/5 [01:47<00:26, 26.50s/it]\u001B[A\n",
      "100%|██████████| 5/5 [02:13<00:00, 26.72s/it]\u001B[A\n",
      " 56%|█████▌    | 19/34 [42:22<33:27, 133.81s/it]\n",
      "  0%|          | 0/5 [00:00<?, ?it/s]\u001B[A\n",
      " 20%|██        | 1/5 [00:28<01:54, 28.59s/it]\u001B[A\n",
      " 40%|████      | 2/5 [00:54<01:21, 27.17s/it]\u001B[A\n",
      " 60%|██████    | 3/5 [01:20<00:53, 26.70s/it]\u001B[A\n",
      " 80%|████████  | 4/5 [01:47<00:26, 26.50s/it]\u001B[A\n",
      "100%|██████████| 5/5 [02:13<00:00, 26.73s/it]\u001B[A\n",
      " 59%|█████▉    | 20/34 [44:36<31:13, 133.82s/it]\n",
      "  0%|          | 0/5 [00:00<?, ?it/s]\u001B[A\n",
      " 20%|██        | 1/5 [00:28<01:54, 28.53s/it]\u001B[A\n",
      " 40%|████      | 2/5 [00:54<01:21, 27.13s/it]\u001B[A\n",
      " 60%|██████    | 3/5 [01:20<00:53, 26.69s/it]\u001B[A\n",
      " 80%|████████  | 4/5 [01:47<00:26, 26.50s/it]\u001B[A\n",
      "100%|██████████| 5/5 [02:13<00:00, 26.70s/it]\u001B[A\n",
      " 62%|██████▏   | 21/34 [46:50<28:59, 133.78s/it]\n",
      "  0%|          | 0/5 [00:00<?, ?it/s]\u001B[A\n",
      " 20%|██        | 1/5 [00:28<01:54, 28.62s/it]\u001B[A\n",
      " 40%|████      | 2/5 [00:54<01:21, 27.18s/it]\u001B[A\n",
      " 60%|██████    | 3/5 [01:20<00:53, 26.72s/it]\u001B[A\n",
      " 80%|████████  | 4/5 [01:47<00:26, 26.52s/it]\u001B[A\n",
      "100%|██████████| 5/5 [02:13<00:00, 26.75s/it]\u001B[A\n",
      " 65%|██████▍   | 22/34 [49:04<26:45, 133.83s/it]\n",
      "  0%|          | 0/5 [00:00<?, ?it/s]\u001B[A\n",
      " 20%|██        | 1/5 [00:28<01:54, 28.67s/it]\u001B[A\n",
      " 40%|████      | 2/5 [00:54<01:21, 27.21s/it]\u001B[A\n",
      " 60%|██████    | 3/5 [01:21<00:53, 26.74s/it]\u001B[A\n",
      " 80%|████████  | 4/5 [01:47<00:26, 26.53s/it]\u001B[A\n",
      "100%|██████████| 5/5 [02:13<00:00, 26.76s/it]\u001B[A\n",
      " 68%|██████▊   | 23/34 [51:18<24:32, 133.88s/it]\n",
      "  0%|          | 0/5 [00:00<?, ?it/s]\u001B[A\n",
      " 20%|██        | 1/5 [00:28<01:54, 28.63s/it]\u001B[A\n",
      " 40%|████      | 2/5 [00:54<01:21, 27.21s/it]\u001B[A\n",
      " 60%|██████    | 3/5 [01:21<00:53, 26.76s/it]\u001B[A\n",
      " 80%|████████  | 4/5 [01:47<00:26, 26.53s/it]\u001B[A\n",
      "100%|██████████| 5/5 [02:13<00:00, 26.75s/it]\u001B[A\n",
      " 71%|███████   | 24/34 [53:32<22:18, 133.90s/it]\n",
      "  0%|          | 0/5 [00:00<?, ?it/s]\u001B[A\n",
      " 20%|██        | 1/5 [00:28<01:54, 28.61s/it]\u001B[A\n",
      " 40%|████      | 2/5 [00:54<01:21, 27.19s/it]\u001B[A\n",
      " 60%|██████    | 3/5 [01:20<00:53, 26.73s/it]\u001B[A\n",
      " 80%|████████  | 4/5 [01:47<00:26, 26.53s/it]\u001B[A\n",
      "100%|██████████| 5/5 [02:13<00:00, 26.74s/it]\u001B[A\n",
      " 74%|███████▎  | 25/34 [55:45<20:04, 133.89s/it]\n",
      "  0%|          | 0/5 [00:00<?, ?it/s]\u001B[A\n",
      " 20%|██        | 1/5 [00:28<01:54, 28.54s/it]\u001B[A\n",
      " 40%|████      | 2/5 [00:54<01:21, 27.17s/it]\u001B[A\n",
      " 60%|██████    | 3/5 [01:20<00:53, 26.70s/it]\u001B[A\n",
      " 80%|████████  | 4/5 [01:47<00:26, 26.47s/it]\u001B[A\n",
      "100%|██████████| 5/5 [02:13<00:00, 26.69s/it]\u001B[A\n",
      " 76%|███████▋  | 26/34 [57:59<17:50, 133.81s/it]\n",
      "  0%|          | 0/5 [00:00<?, ?it/s]\u001B[A\n",
      " 20%|██        | 1/5 [00:28<01:54, 28.62s/it]\u001B[A\n",
      " 40%|████      | 2/5 [00:54<01:21, 27.19s/it]\u001B[A\n",
      " 60%|██████    | 3/5 [01:21<00:53, 26.76s/it]\u001B[A\n",
      " 80%|████████  | 4/5 [01:47<00:26, 26.57s/it]\u001B[A\n",
      "100%|██████████| 5/5 [02:13<00:00, 26.79s/it]\u001B[A\n",
      " 79%|███████▉  | 27/34 [1:00:13<15:37, 133.91s/it]\n",
      "  0%|          | 0/5 [00:00<?, ?it/s]\u001B[A\n",
      " 20%|██        | 1/5 [00:28<01:54, 28.60s/it]\u001B[A\n",
      " 40%|████      | 2/5 [00:54<01:21, 27.19s/it]\u001B[A\n",
      " 60%|██████    | 3/5 [01:21<00:53, 26.75s/it]\u001B[A\n",
      " 80%|████████  | 4/5 [01:47<00:26, 26.54s/it]\u001B[A\n",
      "100%|██████████| 5/5 [02:13<00:00, 26.75s/it]\u001B[A\n",
      " 82%|████████▏ | 28/34 [1:02:27<13:23, 133.92s/it]\n",
      "  0%|          | 0/5 [00:00<?, ?it/s]\u001B[A\n",
      " 20%|██        | 1/5 [00:28<01:54, 28.55s/it]\u001B[A\n",
      " 40%|████      | 2/5 [00:54<01:21, 27.18s/it]\u001B[A\n",
      " 60%|██████    | 3/5 [01:20<00:53, 26.75s/it]\u001B[A\n",
      " 80%|████████  | 4/5 [01:47<00:26, 26.57s/it]\u001B[A\n",
      "100%|██████████| 5/5 [02:13<00:00, 26.78s/it]\u001B[A\n",
      " 85%|████████▌ | 29/34 [1:04:41<11:09, 133.96s/it]\n",
      "  0%|          | 0/5 [00:00<?, ?it/s]\u001B[A\n",
      " 20%|██        | 1/5 [00:28<01:54, 28.65s/it]\u001B[A\n",
      " 40%|████      | 2/5 [00:54<01:21, 27.25s/it]\u001B[A\n",
      " 60%|██████    | 3/5 [01:21<00:53, 26.80s/it]\u001B[A\n",
      " 80%|████████  | 4/5 [01:47<00:26, 26.63s/it]\u001B[A\n",
      "100%|██████████| 5/5 [02:14<00:00, 26.81s/it]\u001B[A\n",
      " 88%|████████▊ | 30/34 [1:06:55<08:56, 134.04s/it]\n",
      "  0%|          | 0/5 [00:00<?, ?it/s]\u001B[A\n",
      " 20%|██        | 1/5 [00:28<01:54, 28.66s/it]\u001B[A\n",
      " 40%|████      | 2/5 [00:54<01:21, 27.22s/it]\u001B[A\n",
      " 60%|██████    | 3/5 [01:21<00:53, 26.76s/it]\u001B[A\n",
      " 80%|████████  | 4/5 [01:47<00:26, 26.53s/it]\u001B[A\n",
      "100%|██████████| 5/5 [02:13<00:00, 26.75s/it]\u001B[A\n",
      " 91%|█████████ | 31/34 [1:09:09<06:42, 134.01s/it]\n",
      "  0%|          | 0/5 [00:00<?, ?it/s]\u001B[A\n",
      " 20%|██        | 1/5 [00:28<01:54, 28.61s/it]\u001B[A\n",
      " 40%|████      | 2/5 [00:54<01:21, 27.20s/it]\u001B[A\n",
      " 60%|██████    | 3/5 [01:21<00:53, 26.77s/it]\u001B[A\n",
      " 80%|████████  | 4/5 [01:47<00:26, 26.56s/it]\u001B[A\n",
      "100%|██████████| 5/5 [02:13<00:00, 26.78s/it]\u001B[A\n",
      " 94%|█████████▍| 32/34 [1:11:23<04:28, 134.03s/it]\n",
      "  0%|          | 0/5 [00:00<?, ?it/s]\u001B[A\n",
      " 20%|██        | 1/5 [00:28<01:55, 28.87s/it]\u001B[A\n",
      " 40%|████      | 2/5 [00:55<01:22, 27.35s/it]\u001B[A\n",
      " 60%|██████    | 3/5 [01:21<00:53, 26.83s/it]\u001B[A\n",
      " 80%|████████  | 4/5 [01:47<00:26, 26.60s/it]\u001B[A\n",
      "100%|██████████| 5/5 [02:14<00:00, 26.82s/it]\u001B[A\n",
      " 97%|█████████▋| 33/34 [1:13:38<02:14, 134.10s/it]\n",
      "  0%|          | 0/5 [00:00<?, ?it/s]\u001B[A\n",
      " 20%|██        | 1/5 [00:28<01:54, 28.64s/it]\u001B[A\n",
      " 40%|████      | 2/5 [00:54<01:21, 27.21s/it]\u001B[A\n",
      " 60%|██████    | 3/5 [01:21<00:53, 26.75s/it]\u001B[A\n",
      " 80%|████████  | 4/5 [01:47<00:26, 26.54s/it]\u001B[A\n",
      "100%|██████████| 5/5 [02:13<00:00, 26.76s/it]\u001B[A\n",
      "100%|██████████| 34/34 [1:15:52<00:00, 133.89s/it]\n"
     ]
    }
   ],
   "execution_count": 24
  },
  {
   "metadata": {
    "ExecuteTime": {
     "end_time": "2025-04-13T21:24:41.446963Z",
     "start_time": "2025-04-13T21:24:37.622964Z"
    }
   },
   "cell_type": "code",
   "source": [
    "results_argmax = []\n",
    "for ds in datasets:\n",
    "    with open(os.path.join(\"../data/synthetic\", ds), \"rb\") as f:\n",
    "        data = pkl.load(f)\n",
    "    dataset = SaladsDataset(data['target'], data['stochastic'])\n",
    "    dataset_train, dataset_test = train_test_split(dataset, train_size=0.75, shuffle=True, random_state=42)\n",
    "    x_list = []\n",
    "    y_list = []\n",
    "    for x_0, y in dataset_test:\n",
    "        x_tokens = torch.argmax(x_0, dim=1)\n",
    "        y_tokens = torch.argmax(y, dim=1)\n",
    "        x_list.append(np.array(x_tokens[x_tokens != SALADS_PAD]))\n",
    "        y_list.append(np.array(y_tokens[x_tokens != SALADS_PAD]))\n",
    "    acc = np.mean([accuracy_score(x, y) for x, y in zip(x_list, y_list)])\n",
    "    rec = np.mean([recall_score(x, y, average='macro', zero_division=0) for x, y in zip(x_list, y_list)])\n",
    "    pre = np.mean([precision_score(x, y, average='macro', zero_division=0) for x, y in zip(x_list, y_list)])\n",
    "    results_argmax.append(\n",
    "        {\"dataset\": ds, \"accuracy\": acc, \"recall\": rec, \"precision\": pre}\n",
    "    )"
   ],
   "id": "ac8f2f51763bec34",
   "outputs": [],
   "execution_count": 25
  },
  {
   "metadata": {
    "ExecuteTime": {
     "end_time": "2025-04-13T21:24:41.460462Z",
     "start_time": "2025-04-13T21:24:41.450963Z"
    }
   },
   "cell_type": "code",
   "source": [
    "noise_levels = np.arange(0.5, 0.84, 0.01)\n",
    "accs = [d[\"accuracy\"] for d in result_list]\n",
    "accs_argmax = [d[\"accuracy\"] for d in results_argmax]\n",
    "fig = go.Figure()\n",
    "fig.add_trace(go.Scatter(x=noise_levels, y=accs, mode='lines+markers', name='Diffusion', line=dict(color='blue')))\n",
    "fig.add_trace(go.Scatter(x=noise_levels, y=accs_argmax, mode='lines+markers', name='Argmax', line=dict(color='red')))\n",
    "fig.update_layout(title='Accuracy vs Noise Level',\n",
    "                  xaxis_title='Noise Level',\n",
    "                  yaxis_title='Accuracy')\n",
    "fig.show()"
   ],
   "id": "f4bf20c604682528",
   "outputs": [
    {
     "data": {
      "application/vnd.plotly.v1+json": {
       "data": [
        {
         "line": {
          "color": "blue"
         },
         "mode": "lines+markers",
         "name": "Diffusion",
         "x": [
          0.5,
          0.51,
          0.52,
          0.53,
          0.54,
          0.55,
          0.56,
          0.5700000000000001,
          0.5800000000000001,
          0.5900000000000001,
          0.6000000000000001,
          0.6100000000000001,
          0.6200000000000001,
          0.6300000000000001,
          0.6400000000000001,
          0.6500000000000001,
          0.6600000000000001,
          0.6700000000000002,
          0.6800000000000002,
          0.6900000000000002,
          0.7000000000000002,
          0.7100000000000002,
          0.7200000000000002,
          0.7300000000000002,
          0.7400000000000002,
          0.7500000000000002,
          0.7600000000000002,
          0.7700000000000002,
          0.7800000000000002,
          0.7900000000000003,
          0.8000000000000003,
          0.8100000000000003,
          0.8200000000000003,
          0.8300000000000003
         ],
         "y": [
          0.7353194746853333,
          0.7345390762050662,
          0.7353440145899484,
          0.7278201275986873,
          0.7260553680914164,
          0.7308257137280882,
          0.7261083596805605,
          0.7195138027161798,
          0.711688490336346,
          0.7036195487219369,
          0.6787882434085362,
          0.6869634403463423,
          0.6701988655610696,
          0.6626208191945538,
          0.6544506281826488,
          0.6346678689243056,
          0.6267168544173773,
          0.617508139452017,
          0.5627585129205128,
          0.5603098759272689,
          0.5618557041102863,
          0.5578061764560633,
          0.5299480399867804,
          0.5068810991365795,
          0.5014529907323522,
          0.45892287420391203,
          0.43187803165564037,
          0.45254268272275916,
          0.4261379779752624,
          0.38593413350949274,
          0.3811099783384312,
          0.3581879590221552,
          0.3357883381720962,
          0.31986867975284816
         ],
         "type": "scatter"
        },
        {
         "line": {
          "color": "red"
         },
         "mode": "lines+markers",
         "name": "Argmax",
         "x": [
          0.5,
          0.51,
          0.52,
          0.53,
          0.54,
          0.55,
          0.56,
          0.5700000000000001,
          0.5800000000000001,
          0.5900000000000001,
          0.6000000000000001,
          0.6100000000000001,
          0.6200000000000001,
          0.6300000000000001,
          0.6400000000000001,
          0.6500000000000001,
          0.6600000000000001,
          0.6700000000000002,
          0.6800000000000002,
          0.6900000000000002,
          0.7000000000000002,
          0.7100000000000002,
          0.7200000000000002,
          0.7300000000000002,
          0.7400000000000002,
          0.7500000000000002,
          0.7600000000000002,
          0.7700000000000002,
          0.7800000000000002,
          0.7900000000000003,
          0.8000000000000003,
          0.8100000000000003,
          0.8200000000000003,
          0.8300000000000003
         ],
         "y": [
          0.982134345553756,
          0.9803998641562434,
          0.9772622534536435,
          0.9747004743601966,
          0.9702480016936172,
          0.965312571690737,
          0.9620327901750703,
          0.9556428104908434,
          0.9510893287831339,
          0.9444881741886565,
          0.9356655677315583,
          0.9288000646962594,
          0.9219110461961371,
          0.9120356239978029,
          0.9028305371920906,
          0.8908547997276681,
          0.881481872670966,
          0.8677842380424448,
          0.8559539534030467,
          0.8385961633635878,
          0.8224653593490375,
          0.8052844937109505,
          0.7884304442424186,
          0.7664922851414664,
          0.7451190832508539,
          0.7254965312342848,
          0.6966406048673728,
          0.6762767705249254,
          0.6460773392676085,
          0.6158452090137743,
          0.5822996594166903,
          0.5486055474011061,
          0.5146399403494087,
          0.4835636206947898
         ],
         "type": "scatter"
        }
       ],
       "layout": {
        "template": {
         "data": {
          "candlestick": [
           {
            "decreasing": {
             "line": {
              "color": "#000033"
             }
            },
            "increasing": {
             "line": {
              "color": "#000032"
             }
            },
            "type": "candlestick"
           }
          ],
          "contourcarpet": [
           {
            "colorscale": [
             [
              0.0,
              "#000011"
             ],
             [
              0.1111111111111111,
              "#000012"
             ],
             [
              0.2222222222222222,
              "#000013"
             ],
             [
              0.3333333333333333,
              "#000014"
             ],
             [
              0.4444444444444444,
              "#000015"
             ],
             [
              0.5555555555555556,
              "#000016"
             ],
             [
              0.6666666666666666,
              "#000017"
             ],
             [
              0.7777777777777778,
              "#000018"
             ],
             [
              0.8888888888888888,
              "#000019"
             ],
             [
              1.0,
              "#000020"
             ]
            ],
            "type": "contourcarpet"
           }
          ],
          "contour": [
           {
            "colorscale": [
             [
              0.0,
              "#000011"
             ],
             [
              0.1111111111111111,
              "#000012"
             ],
             [
              0.2222222222222222,
              "#000013"
             ],
             [
              0.3333333333333333,
              "#000014"
             ],
             [
              0.4444444444444444,
              "#000015"
             ],
             [
              0.5555555555555556,
              "#000016"
             ],
             [
              0.6666666666666666,
              "#000017"
             ],
             [
              0.7777777777777778,
              "#000018"
             ],
             [
              0.8888888888888888,
              "#000019"
             ],
             [
              1.0,
              "#000020"
             ]
            ],
            "type": "contour"
           }
          ],
          "heatmap": [
           {
            "colorscale": [
             [
              0.0,
              "#000011"
             ],
             [
              0.1111111111111111,
              "#000012"
             ],
             [
              0.2222222222222222,
              "#000013"
             ],
             [
              0.3333333333333333,
              "#000014"
             ],
             [
              0.4444444444444444,
              "#000015"
             ],
             [
              0.5555555555555556,
              "#000016"
             ],
             [
              0.6666666666666666,
              "#000017"
             ],
             [
              0.7777777777777778,
              "#000018"
             ],
             [
              0.8888888888888888,
              "#000019"
             ],
             [
              1.0,
              "#000020"
             ]
            ],
            "type": "heatmap"
           }
          ],
          "histogram2d": [
           {
            "colorscale": [
             [
              0.0,
              "#000011"
             ],
             [
              0.1111111111111111,
              "#000012"
             ],
             [
              0.2222222222222222,
              "#000013"
             ],
             [
              0.3333333333333333,
              "#000014"
             ],
             [
              0.4444444444444444,
              "#000015"
             ],
             [
              0.5555555555555556,
              "#000016"
             ],
             [
              0.6666666666666666,
              "#000017"
             ],
             [
              0.7777777777777778,
              "#000018"
             ],
             [
              0.8888888888888888,
              "#000019"
             ],
             [
              1.0,
              "#000020"
             ]
            ],
            "type": "histogram2d"
           }
          ],
          "icicle": [
           {
            "textfont": {
             "color": "white"
            },
            "type": "icicle"
           }
          ],
          "sankey": [
           {
            "textfont": {
             "color": "#000036"
            },
            "type": "sankey"
           }
          ],
          "scatter": [
           {
            "marker": {
             "line": {
              "width": 0
             }
            },
            "type": "scatter"
           }
          ],
          "table": [
           {
            "cells": {
             "fill": {
              "color": "#000038"
             },
             "font": {
              "color": "#000037"
             },
             "line": {
              "color": "#000039"
             }
            },
            "header": {
             "fill": {
              "color": "#000040"
             },
             "font": {
              "color": "#000036"
             },
             "line": {
              "color": "#000039"
             }
            },
            "type": "table"
           }
          ],
          "waterfall": [
           {
            "connector": {
             "line": {
              "color": "#000036",
              "width": 2
             }
            },
            "decreasing": {
             "marker": {
              "color": "#000033"
             }
            },
            "increasing": {
             "marker": {
              "color": "#000032"
             }
            },
            "totals": {
             "marker": {
              "color": "#000034"
             }
            },
            "type": "waterfall"
           }
          ]
         },
         "layout": {
          "coloraxis": {
           "colorscale": [
            [
             0.0,
             "#000011"
            ],
            [
             0.1111111111111111,
             "#000012"
            ],
            [
             0.2222222222222222,
             "#000013"
            ],
            [
             0.3333333333333333,
             "#000014"
            ],
            [
             0.4444444444444444,
             "#000015"
            ],
            [
             0.5555555555555556,
             "#000016"
            ],
            [
             0.6666666666666666,
             "#000017"
            ],
            [
             0.7777777777777778,
             "#000018"
            ],
            [
             0.8888888888888888,
             "#000019"
            ],
            [
             1.0,
             "#000020"
            ]
           ]
          },
          "colorscale": {
           "diverging": [
            [
             0.0,
             "#000021"
            ],
            [
             0.1,
             "#000022"
            ],
            [
             0.2,
             "#000023"
            ],
            [
             0.3,
             "#000024"
            ],
            [
             0.4,
             "#000025"
            ],
            [
             0.5,
             "#000026"
            ],
            [
             0.6,
             "#000027"
            ],
            [
             0.7,
             "#000028"
            ],
            [
             0.8,
             "#000029"
            ],
            [
             0.9,
             "#000030"
            ],
            [
             1.0,
             "#000031"
            ]
           ],
           "sequential": [
            [
             0.0,
             "#000011"
            ],
            [
             0.1111111111111111,
             "#000012"
            ],
            [
             0.2222222222222222,
             "#000013"
            ],
            [
             0.3333333333333333,
             "#000014"
            ],
            [
             0.4444444444444444,
             "#000015"
            ],
            [
             0.5555555555555556,
             "#000016"
            ],
            [
             0.6666666666666666,
             "#000017"
            ],
            [
             0.7777777777777778,
             "#000018"
            ],
            [
             0.8888888888888888,
             "#000019"
            ],
            [
             1.0,
             "#000020"
            ]
           ],
           "sequentialminus": [
            [
             0.0,
             "#000011"
            ],
            [
             0.1111111111111111,
             "#000012"
            ],
            [
             0.2222222222222222,
             "#000013"
            ],
            [
             0.3333333333333333,
             "#000014"
            ],
            [
             0.4444444444444444,
             "#000015"
            ],
            [
             0.5555555555555556,
             "#000016"
            ],
            [
             0.6666666666666666,
             "#000017"
            ],
            [
             0.7777777777777778,
             "#000018"
            ],
            [
             0.8888888888888888,
             "#000019"
            ],
            [
             1.0,
             "#000020"
            ]
           ]
          },
          "colorway": [
           "#000001",
           "#000002",
           "#000003",
           "#000004",
           "#000005",
           "#000006",
           "#000007",
           "#000008",
           "#000009",
           "#000010"
          ]
         }
        },
        "title": {
         "text": "Accuracy vs Noise Level"
        },
        "xaxis": {
         "title": {
          "text": "Noise Level"
         }
        },
        "yaxis": {
         "title": {
          "text": "Accuracy"
         }
        }
       },
       "config": {
        "plotlyServerURL": "https://plot.ly"
       }
      },
      "text/html": [
       "<div>                            <div id=\"defac8a2-7c7d-4a02-ac1a-97129798301b\" class=\"plotly-graph-div\" style=\"height:525px; width:100%;\"></div>            <script type=\"text/javascript\">                require([\"plotly\"], function(Plotly) {                    window.PLOTLYENV=window.PLOTLYENV || {};                                    if (document.getElementById(\"defac8a2-7c7d-4a02-ac1a-97129798301b\")) {                    Plotly.newPlot(                        \"defac8a2-7c7d-4a02-ac1a-97129798301b\",                        [{\"line\":{\"color\":\"blue\"},\"mode\":\"lines+markers\",\"name\":\"Diffusion\",\"x\":[0.5,0.51,0.52,0.53,0.54,0.55,0.56,0.5700000000000001,0.5800000000000001,0.5900000000000001,0.6000000000000001,0.6100000000000001,0.6200000000000001,0.6300000000000001,0.6400000000000001,0.6500000000000001,0.6600000000000001,0.6700000000000002,0.6800000000000002,0.6900000000000002,0.7000000000000002,0.7100000000000002,0.7200000000000002,0.7300000000000002,0.7400000000000002,0.7500000000000002,0.7600000000000002,0.7700000000000002,0.7800000000000002,0.7900000000000003,0.8000000000000003,0.8100000000000003,0.8200000000000003,0.8300000000000003],\"y\":[0.7353194746853333,0.7345390762050662,0.7353440145899484,0.7278201275986873,0.7260553680914164,0.7308257137280882,0.7261083596805605,0.7195138027161798,0.711688490336346,0.7036195487219369,0.6787882434085362,0.6869634403463423,0.6701988655610696,0.6626208191945538,0.6544506281826488,0.6346678689243056,0.6267168544173773,0.617508139452017,0.5627585129205128,0.5603098759272689,0.5618557041102863,0.5578061764560633,0.5299480399867804,0.5068810991365795,0.5014529907323522,0.45892287420391203,0.43187803165564037,0.45254268272275916,0.4261379779752624,0.38593413350949274,0.3811099783384312,0.3581879590221552,0.3357883381720962,0.31986867975284816],\"type\":\"scatter\"},{\"line\":{\"color\":\"red\"},\"mode\":\"lines+markers\",\"name\":\"Argmax\",\"x\":[0.5,0.51,0.52,0.53,0.54,0.55,0.56,0.5700000000000001,0.5800000000000001,0.5900000000000001,0.6000000000000001,0.6100000000000001,0.6200000000000001,0.6300000000000001,0.6400000000000001,0.6500000000000001,0.6600000000000001,0.6700000000000002,0.6800000000000002,0.6900000000000002,0.7000000000000002,0.7100000000000002,0.7200000000000002,0.7300000000000002,0.7400000000000002,0.7500000000000002,0.7600000000000002,0.7700000000000002,0.7800000000000002,0.7900000000000003,0.8000000000000003,0.8100000000000003,0.8200000000000003,0.8300000000000003],\"y\":[0.982134345553756,0.9803998641562434,0.9772622534536435,0.9747004743601966,0.9702480016936172,0.965312571690737,0.9620327901750703,0.9556428104908434,0.9510893287831339,0.9444881741886565,0.9356655677315583,0.9288000646962594,0.9219110461961371,0.9120356239978029,0.9028305371920906,0.8908547997276681,0.881481872670966,0.8677842380424448,0.8559539534030467,0.8385961633635878,0.8224653593490375,0.8052844937109505,0.7884304442424186,0.7664922851414664,0.7451190832508539,0.7254965312342848,0.6966406048673728,0.6762767705249254,0.6460773392676085,0.6158452090137743,0.5822996594166903,0.5486055474011061,0.5146399403494087,0.4835636206947898],\"type\":\"scatter\"}],                        {\"template\":{\"data\":{\"candlestick\":[{\"decreasing\":{\"line\":{\"color\":\"#000033\"}},\"increasing\":{\"line\":{\"color\":\"#000032\"}},\"type\":\"candlestick\"}],\"contourcarpet\":[{\"colorscale\":[[0.0,\"#000011\"],[0.1111111111111111,\"#000012\"],[0.2222222222222222,\"#000013\"],[0.3333333333333333,\"#000014\"],[0.4444444444444444,\"#000015\"],[0.5555555555555556,\"#000016\"],[0.6666666666666666,\"#000017\"],[0.7777777777777778,\"#000018\"],[0.8888888888888888,\"#000019\"],[1.0,\"#000020\"]],\"type\":\"contourcarpet\"}],\"contour\":[{\"colorscale\":[[0.0,\"#000011\"],[0.1111111111111111,\"#000012\"],[0.2222222222222222,\"#000013\"],[0.3333333333333333,\"#000014\"],[0.4444444444444444,\"#000015\"],[0.5555555555555556,\"#000016\"],[0.6666666666666666,\"#000017\"],[0.7777777777777778,\"#000018\"],[0.8888888888888888,\"#000019\"],[1.0,\"#000020\"]],\"type\":\"contour\"}],\"heatmap\":[{\"colorscale\":[[0.0,\"#000011\"],[0.1111111111111111,\"#000012\"],[0.2222222222222222,\"#000013\"],[0.3333333333333333,\"#000014\"],[0.4444444444444444,\"#000015\"],[0.5555555555555556,\"#000016\"],[0.6666666666666666,\"#000017\"],[0.7777777777777778,\"#000018\"],[0.8888888888888888,\"#000019\"],[1.0,\"#000020\"]],\"type\":\"heatmap\"}],\"histogram2d\":[{\"colorscale\":[[0.0,\"#000011\"],[0.1111111111111111,\"#000012\"],[0.2222222222222222,\"#000013\"],[0.3333333333333333,\"#000014\"],[0.4444444444444444,\"#000015\"],[0.5555555555555556,\"#000016\"],[0.6666666666666666,\"#000017\"],[0.7777777777777778,\"#000018\"],[0.8888888888888888,\"#000019\"],[1.0,\"#000020\"]],\"type\":\"histogram2d\"}],\"icicle\":[{\"textfont\":{\"color\":\"white\"},\"type\":\"icicle\"}],\"sankey\":[{\"textfont\":{\"color\":\"#000036\"},\"type\":\"sankey\"}],\"scatter\":[{\"marker\":{\"line\":{\"width\":0}},\"type\":\"scatter\"}],\"table\":[{\"cells\":{\"fill\":{\"color\":\"#000038\"},\"font\":{\"color\":\"#000037\"},\"line\":{\"color\":\"#000039\"}},\"header\":{\"fill\":{\"color\":\"#000040\"},\"font\":{\"color\":\"#000036\"},\"line\":{\"color\":\"#000039\"}},\"type\":\"table\"}],\"waterfall\":[{\"connector\":{\"line\":{\"color\":\"#000036\",\"width\":2}},\"decreasing\":{\"marker\":{\"color\":\"#000033\"}},\"increasing\":{\"marker\":{\"color\":\"#000032\"}},\"totals\":{\"marker\":{\"color\":\"#000034\"}},\"type\":\"waterfall\"}]},\"layout\":{\"coloraxis\":{\"colorscale\":[[0.0,\"#000011\"],[0.1111111111111111,\"#000012\"],[0.2222222222222222,\"#000013\"],[0.3333333333333333,\"#000014\"],[0.4444444444444444,\"#000015\"],[0.5555555555555556,\"#000016\"],[0.6666666666666666,\"#000017\"],[0.7777777777777778,\"#000018\"],[0.8888888888888888,\"#000019\"],[1.0,\"#000020\"]]},\"colorscale\":{\"diverging\":[[0.0,\"#000021\"],[0.1,\"#000022\"],[0.2,\"#000023\"],[0.3,\"#000024\"],[0.4,\"#000025\"],[0.5,\"#000026\"],[0.6,\"#000027\"],[0.7,\"#000028\"],[0.8,\"#000029\"],[0.9,\"#000030\"],[1.0,\"#000031\"]],\"sequential\":[[0.0,\"#000011\"],[0.1111111111111111,\"#000012\"],[0.2222222222222222,\"#000013\"],[0.3333333333333333,\"#000014\"],[0.4444444444444444,\"#000015\"],[0.5555555555555556,\"#000016\"],[0.6666666666666666,\"#000017\"],[0.7777777777777778,\"#000018\"],[0.8888888888888888,\"#000019\"],[1.0,\"#000020\"]],\"sequentialminus\":[[0.0,\"#000011\"],[0.1111111111111111,\"#000012\"],[0.2222222222222222,\"#000013\"],[0.3333333333333333,\"#000014\"],[0.4444444444444444,\"#000015\"],[0.5555555555555556,\"#000016\"],[0.6666666666666666,\"#000017\"],[0.7777777777777778,\"#000018\"],[0.8888888888888888,\"#000019\"],[1.0,\"#000020\"]]},\"colorway\":[\"#000001\",\"#000002\",\"#000003\",\"#000004\",\"#000005\",\"#000006\",\"#000007\",\"#000008\",\"#000009\",\"#000010\"]}},\"title\":{\"text\":\"Accuracy vs Noise Level\"},\"xaxis\":{\"title\":{\"text\":\"Noise Level\"}},\"yaxis\":{\"title\":{\"text\":\"Accuracy\"}}},                        {\"responsive\": true}                    ).then(function(){\n",
       "                            \n",
       "var gd = document.getElementById('defac8a2-7c7d-4a02-ac1a-97129798301b');\n",
       "var x = new MutationObserver(function (mutations, observer) {{\n",
       "        var display = window.getComputedStyle(gd).display;\n",
       "        if (!display || display === 'none') {{\n",
       "            console.log([gd, 'removed!']);\n",
       "            Plotly.purge(gd);\n",
       "            observer.disconnect();\n",
       "        }}\n",
       "}});\n",
       "\n",
       "// Listen for the removal of the full notebook cells\n",
       "var notebookContainer = gd.closest('#notebook-container');\n",
       "if (notebookContainer) {{\n",
       "    x.observe(notebookContainer, {childList: true});\n",
       "}}\n",
       "\n",
       "// Listen for the clearing of the current output cell\n",
       "var outputEl = gd.closest('.output');\n",
       "if (outputEl) {{\n",
       "    x.observe(outputEl, {childList: true});\n",
       "}}\n",
       "\n",
       "                        })                };                });            </script>        </div>"
      ]
     },
     "metadata": {},
     "output_type": "display_data"
    }
   ],
   "execution_count": 26
  },
  {
   "metadata": {
    "ExecuteTime": {
     "end_time": "2025-04-13T21:48:02.832631Z",
     "start_time": "2025-04-13T21:48:02.828631Z"
    }
   },
   "cell_type": "code",
   "source": "datasets = [ds for ds in os.listdir(\"../data/pickles\") if \"alpha\" in ds and \"sto\" not in ds and \"005\" not in ds]",
   "id": "b5850159508d3fef",
   "outputs": [],
   "execution_count": 28
  },
  {
   "metadata": {
    "ExecuteTime": {
     "end_time": "2025-04-13T22:05:00.899910Z",
     "start_time": "2025-04-13T21:49:03.063131Z"
    }
   },
   "cell_type": "code",
   "source": [
    "result_list = []\n",
    "denoiser.eval()\n",
    "for ds in tqdm(datasets):\n",
    "    with open(os.path.join(\"../data/pickles\", ds), \"rb\") as f:\n",
    "        data = pkl.load(f)\n",
    "    dataset = SaladsDataset(data['target'], data['stochastic'])\n",
    "    dataset_train, dataset_test = train_test_split(dataset, train_size=0.75, shuffle=True, random_state=42)\n",
    "    train_loader = DataLoader(dataset_train, batch_size=2, shuffle=False, num_workers=2)\n",
    "    test_loader = DataLoader(dataset_test, batch_size=2, shuffle=False, num_workers=2)\n",
    "    denoised = []\n",
    "    gt = []\n",
    "    for x, y in tqdm(test_loader):\n",
    "        x = x.permute(0, 2, 1).to(cfg.device).float()\n",
    "        y = y.permute(0, 2, 1).to(cfg.device).float()\n",
    "        x_hat, matrix_hat, loss, seq_loss, mat_loss = \\\n",
    "            diffuser.sample_with_matrix(denoiser, y.shape[0], cfg.num_classes, denoiser.max_input_dim,\n",
    "                                        rg_transition_matrix.shape[-1], rg_transition_matrix, x, y,\n",
    "                                        cfg.predict_on)\n",
    "        denoised.append(x_hat)\n",
    "        gt.append(x)\n",
    "    denoised = torch.cat(denoised, dim=0)\n",
    "    gt = torch.cat(gt, dim=0)\n",
    "    x_list = []\n",
    "    y_list = []\n",
    "    for x_0, y in zip(gt, denoised):\n",
    "        x_tokens = torch.argmax(x_0, dim=0)\n",
    "        y_tokens = torch.argmax(torch.softmax(y, dim=0).transpose(0, 1), dim=1)\n",
    "        x_list.append(np.array(x_tokens[x_tokens != SALADS_PAD].cpu()))\n",
    "        y_list.append(np.array(y_tokens[x_tokens != SALADS_PAD].cpu()))\n",
    "    acc = np.mean([accuracy_score(x, y) for x, y in zip(x_list, y_list)])\n",
    "    rec = np.mean([recall_score(x, y, average='macro', zero_division=0) for x, y in zip(x_list, y_list)])\n",
    "    pre = np.mean([precision_score(x, y, average='macro', zero_division=0) for x, y in zip(x_list, y_list)])\n",
    "    result_list.append(\n",
    "        {\"dataset\": ds, \"accuracy\": acc, \"recall\": rec, \"precision\": pre}\n",
    "    )"
   ],
   "id": "86973ed09824c5b5",
   "outputs": [
    {
     "name": "stderr",
     "output_type": "stream",
     "text": [
      "  0%|          | 0/7 [00:00<?, ?it/s]\n",
      "  0%|          | 0/5 [00:00<?, ?it/s]\u001B[A\n",
      " 20%|██        | 1/5 [00:30<02:03, 30.98s/it]\u001B[A\n",
      " 40%|████      | 2/5 [00:57<01:25, 28.54s/it]\u001B[A\n",
      " 60%|██████    | 3/5 [01:24<00:55, 27.74s/it]\u001B[A\n",
      " 80%|████████  | 4/5 [01:51<00:27, 27.33s/it]\u001B[A\n",
      "100%|██████████| 5/5 [02:18<00:00, 27.66s/it]\u001B[A\n",
      " 14%|█▍        | 1/7 [02:18<13:51, 138.52s/it]\n",
      "  0%|          | 0/5 [00:00<?, ?it/s]\u001B[A\n",
      " 20%|██        | 1/5 [00:29<01:57, 29.25s/it]\u001B[A\n",
      " 40%|████      | 2/5 [00:55<01:23, 27.76s/it]\u001B[A\n",
      " 60%|██████    | 3/5 [01:24<00:56, 28.12s/it]\u001B[A\n",
      " 80%|████████  | 4/5 [01:52<00:27, 27.95s/it]\u001B[A\n",
      "100%|██████████| 5/5 [02:20<00:00, 28.00s/it]\u001B[A\n",
      " 29%|██▊       | 2/7 [04:38<11:37, 139.53s/it]\n",
      "  0%|          | 0/5 [00:00<?, ?it/s]\u001B[A\n",
      " 20%|██        | 1/5 [00:29<01:58, 29.59s/it]\u001B[A\n",
      " 40%|████      | 2/5 [00:56<01:24, 28.15s/it]\u001B[A\n",
      " 60%|██████    | 3/5 [01:24<00:55, 27.78s/it]\u001B[A\n",
      " 80%|████████  | 4/5 [01:51<00:27, 27.77s/it]\u001B[A\n",
      "100%|██████████| 5/5 [02:19<00:00, 27.81s/it]\u001B[A\n",
      " 43%|████▎     | 3/7 [06:58<09:17, 139.41s/it]\n",
      "  0%|          | 0/5 [00:00<?, ?it/s]\u001B[A\n",
      " 20%|██        | 1/5 [00:29<01:57, 29.47s/it]\u001B[A\n",
      " 40%|████      | 2/5 [00:55<01:22, 27.52s/it]\u001B[A\n",
      " 60%|██████    | 3/5 [01:22<00:54, 27.04s/it]\u001B[A\n",
      " 80%|████████  | 4/5 [01:49<00:27, 27.09s/it]\u001B[A\n",
      "100%|██████████| 5/5 [02:17<00:00, 27.41s/it]\u001B[A\n",
      " 57%|█████▋    | 4/7 [09:15<06:55, 138.57s/it]\n",
      "  0%|          | 0/5 [00:00<?, ?it/s]\u001B[A\n",
      " 20%|██        | 1/5 [00:29<01:59, 29.79s/it]\u001B[A\n",
      " 40%|████      | 2/5 [00:56<01:23, 27.90s/it]\u001B[A\n",
      " 60%|██████    | 3/5 [01:22<00:54, 27.09s/it]\u001B[A\n",
      " 80%|████████  | 4/5 [01:48<00:26, 26.74s/it]\u001B[A\n",
      "100%|██████████| 5/5 [02:15<00:00, 27.04s/it]\u001B[A\n",
      " 71%|███████▏  | 5/7 [11:30<04:34, 137.44s/it]\n",
      "  0%|          | 0/5 [00:00<?, ?it/s]\u001B[A\n",
      " 20%|██        | 1/5 [00:28<01:54, 28.52s/it]\u001B[A\n",
      " 40%|████      | 2/5 [00:54<01:21, 27.11s/it]\u001B[A\n",
      " 60%|██████    | 3/5 [01:20<00:53, 26.62s/it]\u001B[A\n",
      " 80%|████████  | 4/5 [01:46<00:26, 26.39s/it]\u001B[A\n",
      "100%|██████████| 5/5 [02:13<00:00, 26.62s/it]\u001B[A\n",
      " 86%|████████▌ | 6/7 [13:44<02:16, 136.03s/it]\n",
      "  0%|          | 0/5 [00:00<?, ?it/s]\u001B[A\n",
      " 20%|██        | 1/5 [00:28<01:54, 28.61s/it]\u001B[A\n",
      " 40%|████      | 2/5 [00:54<01:21, 27.16s/it]\u001B[A\n",
      " 60%|██████    | 3/5 [01:20<00:53, 26.73s/it]\u001B[A\n",
      " 80%|████████  | 4/5 [01:47<00:26, 26.50s/it]\u001B[A\n",
      "100%|██████████| 5/5 [02:13<00:00, 26.72s/it]\u001B[A\n",
      "100%|██████████| 7/7 [15:57<00:00, 136.83s/it]\n"
     ]
    }
   ],
   "execution_count": 30
  },
  {
   "metadata": {
    "ExecuteTime": {
     "end_time": "2025-04-13T22:05:02.023410Z",
     "start_time": "2025-04-13T22:05:01.011410Z"
    }
   },
   "cell_type": "code",
   "source": [
    "results_argmax = []\n",
    "for ds in datasets:\n",
    "    with open(os.path.join(\"../data/pickles\", ds), \"rb\") as f:\n",
    "        data = pkl.load(f)\n",
    "    dataset = SaladsDataset(data['target'], data['stochastic'])\n",
    "    dataset_train, dataset_test = train_test_split(dataset, train_size=0.75, shuffle=True, random_state=42)\n",
    "    x_list = []\n",
    "    y_list = []\n",
    "    for x_0, y in dataset_test:\n",
    "        x_tokens = torch.argmax(x_0, dim=1)\n",
    "        y_tokens = torch.argmax(y, dim=1)\n",
    "        x_list.append(np.array(x_tokens[x_tokens != SALADS_PAD]))\n",
    "        y_list.append(np.array(y_tokens[x_tokens != SALADS_PAD]))\n",
    "    acc = np.mean([accuracy_score(x, y) for x, y in zip(x_list, y_list)])\n",
    "    rec = np.mean([recall_score(x, y, average='macro', zero_division=0) for x, y in zip(x_list, y_list)])\n",
    "    pre = np.mean([precision_score(x, y, average='macro', zero_division=0) for x, y in zip(x_list, y_list)])\n",
    "    results_argmax.append(\n",
    "        {\"dataset\": ds, \"accuracy\": acc, \"recall\": rec, \"precision\": pre}\n",
    "    )"
   ],
   "id": "eeb37f621c364908",
   "outputs": [],
   "execution_count": 31
  },
  {
   "metadata": {
    "ExecuteTime": {
     "end_time": "2025-04-13T22:05:02.037913Z",
     "start_time": "2025-04-13T22:05:02.027412Z"
    }
   },
   "cell_type": "code",
   "source": [
    "noise_levels = np.arange(0.1, 0.8, 0.1)\n",
    "accs = [d[\"accuracy\"] for d in result_list]\n",
    "accs_argmax = [d[\"accuracy\"] for d in results_argmax]\n",
    "fig = go.Figure()\n",
    "fig.add_trace(go.Scatter(x=noise_levels, y=accs, mode='lines+markers', name='Diffusion', line=dict(color='blue')))\n",
    "fig.add_trace(go.Scatter(x=noise_levels, y=accs_argmax, mode='lines+markers', name='Argmax', line=dict(color='red')))\n",
    "fig.update_layout(title='Accuracy vs Noise Level',\n",
    "                  xaxis_title='Noise Level',\n",
    "                  yaxis_title='Accuracy')\n",
    "fig.show()"
   ],
   "id": "9eb39f8d1d1dd54a",
   "outputs": [
    {
     "data": {
      "application/vnd.plotly.v1+json": {
       "data": [
        {
         "line": {
          "color": "blue"
         },
         "mode": "lines+markers",
         "name": "Diffusion",
         "x": [
          0.1,
          0.2,
          0.30000000000000004,
          0.4,
          0.5,
          0.6,
          0.7000000000000001
         ],
         "y": [
          0.9415824618168889,
          0.9386366830435129,
          0.9263874531991639,
          0.8949924669837485,
          0.8545275350685548,
          0.7655774881168126,
          0.6293021908252603
         ],
         "type": "scatter"
        },
        {
         "line": {
          "color": "red"
         },
         "mode": "lines+markers",
         "name": "Argmax",
         "x": [
          0.1,
          0.2,
          0.30000000000000004,
          0.4,
          0.5,
          0.6,
          0.7000000000000001
         ],
         "y": [
          1.0,
          1.0,
          1.0,
          1.0,
          1.0,
          0.5766394860201809,
          0.2116052440325226
         ],
         "type": "scatter"
        }
       ],
       "layout": {
        "template": {
         "data": {
          "candlestick": [
           {
            "decreasing": {
             "line": {
              "color": "#000033"
             }
            },
            "increasing": {
             "line": {
              "color": "#000032"
             }
            },
            "type": "candlestick"
           }
          ],
          "contourcarpet": [
           {
            "colorscale": [
             [
              0.0,
              "#000011"
             ],
             [
              0.1111111111111111,
              "#000012"
             ],
             [
              0.2222222222222222,
              "#000013"
             ],
             [
              0.3333333333333333,
              "#000014"
             ],
             [
              0.4444444444444444,
              "#000015"
             ],
             [
              0.5555555555555556,
              "#000016"
             ],
             [
              0.6666666666666666,
              "#000017"
             ],
             [
              0.7777777777777778,
              "#000018"
             ],
             [
              0.8888888888888888,
              "#000019"
             ],
             [
              1.0,
              "#000020"
             ]
            ],
            "type": "contourcarpet"
           }
          ],
          "contour": [
           {
            "colorscale": [
             [
              0.0,
              "#000011"
             ],
             [
              0.1111111111111111,
              "#000012"
             ],
             [
              0.2222222222222222,
              "#000013"
             ],
             [
              0.3333333333333333,
              "#000014"
             ],
             [
              0.4444444444444444,
              "#000015"
             ],
             [
              0.5555555555555556,
              "#000016"
             ],
             [
              0.6666666666666666,
              "#000017"
             ],
             [
              0.7777777777777778,
              "#000018"
             ],
             [
              0.8888888888888888,
              "#000019"
             ],
             [
              1.0,
              "#000020"
             ]
            ],
            "type": "contour"
           }
          ],
          "heatmap": [
           {
            "colorscale": [
             [
              0.0,
              "#000011"
             ],
             [
              0.1111111111111111,
              "#000012"
             ],
             [
              0.2222222222222222,
              "#000013"
             ],
             [
              0.3333333333333333,
              "#000014"
             ],
             [
              0.4444444444444444,
              "#000015"
             ],
             [
              0.5555555555555556,
              "#000016"
             ],
             [
              0.6666666666666666,
              "#000017"
             ],
             [
              0.7777777777777778,
              "#000018"
             ],
             [
              0.8888888888888888,
              "#000019"
             ],
             [
              1.0,
              "#000020"
             ]
            ],
            "type": "heatmap"
           }
          ],
          "histogram2d": [
           {
            "colorscale": [
             [
              0.0,
              "#000011"
             ],
             [
              0.1111111111111111,
              "#000012"
             ],
             [
              0.2222222222222222,
              "#000013"
             ],
             [
              0.3333333333333333,
              "#000014"
             ],
             [
              0.4444444444444444,
              "#000015"
             ],
             [
              0.5555555555555556,
              "#000016"
             ],
             [
              0.6666666666666666,
              "#000017"
             ],
             [
              0.7777777777777778,
              "#000018"
             ],
             [
              0.8888888888888888,
              "#000019"
             ],
             [
              1.0,
              "#000020"
             ]
            ],
            "type": "histogram2d"
           }
          ],
          "icicle": [
           {
            "textfont": {
             "color": "white"
            },
            "type": "icicle"
           }
          ],
          "sankey": [
           {
            "textfont": {
             "color": "#000036"
            },
            "type": "sankey"
           }
          ],
          "scatter": [
           {
            "marker": {
             "line": {
              "width": 0
             }
            },
            "type": "scatter"
           }
          ],
          "table": [
           {
            "cells": {
             "fill": {
              "color": "#000038"
             },
             "font": {
              "color": "#000037"
             },
             "line": {
              "color": "#000039"
             }
            },
            "header": {
             "fill": {
              "color": "#000040"
             },
             "font": {
              "color": "#000036"
             },
             "line": {
              "color": "#000039"
             }
            },
            "type": "table"
           }
          ],
          "waterfall": [
           {
            "connector": {
             "line": {
              "color": "#000036",
              "width": 2
             }
            },
            "decreasing": {
             "marker": {
              "color": "#000033"
             }
            },
            "increasing": {
             "marker": {
              "color": "#000032"
             }
            },
            "totals": {
             "marker": {
              "color": "#000034"
             }
            },
            "type": "waterfall"
           }
          ]
         },
         "layout": {
          "coloraxis": {
           "colorscale": [
            [
             0.0,
             "#000011"
            ],
            [
             0.1111111111111111,
             "#000012"
            ],
            [
             0.2222222222222222,
             "#000013"
            ],
            [
             0.3333333333333333,
             "#000014"
            ],
            [
             0.4444444444444444,
             "#000015"
            ],
            [
             0.5555555555555556,
             "#000016"
            ],
            [
             0.6666666666666666,
             "#000017"
            ],
            [
             0.7777777777777778,
             "#000018"
            ],
            [
             0.8888888888888888,
             "#000019"
            ],
            [
             1.0,
             "#000020"
            ]
           ]
          },
          "colorscale": {
           "diverging": [
            [
             0.0,
             "#000021"
            ],
            [
             0.1,
             "#000022"
            ],
            [
             0.2,
             "#000023"
            ],
            [
             0.3,
             "#000024"
            ],
            [
             0.4,
             "#000025"
            ],
            [
             0.5,
             "#000026"
            ],
            [
             0.6,
             "#000027"
            ],
            [
             0.7,
             "#000028"
            ],
            [
             0.8,
             "#000029"
            ],
            [
             0.9,
             "#000030"
            ],
            [
             1.0,
             "#000031"
            ]
           ],
           "sequential": [
            [
             0.0,
             "#000011"
            ],
            [
             0.1111111111111111,
             "#000012"
            ],
            [
             0.2222222222222222,
             "#000013"
            ],
            [
             0.3333333333333333,
             "#000014"
            ],
            [
             0.4444444444444444,
             "#000015"
            ],
            [
             0.5555555555555556,
             "#000016"
            ],
            [
             0.6666666666666666,
             "#000017"
            ],
            [
             0.7777777777777778,
             "#000018"
            ],
            [
             0.8888888888888888,
             "#000019"
            ],
            [
             1.0,
             "#000020"
            ]
           ],
           "sequentialminus": [
            [
             0.0,
             "#000011"
            ],
            [
             0.1111111111111111,
             "#000012"
            ],
            [
             0.2222222222222222,
             "#000013"
            ],
            [
             0.3333333333333333,
             "#000014"
            ],
            [
             0.4444444444444444,
             "#000015"
            ],
            [
             0.5555555555555556,
             "#000016"
            ],
            [
             0.6666666666666666,
             "#000017"
            ],
            [
             0.7777777777777778,
             "#000018"
            ],
            [
             0.8888888888888888,
             "#000019"
            ],
            [
             1.0,
             "#000020"
            ]
           ]
          },
          "colorway": [
           "#000001",
           "#000002",
           "#000003",
           "#000004",
           "#000005",
           "#000006",
           "#000007",
           "#000008",
           "#000009",
           "#000010"
          ]
         }
        },
        "title": {
         "text": "Accuracy vs Noise Level"
        },
        "xaxis": {
         "title": {
          "text": "Noise Level"
         }
        },
        "yaxis": {
         "title": {
          "text": "Accuracy"
         }
        }
       },
       "config": {
        "plotlyServerURL": "https://plot.ly"
       }
      },
      "text/html": [
       "<div>                            <div id=\"4a0e85ba-b643-4791-b065-59a01514c340\" class=\"plotly-graph-div\" style=\"height:525px; width:100%;\"></div>            <script type=\"text/javascript\">                require([\"plotly\"], function(Plotly) {                    window.PLOTLYENV=window.PLOTLYENV || {};                                    if (document.getElementById(\"4a0e85ba-b643-4791-b065-59a01514c340\")) {                    Plotly.newPlot(                        \"4a0e85ba-b643-4791-b065-59a01514c340\",                        [{\"line\":{\"color\":\"blue\"},\"mode\":\"lines+markers\",\"name\":\"Diffusion\",\"x\":[0.1,0.2,0.30000000000000004,0.4,0.5,0.6,0.7000000000000001],\"y\":[0.9415824618168889,0.9386366830435129,0.9263874531991639,0.8949924669837485,0.8545275350685548,0.7655774881168126,0.6293021908252603],\"type\":\"scatter\"},{\"line\":{\"color\":\"red\"},\"mode\":\"lines+markers\",\"name\":\"Argmax\",\"x\":[0.1,0.2,0.30000000000000004,0.4,0.5,0.6,0.7000000000000001],\"y\":[1.0,1.0,1.0,1.0,1.0,0.5766394860201809,0.2116052440325226],\"type\":\"scatter\"}],                        {\"template\":{\"data\":{\"candlestick\":[{\"decreasing\":{\"line\":{\"color\":\"#000033\"}},\"increasing\":{\"line\":{\"color\":\"#000032\"}},\"type\":\"candlestick\"}],\"contourcarpet\":[{\"colorscale\":[[0.0,\"#000011\"],[0.1111111111111111,\"#000012\"],[0.2222222222222222,\"#000013\"],[0.3333333333333333,\"#000014\"],[0.4444444444444444,\"#000015\"],[0.5555555555555556,\"#000016\"],[0.6666666666666666,\"#000017\"],[0.7777777777777778,\"#000018\"],[0.8888888888888888,\"#000019\"],[1.0,\"#000020\"]],\"type\":\"contourcarpet\"}],\"contour\":[{\"colorscale\":[[0.0,\"#000011\"],[0.1111111111111111,\"#000012\"],[0.2222222222222222,\"#000013\"],[0.3333333333333333,\"#000014\"],[0.4444444444444444,\"#000015\"],[0.5555555555555556,\"#000016\"],[0.6666666666666666,\"#000017\"],[0.7777777777777778,\"#000018\"],[0.8888888888888888,\"#000019\"],[1.0,\"#000020\"]],\"type\":\"contour\"}],\"heatmap\":[{\"colorscale\":[[0.0,\"#000011\"],[0.1111111111111111,\"#000012\"],[0.2222222222222222,\"#000013\"],[0.3333333333333333,\"#000014\"],[0.4444444444444444,\"#000015\"],[0.5555555555555556,\"#000016\"],[0.6666666666666666,\"#000017\"],[0.7777777777777778,\"#000018\"],[0.8888888888888888,\"#000019\"],[1.0,\"#000020\"]],\"type\":\"heatmap\"}],\"histogram2d\":[{\"colorscale\":[[0.0,\"#000011\"],[0.1111111111111111,\"#000012\"],[0.2222222222222222,\"#000013\"],[0.3333333333333333,\"#000014\"],[0.4444444444444444,\"#000015\"],[0.5555555555555556,\"#000016\"],[0.6666666666666666,\"#000017\"],[0.7777777777777778,\"#000018\"],[0.8888888888888888,\"#000019\"],[1.0,\"#000020\"]],\"type\":\"histogram2d\"}],\"icicle\":[{\"textfont\":{\"color\":\"white\"},\"type\":\"icicle\"}],\"sankey\":[{\"textfont\":{\"color\":\"#000036\"},\"type\":\"sankey\"}],\"scatter\":[{\"marker\":{\"line\":{\"width\":0}},\"type\":\"scatter\"}],\"table\":[{\"cells\":{\"fill\":{\"color\":\"#000038\"},\"font\":{\"color\":\"#000037\"},\"line\":{\"color\":\"#000039\"}},\"header\":{\"fill\":{\"color\":\"#000040\"},\"font\":{\"color\":\"#000036\"},\"line\":{\"color\":\"#000039\"}},\"type\":\"table\"}],\"waterfall\":[{\"connector\":{\"line\":{\"color\":\"#000036\",\"width\":2}},\"decreasing\":{\"marker\":{\"color\":\"#000033\"}},\"increasing\":{\"marker\":{\"color\":\"#000032\"}},\"totals\":{\"marker\":{\"color\":\"#000034\"}},\"type\":\"waterfall\"}]},\"layout\":{\"coloraxis\":{\"colorscale\":[[0.0,\"#000011\"],[0.1111111111111111,\"#000012\"],[0.2222222222222222,\"#000013\"],[0.3333333333333333,\"#000014\"],[0.4444444444444444,\"#000015\"],[0.5555555555555556,\"#000016\"],[0.6666666666666666,\"#000017\"],[0.7777777777777778,\"#000018\"],[0.8888888888888888,\"#000019\"],[1.0,\"#000020\"]]},\"colorscale\":{\"diverging\":[[0.0,\"#000021\"],[0.1,\"#000022\"],[0.2,\"#000023\"],[0.3,\"#000024\"],[0.4,\"#000025\"],[0.5,\"#000026\"],[0.6,\"#000027\"],[0.7,\"#000028\"],[0.8,\"#000029\"],[0.9,\"#000030\"],[1.0,\"#000031\"]],\"sequential\":[[0.0,\"#000011\"],[0.1111111111111111,\"#000012\"],[0.2222222222222222,\"#000013\"],[0.3333333333333333,\"#000014\"],[0.4444444444444444,\"#000015\"],[0.5555555555555556,\"#000016\"],[0.6666666666666666,\"#000017\"],[0.7777777777777778,\"#000018\"],[0.8888888888888888,\"#000019\"],[1.0,\"#000020\"]],\"sequentialminus\":[[0.0,\"#000011\"],[0.1111111111111111,\"#000012\"],[0.2222222222222222,\"#000013\"],[0.3333333333333333,\"#000014\"],[0.4444444444444444,\"#000015\"],[0.5555555555555556,\"#000016\"],[0.6666666666666666,\"#000017\"],[0.7777777777777778,\"#000018\"],[0.8888888888888888,\"#000019\"],[1.0,\"#000020\"]]},\"colorway\":[\"#000001\",\"#000002\",\"#000003\",\"#000004\",\"#000005\",\"#000006\",\"#000007\",\"#000008\",\"#000009\",\"#000010\"]}},\"title\":{\"text\":\"Accuracy vs Noise Level\"},\"xaxis\":{\"title\":{\"text\":\"Noise Level\"}},\"yaxis\":{\"title\":{\"text\":\"Accuracy\"}}},                        {\"responsive\": true}                    ).then(function(){\n",
       "                            \n",
       "var gd = document.getElementById('4a0e85ba-b643-4791-b065-59a01514c340');\n",
       "var x = new MutationObserver(function (mutations, observer) {{\n",
       "        var display = window.getComputedStyle(gd).display;\n",
       "        if (!display || display === 'none') {{\n",
       "            console.log([gd, 'removed!']);\n",
       "            Plotly.purge(gd);\n",
       "            observer.disconnect();\n",
       "        }}\n",
       "}});\n",
       "\n",
       "// Listen for the removal of the full notebook cells\n",
       "var notebookContainer = gd.closest('#notebook-container');\n",
       "if (notebookContainer) {{\n",
       "    x.observe(notebookContainer, {childList: true});\n",
       "}}\n",
       "\n",
       "// Listen for the clearing of the current output cell\n",
       "var outputEl = gd.closest('.output');\n",
       "if (outputEl) {{\n",
       "    x.observe(outputEl, {childList: true});\n",
       "}}\n",
       "\n",
       "                        })                };                });            </script>        </div>"
      ]
     },
     "metadata": {},
     "output_type": "display_data"
    }
   ],
   "execution_count": 32
  },
  {
   "metadata": {
    "ExecuteTime": {
     "end_time": "2025-04-13T22:05:02.109913Z",
     "start_time": "2025-04-13T22:05:02.106412Z"
    }
   },
   "cell_type": "code",
   "source": "datasets = [ds for ds in os.listdir(\"../data/pickles\") if \"alpha\" in ds and \"sto\" in ds and \"005\" not in ds]",
   "id": "66b97934536d111e",
   "outputs": [],
   "execution_count": 33
  },
  {
   "metadata": {
    "ExecuteTime": {
     "end_time": "2025-04-13T22:23:32.810238Z",
     "start_time": "2025-04-13T22:23:31.147738Z"
    }
   },
   "cell_type": "code",
   "source": [
    "target_dir = r\"D:\\Projects\\trace-denoise\\final_runs\\50_salads_unified_gamma_0_5_without_process\"\n",
    "cfg = load_experiment_config(target_dir)\n",
    "cfg.device = \"cuda:0\"\n",
    "train_dataset, test_dataset, dk_process_model, dk_init_marking, dk_final_marking, rg_transition_matrix, diffuser, denoiser, final_res = load_experiment_data_and_model(target_dir, cfg)"
   ],
   "id": "ce1ffb2813dca1eb",
   "outputs": [],
   "execution_count": 37
  },
  {
   "metadata": {
    "ExecuteTime": {
     "end_time": "2025-04-13T22:34:06.022971Z",
     "start_time": "2025-04-13T22:23:38.150972Z"
    }
   },
   "cell_type": "code",
   "source": [
    "result_list = []\n",
    "denoiser.eval()\n",
    "for ds in tqdm(datasets):\n",
    "    with open(os.path.join(\"../data/pickles\", ds), \"rb\") as f:\n",
    "        data = pkl.load(f)\n",
    "    dataset = SaladsDataset(data['target'], data['stochastic'])\n",
    "    dataset_train, dataset_test = train_test_split(dataset, train_size=0.75, shuffle=True, random_state=42)\n",
    "    train_loader = DataLoader(dataset_train, batch_size=2, shuffle=False, num_workers=2)\n",
    "    test_loader = DataLoader(dataset_test, batch_size=2, shuffle=False, num_workers=2)\n",
    "    denoised = []\n",
    "    gt = []\n",
    "    for x, y in tqdm(test_loader):\n",
    "        x = x.permute(0, 2, 1).to(cfg.device).float()\n",
    "        y = y.permute(0, 2, 1).to(cfg.device).float()\n",
    "        x_hat, matrix_hat, loss, seq_loss, mat_loss = \\\n",
    "            diffuser.sample_with_matrix(denoiser, y.shape[0], cfg.num_classes, denoiser.max_input_dim,\n",
    "                                        rg_transition_matrix.shape[-1], rg_transition_matrix, x, y,\n",
    "                                        cfg.predict_on)\n",
    "        denoised.append(x_hat)\n",
    "        gt.append(x)\n",
    "    denoised = torch.cat(denoised, dim=0)\n",
    "    gt = torch.cat(gt, dim=0)\n",
    "    x_list = []\n",
    "    y_list = []\n",
    "    for x_0, y in zip(gt, denoised):\n",
    "        x_tokens = torch.argmax(x_0, dim=0)\n",
    "        y_tokens = torch.argmax(torch.softmax(y, dim=0).transpose(0, 1), dim=1)\n",
    "        x_list.append(np.array(x_tokens[x_tokens != SALADS_PAD].cpu()))\n",
    "        y_list.append(np.array(y_tokens[x_tokens != SALADS_PAD].cpu()))\n",
    "    acc = np.mean([accuracy_score(x, y) for x, y in zip(x_list, y_list)])\n",
    "    rec = np.mean([recall_score(x, y, average='macro', zero_division=0) for x, y in zip(x_list, y_list)])\n",
    "    pre = np.mean([precision_score(x, y, average='macro', zero_division=0) for x, y in zip(x_list, y_list)])\n",
    "    result_list.append(\n",
    "        {\"dataset\": ds, \"accuracy\": acc, \"recall\": rec, \"precision\": pre}\n",
    "    )"
   ],
   "id": "3206fb76e3d20f0b",
   "outputs": [
    {
     "name": "stderr",
     "output_type": "stream",
     "text": [
      "  0%|          | 0/7 [00:00<?, ?it/s]\n",
      "  0%|          | 0/5 [00:00<?, ?it/s]\u001B[A\n",
      " 20%|██        | 1/5 [00:19<01:18, 19.73s/it]\u001B[A\n",
      " 40%|████      | 2/5 [00:36<00:54, 18.12s/it]\u001B[A\n",
      " 60%|██████    | 3/5 [00:53<00:35, 17.58s/it]\u001B[A\n",
      " 80%|████████  | 4/5 [01:10<00:17, 17.40s/it]\u001B[A\n",
      "100%|██████████| 5/5 [01:28<00:00, 17.63s/it]\u001B[A\n",
      " 14%|█▍        | 1/7 [01:28<08:50, 88.37s/it]\n",
      "  0%|          | 0/5 [00:00<?, ?it/s]\u001B[A\n",
      " 20%|██        | 1/5 [00:19<01:17, 19.45s/it]\u001B[A\n",
      " 40%|████      | 2/5 [00:36<00:53, 17.89s/it]\u001B[A\n",
      " 60%|██████    | 3/5 [00:53<00:34, 17.43s/it]\u001B[A\n",
      " 80%|████████  | 4/5 [01:10<00:17, 17.21s/it]\u001B[A\n",
      "100%|██████████| 5/5 [01:27<00:00, 17.44s/it]\u001B[A\n",
      " 29%|██▊       | 2/7 [02:55<07:18, 87.79s/it]\n",
      "  0%|          | 0/5 [00:00<?, ?it/s]\u001B[A\n",
      " 20%|██        | 1/5 [00:19<01:17, 19.35s/it]\u001B[A\n",
      " 40%|████      | 2/5 [00:36<00:54, 18.33s/it]\u001B[A\n",
      " 60%|██████    | 3/5 [00:54<00:35, 17.83s/it]\u001B[A\n",
      " 80%|████████  | 4/5 [01:13<00:18, 18.34s/it]\u001B[A\n",
      "100%|██████████| 5/5 [01:32<00:00, 18.55s/it]\u001B[A\n",
      " 43%|████▎     | 3/7 [04:28<06:00, 90.13s/it]\n",
      "  0%|          | 0/5 [00:00<?, ?it/s]\u001B[A\n",
      " 20%|██        | 1/5 [00:21<01:27, 21.92s/it]\u001B[A\n",
      " 40%|████      | 2/5 [00:40<00:59, 19.83s/it]\u001B[A\n",
      " 60%|██████    | 3/5 [00:58<00:38, 19.15s/it]\u001B[A\n",
      " 80%|████████  | 4/5 [01:17<00:18, 18.99s/it]\u001B[A\n",
      "100%|██████████| 5/5 [01:36<00:00, 19.23s/it]\u001B[A\n",
      " 57%|█████▋    | 4/7 [06:05<04:37, 92.60s/it]\n",
      "  0%|          | 0/5 [00:00<?, ?it/s]\u001B[A\n",
      " 20%|██        | 1/5 [00:21<01:24, 21.02s/it]\u001B[A\n",
      " 40%|████      | 2/5 [00:39<00:58, 19.57s/it]\u001B[A\n",
      " 60%|██████    | 3/5 [00:57<00:37, 18.83s/it]\u001B[A\n",
      " 80%|████████  | 4/5 [01:15<00:18, 18.49s/it]\u001B[A\n",
      "100%|██████████| 5/5 [01:32<00:00, 18.51s/it]\u001B[A\n",
      " 71%|███████▏  | 5/7 [07:37<03:05, 92.66s/it]\n",
      "  0%|          | 0/5 [00:00<?, ?it/s]\u001B[A\n",
      " 20%|██        | 1/5 [00:18<01:15, 18.86s/it]\u001B[A\n",
      " 40%|████      | 2/5 [00:35<00:51, 17.32s/it]\u001B[A\n",
      " 60%|██████    | 3/5 [00:51<00:33, 16.92s/it]\u001B[A\n",
      " 80%|████████  | 4/5 [01:07<00:16, 16.67s/it]\u001B[A\n",
      "100%|██████████| 5/5 [01:24<00:00, 16.93s/it]\u001B[A\n",
      " 86%|████████▌ | 6/7 [09:02<01:30, 90.00s/it]\n",
      "  0%|          | 0/5 [00:00<?, ?it/s]\u001B[A\n",
      " 20%|██        | 1/5 [00:18<01:15, 18.97s/it]\u001B[A\n",
      " 40%|████      | 2/5 [00:35<00:52, 17.48s/it]\u001B[A\n",
      " 60%|██████    | 3/5 [00:51<00:33, 16.96s/it]\u001B[A\n",
      " 80%|████████  | 4/5 [01:08<00:16, 16.69s/it]\u001B[A\n",
      "100%|██████████| 5/5 [01:24<00:00, 17.00s/it]\u001B[A\n",
      "100%|██████████| 7/7 [10:27<00:00, 89.69s/it]\n"
     ]
    }
   ],
   "execution_count": 38
  },
  {
   "metadata": {
    "ExecuteTime": {
     "end_time": "2025-04-13T22:36:39.256900Z",
     "start_time": "2025-04-13T22:36:38.267401Z"
    }
   },
   "cell_type": "code",
   "source": [
    "results_argmax = []\n",
    "for ds in datasets:\n",
    "    with open(os.path.join(\"../data/pickles\", ds), \"rb\") as f:\n",
    "        data = pkl.load(f)\n",
    "    dataset = SaladsDataset(data['target'], data['stochastic'])\n",
    "    dataset_train, dataset_test = train_test_split(dataset, train_size=0.75, shuffle=True, random_state=42)\n",
    "    x_list = []\n",
    "    y_list = []\n",
    "    for x_0, y in dataset_test:\n",
    "        x_tokens = torch.argmax(x_0, dim=1)\n",
    "        y_tokens = torch.argmax(y, dim=1)\n",
    "        x_list.append(np.array(x_tokens[x_tokens != SALADS_PAD]))\n",
    "        y_list.append(np.array(y_tokens[x_tokens != SALADS_PAD]))\n",
    "    acc = np.mean([accuracy_score(x, y) for x, y in zip(x_list, y_list)])\n",
    "    rec = np.mean([recall_score(x, y, average='macro', zero_division=0) for x, y in zip(x_list, y_list)])\n",
    "    pre = np.mean([precision_score(x, y, average='macro', zero_division=0) for x, y in zip(x_list, y_list)])\n",
    "    results_argmax.append(\n",
    "        {\"dataset\": ds, \"accuracy\": acc, \"recall\": rec, \"precision\": pre}\n",
    "    )"
   ],
   "id": "be27a2ff1af83af4",
   "outputs": [],
   "execution_count": 42
  },
  {
   "metadata": {
    "ExecuteTime": {
     "end_time": "2025-04-13T22:36:40.277699Z",
     "start_time": "2025-04-13T22:36:40.268202Z"
    }
   },
   "cell_type": "code",
   "source": [
    "noise_levels = np.arange(0.1, 0.8, 0.1)\n",
    "accs = [d[\"accuracy\"] for d in result_list]\n",
    "accs_argmax = [d[\"accuracy\"] for d in results_argmax]\n",
    "fig = go.Figure()\n",
    "fig.add_trace(go.Scatter(x=noise_levels, y=accs, mode='lines+markers', name='Diffusion', line=dict(color='blue')))\n",
    "fig.add_trace(go.Scatter(x=noise_levels, y=accs_argmax, mode='lines+markers', name='Argmax', line=dict(color='red')))\n",
    "fig.update_layout(title='Accuracy vs Noise Level',\n",
    "                  xaxis_title='Noise Level',\n",
    "                  yaxis_title='Accuracy')\n",
    "fig.show()"
   ],
   "id": "8de3572fd35dcc11",
   "outputs": [
    {
     "data": {
      "application/vnd.plotly.v1+json": {
       "data": [
        {
         "line": {
          "color": "blue"
         },
         "mode": "lines+markers",
         "name": "Diffusion",
         "x": [
          0.1,
          0.2,
          0.30000000000000004,
          0.4,
          0.5,
          0.6,
          0.7000000000000001
         ],
         "y": [
          0.9347453211551746,
          0.9249976431020377,
          0.9154610182464396,
          0.8781503541373954,
          0.8174594561546218,
          0.742930199452873,
          0.5416910018764745
         ],
         "type": "scatter"
        },
        {
         "line": {
          "color": "red"
         },
         "mode": "lines+markers",
         "name": "Argmax",
         "x": [
          0.1,
          0.2,
          0.30000000000000004,
          0.4,
          0.5,
          0.6,
          0.7000000000000001
         ],
         "y": [
          0.7746457421417069,
          0.7745678991558177,
          0.7742061391773059,
          0.7681037897391049,
          0.7354765992896738,
          0.42466266978635614,
          0.16188226385688792
         ],
         "type": "scatter"
        }
       ],
       "layout": {
        "template": {
         "data": {
          "candlestick": [
           {
            "decreasing": {
             "line": {
              "color": "#000033"
             }
            },
            "increasing": {
             "line": {
              "color": "#000032"
             }
            },
            "type": "candlestick"
           }
          ],
          "contourcarpet": [
           {
            "colorscale": [
             [
              0.0,
              "#000011"
             ],
             [
              0.1111111111111111,
              "#000012"
             ],
             [
              0.2222222222222222,
              "#000013"
             ],
             [
              0.3333333333333333,
              "#000014"
             ],
             [
              0.4444444444444444,
              "#000015"
             ],
             [
              0.5555555555555556,
              "#000016"
             ],
             [
              0.6666666666666666,
              "#000017"
             ],
             [
              0.7777777777777778,
              "#000018"
             ],
             [
              0.8888888888888888,
              "#000019"
             ],
             [
              1.0,
              "#000020"
             ]
            ],
            "type": "contourcarpet"
           }
          ],
          "contour": [
           {
            "colorscale": [
             [
              0.0,
              "#000011"
             ],
             [
              0.1111111111111111,
              "#000012"
             ],
             [
              0.2222222222222222,
              "#000013"
             ],
             [
              0.3333333333333333,
              "#000014"
             ],
             [
              0.4444444444444444,
              "#000015"
             ],
             [
              0.5555555555555556,
              "#000016"
             ],
             [
              0.6666666666666666,
              "#000017"
             ],
             [
              0.7777777777777778,
              "#000018"
             ],
             [
              0.8888888888888888,
              "#000019"
             ],
             [
              1.0,
              "#000020"
             ]
            ],
            "type": "contour"
           }
          ],
          "heatmap": [
           {
            "colorscale": [
             [
              0.0,
              "#000011"
             ],
             [
              0.1111111111111111,
              "#000012"
             ],
             [
              0.2222222222222222,
              "#000013"
             ],
             [
              0.3333333333333333,
              "#000014"
             ],
             [
              0.4444444444444444,
              "#000015"
             ],
             [
              0.5555555555555556,
              "#000016"
             ],
             [
              0.6666666666666666,
              "#000017"
             ],
             [
              0.7777777777777778,
              "#000018"
             ],
             [
              0.8888888888888888,
              "#000019"
             ],
             [
              1.0,
              "#000020"
             ]
            ],
            "type": "heatmap"
           }
          ],
          "histogram2d": [
           {
            "colorscale": [
             [
              0.0,
              "#000011"
             ],
             [
              0.1111111111111111,
              "#000012"
             ],
             [
              0.2222222222222222,
              "#000013"
             ],
             [
              0.3333333333333333,
              "#000014"
             ],
             [
              0.4444444444444444,
              "#000015"
             ],
             [
              0.5555555555555556,
              "#000016"
             ],
             [
              0.6666666666666666,
              "#000017"
             ],
             [
              0.7777777777777778,
              "#000018"
             ],
             [
              0.8888888888888888,
              "#000019"
             ],
             [
              1.0,
              "#000020"
             ]
            ],
            "type": "histogram2d"
           }
          ],
          "icicle": [
           {
            "textfont": {
             "color": "white"
            },
            "type": "icicle"
           }
          ],
          "sankey": [
           {
            "textfont": {
             "color": "#000036"
            },
            "type": "sankey"
           }
          ],
          "scatter": [
           {
            "marker": {
             "line": {
              "width": 0
             }
            },
            "type": "scatter"
           }
          ],
          "table": [
           {
            "cells": {
             "fill": {
              "color": "#000038"
             },
             "font": {
              "color": "#000037"
             },
             "line": {
              "color": "#000039"
             }
            },
            "header": {
             "fill": {
              "color": "#000040"
             },
             "font": {
              "color": "#000036"
             },
             "line": {
              "color": "#000039"
             }
            },
            "type": "table"
           }
          ],
          "waterfall": [
           {
            "connector": {
             "line": {
              "color": "#000036",
              "width": 2
             }
            },
            "decreasing": {
             "marker": {
              "color": "#000033"
             }
            },
            "increasing": {
             "marker": {
              "color": "#000032"
             }
            },
            "totals": {
             "marker": {
              "color": "#000034"
             }
            },
            "type": "waterfall"
           }
          ]
         },
         "layout": {
          "coloraxis": {
           "colorscale": [
            [
             0.0,
             "#000011"
            ],
            [
             0.1111111111111111,
             "#000012"
            ],
            [
             0.2222222222222222,
             "#000013"
            ],
            [
             0.3333333333333333,
             "#000014"
            ],
            [
             0.4444444444444444,
             "#000015"
            ],
            [
             0.5555555555555556,
             "#000016"
            ],
            [
             0.6666666666666666,
             "#000017"
            ],
            [
             0.7777777777777778,
             "#000018"
            ],
            [
             0.8888888888888888,
             "#000019"
            ],
            [
             1.0,
             "#000020"
            ]
           ]
          },
          "colorscale": {
           "diverging": [
            [
             0.0,
             "#000021"
            ],
            [
             0.1,
             "#000022"
            ],
            [
             0.2,
             "#000023"
            ],
            [
             0.3,
             "#000024"
            ],
            [
             0.4,
             "#000025"
            ],
            [
             0.5,
             "#000026"
            ],
            [
             0.6,
             "#000027"
            ],
            [
             0.7,
             "#000028"
            ],
            [
             0.8,
             "#000029"
            ],
            [
             0.9,
             "#000030"
            ],
            [
             1.0,
             "#000031"
            ]
           ],
           "sequential": [
            [
             0.0,
             "#000011"
            ],
            [
             0.1111111111111111,
             "#000012"
            ],
            [
             0.2222222222222222,
             "#000013"
            ],
            [
             0.3333333333333333,
             "#000014"
            ],
            [
             0.4444444444444444,
             "#000015"
            ],
            [
             0.5555555555555556,
             "#000016"
            ],
            [
             0.6666666666666666,
             "#000017"
            ],
            [
             0.7777777777777778,
             "#000018"
            ],
            [
             0.8888888888888888,
             "#000019"
            ],
            [
             1.0,
             "#000020"
            ]
           ],
           "sequentialminus": [
            [
             0.0,
             "#000011"
            ],
            [
             0.1111111111111111,
             "#000012"
            ],
            [
             0.2222222222222222,
             "#000013"
            ],
            [
             0.3333333333333333,
             "#000014"
            ],
            [
             0.4444444444444444,
             "#000015"
            ],
            [
             0.5555555555555556,
             "#000016"
            ],
            [
             0.6666666666666666,
             "#000017"
            ],
            [
             0.7777777777777778,
             "#000018"
            ],
            [
             0.8888888888888888,
             "#000019"
            ],
            [
             1.0,
             "#000020"
            ]
           ]
          },
          "colorway": [
           "#000001",
           "#000002",
           "#000003",
           "#000004",
           "#000005",
           "#000006",
           "#000007",
           "#000008",
           "#000009",
           "#000010"
          ]
         }
        },
        "title": {
         "text": "Accuracy vs Noise Level"
        },
        "xaxis": {
         "title": {
          "text": "Noise Level"
         }
        },
        "yaxis": {
         "title": {
          "text": "Accuracy"
         }
        }
       },
       "config": {
        "plotlyServerURL": "https://plot.ly"
       }
      },
      "text/html": [
       "<div>                            <div id=\"b4c5aef7-4270-4fb0-9425-5b36ca77ae13\" class=\"plotly-graph-div\" style=\"height:525px; width:100%;\"></div>            <script type=\"text/javascript\">                require([\"plotly\"], function(Plotly) {                    window.PLOTLYENV=window.PLOTLYENV || {};                                    if (document.getElementById(\"b4c5aef7-4270-4fb0-9425-5b36ca77ae13\")) {                    Plotly.newPlot(                        \"b4c5aef7-4270-4fb0-9425-5b36ca77ae13\",                        [{\"line\":{\"color\":\"blue\"},\"mode\":\"lines+markers\",\"name\":\"Diffusion\",\"x\":[0.1,0.2,0.30000000000000004,0.4,0.5,0.6,0.7000000000000001],\"y\":[0.9347453211551746,0.9249976431020377,0.9154610182464396,0.8781503541373954,0.8174594561546218,0.742930199452873,0.5416910018764745],\"type\":\"scatter\"},{\"line\":{\"color\":\"red\"},\"mode\":\"lines+markers\",\"name\":\"Argmax\",\"x\":[0.1,0.2,0.30000000000000004,0.4,0.5,0.6,0.7000000000000001],\"y\":[0.7746457421417069,0.7745678991558177,0.7742061391773059,0.7681037897391049,0.7354765992896738,0.42466266978635614,0.16188226385688792],\"type\":\"scatter\"}],                        {\"template\":{\"data\":{\"candlestick\":[{\"decreasing\":{\"line\":{\"color\":\"#000033\"}},\"increasing\":{\"line\":{\"color\":\"#000032\"}},\"type\":\"candlestick\"}],\"contourcarpet\":[{\"colorscale\":[[0.0,\"#000011\"],[0.1111111111111111,\"#000012\"],[0.2222222222222222,\"#000013\"],[0.3333333333333333,\"#000014\"],[0.4444444444444444,\"#000015\"],[0.5555555555555556,\"#000016\"],[0.6666666666666666,\"#000017\"],[0.7777777777777778,\"#000018\"],[0.8888888888888888,\"#000019\"],[1.0,\"#000020\"]],\"type\":\"contourcarpet\"}],\"contour\":[{\"colorscale\":[[0.0,\"#000011\"],[0.1111111111111111,\"#000012\"],[0.2222222222222222,\"#000013\"],[0.3333333333333333,\"#000014\"],[0.4444444444444444,\"#000015\"],[0.5555555555555556,\"#000016\"],[0.6666666666666666,\"#000017\"],[0.7777777777777778,\"#000018\"],[0.8888888888888888,\"#000019\"],[1.0,\"#000020\"]],\"type\":\"contour\"}],\"heatmap\":[{\"colorscale\":[[0.0,\"#000011\"],[0.1111111111111111,\"#000012\"],[0.2222222222222222,\"#000013\"],[0.3333333333333333,\"#000014\"],[0.4444444444444444,\"#000015\"],[0.5555555555555556,\"#000016\"],[0.6666666666666666,\"#000017\"],[0.7777777777777778,\"#000018\"],[0.8888888888888888,\"#000019\"],[1.0,\"#000020\"]],\"type\":\"heatmap\"}],\"histogram2d\":[{\"colorscale\":[[0.0,\"#000011\"],[0.1111111111111111,\"#000012\"],[0.2222222222222222,\"#000013\"],[0.3333333333333333,\"#000014\"],[0.4444444444444444,\"#000015\"],[0.5555555555555556,\"#000016\"],[0.6666666666666666,\"#000017\"],[0.7777777777777778,\"#000018\"],[0.8888888888888888,\"#000019\"],[1.0,\"#000020\"]],\"type\":\"histogram2d\"}],\"icicle\":[{\"textfont\":{\"color\":\"white\"},\"type\":\"icicle\"}],\"sankey\":[{\"textfont\":{\"color\":\"#000036\"},\"type\":\"sankey\"}],\"scatter\":[{\"marker\":{\"line\":{\"width\":0}},\"type\":\"scatter\"}],\"table\":[{\"cells\":{\"fill\":{\"color\":\"#000038\"},\"font\":{\"color\":\"#000037\"},\"line\":{\"color\":\"#000039\"}},\"header\":{\"fill\":{\"color\":\"#000040\"},\"font\":{\"color\":\"#000036\"},\"line\":{\"color\":\"#000039\"}},\"type\":\"table\"}],\"waterfall\":[{\"connector\":{\"line\":{\"color\":\"#000036\",\"width\":2}},\"decreasing\":{\"marker\":{\"color\":\"#000033\"}},\"increasing\":{\"marker\":{\"color\":\"#000032\"}},\"totals\":{\"marker\":{\"color\":\"#000034\"}},\"type\":\"waterfall\"}]},\"layout\":{\"coloraxis\":{\"colorscale\":[[0.0,\"#000011\"],[0.1111111111111111,\"#000012\"],[0.2222222222222222,\"#000013\"],[0.3333333333333333,\"#000014\"],[0.4444444444444444,\"#000015\"],[0.5555555555555556,\"#000016\"],[0.6666666666666666,\"#000017\"],[0.7777777777777778,\"#000018\"],[0.8888888888888888,\"#000019\"],[1.0,\"#000020\"]]},\"colorscale\":{\"diverging\":[[0.0,\"#000021\"],[0.1,\"#000022\"],[0.2,\"#000023\"],[0.3,\"#000024\"],[0.4,\"#000025\"],[0.5,\"#000026\"],[0.6,\"#000027\"],[0.7,\"#000028\"],[0.8,\"#000029\"],[0.9,\"#000030\"],[1.0,\"#000031\"]],\"sequential\":[[0.0,\"#000011\"],[0.1111111111111111,\"#000012\"],[0.2222222222222222,\"#000013\"],[0.3333333333333333,\"#000014\"],[0.4444444444444444,\"#000015\"],[0.5555555555555556,\"#000016\"],[0.6666666666666666,\"#000017\"],[0.7777777777777778,\"#000018\"],[0.8888888888888888,\"#000019\"],[1.0,\"#000020\"]],\"sequentialminus\":[[0.0,\"#000011\"],[0.1111111111111111,\"#000012\"],[0.2222222222222222,\"#000013\"],[0.3333333333333333,\"#000014\"],[0.4444444444444444,\"#000015\"],[0.5555555555555556,\"#000016\"],[0.6666666666666666,\"#000017\"],[0.7777777777777778,\"#000018\"],[0.8888888888888888,\"#000019\"],[1.0,\"#000020\"]]},\"colorway\":[\"#000001\",\"#000002\",\"#000003\",\"#000004\",\"#000005\",\"#000006\",\"#000007\",\"#000008\",\"#000009\",\"#000010\"]}},\"title\":{\"text\":\"Accuracy vs Noise Level\"},\"xaxis\":{\"title\":{\"text\":\"Noise Level\"}},\"yaxis\":{\"title\":{\"text\":\"Accuracy\"}}},                        {\"responsive\": true}                    ).then(function(){\n",
       "                            \n",
       "var gd = document.getElementById('b4c5aef7-4270-4fb0-9425-5b36ca77ae13');\n",
       "var x = new MutationObserver(function (mutations, observer) {{\n",
       "        var display = window.getComputedStyle(gd).display;\n",
       "        if (!display || display === 'none') {{\n",
       "            console.log([gd, 'removed!']);\n",
       "            Plotly.purge(gd);\n",
       "            observer.disconnect();\n",
       "        }}\n",
       "}});\n",
       "\n",
       "// Listen for the removal of the full notebook cells\n",
       "var notebookContainer = gd.closest('#notebook-container');\n",
       "if (notebookContainer) {{\n",
       "    x.observe(notebookContainer, {childList: true});\n",
       "}}\n",
       "\n",
       "// Listen for the clearing of the current output cell\n",
       "var outputEl = gd.closest('.output');\n",
       "if (outputEl) {{\n",
       "    x.observe(outputEl, {childList: true});\n",
       "}}\n",
       "\n",
       "                        })                };                });            </script>        </div>"
      ]
     },
     "metadata": {},
     "output_type": "display_data"
    }
   ],
   "execution_count": 43
  },
  {
   "metadata": {
    "ExecuteTime": {
     "end_time": "2025-04-13T22:35:38.387195Z",
     "start_time": "2025-04-13T22:35:38.363695Z"
    }
   },
   "cell_type": "code",
   "source": "fig.write_html(\"lambda_scaling_with_pm.html\")",
   "id": "3f0a6619c6e5938",
   "outputs": [],
   "execution_count": 41
  },
  {
   "metadata": {},
   "cell_type": "code",
   "outputs": [],
   "execution_count": null,
   "source": "",
   "id": "c5f43a548bcd6a80"
  }
 ],
 "metadata": {
  "kernelspec": {
   "display_name": "Python 3",
   "language": "python",
   "name": "python3"
  },
  "language_info": {
   "codemirror_mode": {
    "name": "ipython",
    "version": 2
   },
   "file_extension": ".py",
   "mimetype": "text/x-python",
   "name": "python",
   "nbconvert_exporter": "python",
   "pygments_lexer": "ipython2",
   "version": "2.7.6"
  }
 },
 "nbformat": 4,
 "nbformat_minor": 5
}
