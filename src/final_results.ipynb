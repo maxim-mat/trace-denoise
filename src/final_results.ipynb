{
 "cells": [
  {
   "cell_type": "code",
   "id": "initial_id",
   "metadata": {
    "collapsed": true,
    "ExecuteTime": {
     "end_time": "2025-04-05T07:25:22.027994Z",
     "start_time": "2025-04-05T07:25:10.049495Z"
    }
   },
   "source": [
    "import streamlit as st\n",
    "import pickle as pkl\n",
    "\n",
    "import torch\n",
    "from sklearn.model_selection import train_test_split\n",
    "\n",
    "from denoisers.ConditionalUnetDenoiser import ConditionalUnetDenoiser\n",
    "from denoisers.ConditionalUnetMatrixDenoiser import ConditionalUnetMatrixDenoiser\n",
    "from utils.graph_utils import get_process_model_reachability_graph_transition_matrix\n",
    "from utils.pm_utils import discover_dk_process, remove_duplicates_dataset, pad_to_multiple_of_n\n",
    "from utils.Config import Config\n",
    "import plotly.express as px\n",
    "import plotly.graph_objects as go\n",
    "from dataset.dataset import SaladsDataset\n",
    "from ddpm.ddpm_multinomial import Diffusion\n",
    "import os\n",
    "import json\n",
    "from torch.utils.data import DataLoader\n",
    "from tqdm import tqdm"
   ],
   "outputs": [],
   "execution_count": 1
  },
  {
   "metadata": {
    "ExecuteTime": {
     "end_time": "2025-04-05T07:25:22.050495Z",
     "start_time": "2025-04-05T07:25:22.041998Z"
    }
   },
   "cell_type": "code",
   "source": [
    "def load_experiment_config(target_dir):\n",
    "    config_path = os.path.join(target_dir, \"cfg.json\")\n",
    "    if os.path.exists(config_path):\n",
    "        with open(config_path, \"r\") as f:\n",
    "            return Config(**json.load(f))\n",
    "    else:\n",
    "        st.warning(\"Configuration file not found.\")\n",
    "        return None\n",
    "\n",
    "\n",
    "def load_experiment_data_and_model(target_dir, cfg):\n",
    "    with open(cfg.data_path, \"rb\") as f:\n",
    "        base_dataset = pkl.load(f)\n",
    "    dataset = SaladsDataset(base_dataset['target'], base_dataset['stochastic'])\n",
    "    train_dataset, test_dataset = train_test_split(dataset, train_size=cfg.train_percent, shuffle=True,\n",
    "                                                   random_state=cfg.seed)\n",
    "    dk_process_model, dk_init_marking, dk_final_marking = discover_dk_process(train_dataset, cfg,\n",
    "                                                                              preprocess=remove_duplicates_dataset)\n",
    "    diffuser = Diffusion(noise_steps=cfg.num_timesteps, device=cfg.device)\n",
    "    if cfg.enable_matrix:\n",
    "        rg_nx, rg_transition_matrix = get_process_model_reachability_graph_transition_matrix(dk_process_model,\n",
    "                                                                                             dk_init_marking)\n",
    "        rg_transition_matrix = torch.tensor(rg_transition_matrix, device=cfg.device).float()\n",
    "        rg_transition_matrix = pad_to_multiple_of_n(rg_transition_matrix)\n",
    "        denoiser = ConditionalUnetMatrixDenoiser(in_ch=cfg.num_classes, out_ch=cfg.num_classes,\n",
    "                                                 max_input_dim=dataset.sequence_length,\n",
    "                                                 transition_dim=rg_transition_matrix.shape[-1],\n",
    "                                                 device=cfg.device).to(cfg.device).float()\n",
    "    else:\n",
    "        rg_transition_matrix = torch.randn((cfg.num_classes, 2, 2)).to(cfg.device)\n",
    "        denoiser = ConditionalUnetDenoiser(in_ch=cfg.num_classes, out_ch=cfg.num_classes,\n",
    "                                           max_input_dim=dataset.sequence_length,\n",
    "                                           device=cfg.device).to(cfg.device).float()\n",
    "    ckpt_path = os.path.join(target_dir, \"best.ckpt\")\n",
    "    denoiser.load_state_dict(torch.load(ckpt_path, map_location=cfg.device)['model_state'])\n",
    "    final_res_path = os.path.join(target_dir, \"final_results.json\")\n",
    "    if os.path.exists(final_res_path):\n",
    "        with open(final_res_path, \"r\") as f:\n",
    "            final_res = json.load(f)\n",
    "    else:\n",
    "        st.warning(\"Final results not found.\")\n",
    "\n",
    "    return (train_dataset, test_dataset, dk_process_model, dk_init_marking, dk_final_marking, rg_transition_matrix,\n",
    "            diffuser, denoiser, final_res)"
   ],
   "id": "4a6e98b2557316e4",
   "outputs": [],
   "execution_count": 2
  },
  {
   "metadata": {
    "ExecuteTime": {
     "end_time": "2025-04-05T07:25:29.085995Z",
     "start_time": "2025-04-05T07:25:22.055998Z"
    }
   },
   "cell_type": "code",
   "source": [
    "target_dir = r\"D:\\Projects\\trace-denoise\\pretty_results\\50_salads_matrix_no_dropout_new\"\n",
    "cfg = load_experiment_config(target_dir)\n",
    "cfg.device = \"cuda:0\"\n",
    "train_dataset, test_dataset, dk_process_model, dk_init_marking, dk_final_marking, rg_transition_matrix, diffuser, denoiser, final_res = load_experiment_data_and_model(target_dir, cfg)\n",
    "with open(os.path.join(target_dir, \"trace_kinds_train.pkl\"), \"rb\") as f:\n",
    "    x_train, y_train, x_hat_train = pkl.load(f)\n",
    "with open(os.path.join(target_dir, \"trace_kinds_test.pkl\"), \"rb\") as f:\n",
    "    x_test, y_test, x_hat_test = pkl.load(f)"
   ],
   "id": "8c7b61a1bc0fd233",
   "outputs": [
    {
     "ename": "RuntimeError",
     "evalue": "Error(s) in loading state_dict for ConditionalUnetMatrixDenoiser:\n\tsize mismatch for outc_mat.weight: copying a param with shape torch.Size([21, 64, 1, 1]) from checkpoint, the shape in current model is torch.Size([1, 64, 1, 1]).\n\tsize mismatch for outc_mat.bias: copying a param with shape torch.Size([21]) from checkpoint, the shape in current model is torch.Size([1]).",
     "output_type": "error",
     "traceback": [
      "\u001B[1;31m---------------------------------------------------------------------------\u001B[0m",
      "\u001B[1;31mRuntimeError\u001B[0m                              Traceback (most recent call last)",
      "Cell \u001B[1;32mIn[3], line 4\u001B[0m\n\u001B[0;32m      2\u001B[0m cfg \u001B[38;5;241m=\u001B[39m load_experiment_config(target_dir)\n\u001B[0;32m      3\u001B[0m cfg\u001B[38;5;241m.\u001B[39mdevice \u001B[38;5;241m=\u001B[39m \u001B[38;5;124m\"\u001B[39m\u001B[38;5;124mcuda:0\u001B[39m\u001B[38;5;124m\"\u001B[39m\n\u001B[1;32m----> 4\u001B[0m train_dataset, test_dataset, dk_process_model, dk_init_marking, dk_final_marking, rg_transition_matrix, diffuser, denoiser, final_res \u001B[38;5;241m=\u001B[39m load_experiment_data_and_model(target_dir, cfg)\n\u001B[0;32m      5\u001B[0m \u001B[38;5;28;01mwith\u001B[39;00m \u001B[38;5;28mopen\u001B[39m(os\u001B[38;5;241m.\u001B[39mpath\u001B[38;5;241m.\u001B[39mjoin(target_dir, \u001B[38;5;124m\"\u001B[39m\u001B[38;5;124mtrace_kinds_train.pkl\u001B[39m\u001B[38;5;124m\"\u001B[39m), \u001B[38;5;124m\"\u001B[39m\u001B[38;5;124mrb\u001B[39m\u001B[38;5;124m\"\u001B[39m) \u001B[38;5;28;01mas\u001B[39;00m f:\n\u001B[0;32m      6\u001B[0m     x_train, y_train, x_hat_train \u001B[38;5;241m=\u001B[39m pkl\u001B[38;5;241m.\u001B[39mload(f)\n",
      "Cell \u001B[1;32mIn[2], line 35\u001B[0m, in \u001B[0;36mload_experiment_data_and_model\u001B[1;34m(target_dir, cfg)\u001B[0m\n\u001B[0;32m     31\u001B[0m     denoiser \u001B[38;5;241m=\u001B[39m ConditionalUnetDenoiser(in_ch\u001B[38;5;241m=\u001B[39mcfg\u001B[38;5;241m.\u001B[39mnum_classes, out_ch\u001B[38;5;241m=\u001B[39mcfg\u001B[38;5;241m.\u001B[39mnum_classes,\n\u001B[0;32m     32\u001B[0m                                        max_input_dim\u001B[38;5;241m=\u001B[39mdataset\u001B[38;5;241m.\u001B[39msequence_length,\n\u001B[0;32m     33\u001B[0m                                        device\u001B[38;5;241m=\u001B[39mcfg\u001B[38;5;241m.\u001B[39mdevice)\u001B[38;5;241m.\u001B[39mto(cfg\u001B[38;5;241m.\u001B[39mdevice)\u001B[38;5;241m.\u001B[39mfloat()\n\u001B[0;32m     34\u001B[0m ckpt_path \u001B[38;5;241m=\u001B[39m os\u001B[38;5;241m.\u001B[39mpath\u001B[38;5;241m.\u001B[39mjoin(target_dir, \u001B[38;5;124m\"\u001B[39m\u001B[38;5;124mbest.ckpt\u001B[39m\u001B[38;5;124m\"\u001B[39m)\n\u001B[1;32m---> 35\u001B[0m denoiser\u001B[38;5;241m.\u001B[39mload_state_dict(torch\u001B[38;5;241m.\u001B[39mload(ckpt_path, map_location\u001B[38;5;241m=\u001B[39mcfg\u001B[38;5;241m.\u001B[39mdevice)[\u001B[38;5;124m'\u001B[39m\u001B[38;5;124mmodel_state\u001B[39m\u001B[38;5;124m'\u001B[39m])\n\u001B[0;32m     36\u001B[0m final_res_path \u001B[38;5;241m=\u001B[39m os\u001B[38;5;241m.\u001B[39mpath\u001B[38;5;241m.\u001B[39mjoin(target_dir, \u001B[38;5;124m\"\u001B[39m\u001B[38;5;124mfinal_results.json\u001B[39m\u001B[38;5;124m\"\u001B[39m)\n\u001B[0;32m     37\u001B[0m \u001B[38;5;28;01mif\u001B[39;00m os\u001B[38;5;241m.\u001B[39mpath\u001B[38;5;241m.\u001B[39mexists(final_res_path):\n",
      "File \u001B[1;32m~\\Anaconda3\\envs\\everything\\Lib\\site-packages\\torch\\nn\\modules\\module.py:2153\u001B[0m, in \u001B[0;36mModule.load_state_dict\u001B[1;34m(self, state_dict, strict, assign)\u001B[0m\n\u001B[0;32m   2148\u001B[0m         error_msgs\u001B[38;5;241m.\u001B[39minsert(\n\u001B[0;32m   2149\u001B[0m             \u001B[38;5;241m0\u001B[39m, \u001B[38;5;124m'\u001B[39m\u001B[38;5;124mMissing key(s) in state_dict: \u001B[39m\u001B[38;5;132;01m{}\u001B[39;00m\u001B[38;5;124m. \u001B[39m\u001B[38;5;124m'\u001B[39m\u001B[38;5;241m.\u001B[39mformat(\n\u001B[0;32m   2150\u001B[0m                 \u001B[38;5;124m'\u001B[39m\u001B[38;5;124m, \u001B[39m\u001B[38;5;124m'\u001B[39m\u001B[38;5;241m.\u001B[39mjoin(\u001B[38;5;124mf\u001B[39m\u001B[38;5;124m'\u001B[39m\u001B[38;5;124m\"\u001B[39m\u001B[38;5;132;01m{\u001B[39;00mk\u001B[38;5;132;01m}\u001B[39;00m\u001B[38;5;124m\"\u001B[39m\u001B[38;5;124m'\u001B[39m \u001B[38;5;28;01mfor\u001B[39;00m k \u001B[38;5;129;01min\u001B[39;00m missing_keys)))\n\u001B[0;32m   2152\u001B[0m \u001B[38;5;28;01mif\u001B[39;00m \u001B[38;5;28mlen\u001B[39m(error_msgs) \u001B[38;5;241m>\u001B[39m \u001B[38;5;241m0\u001B[39m:\n\u001B[1;32m-> 2153\u001B[0m     \u001B[38;5;28;01mraise\u001B[39;00m \u001B[38;5;167;01mRuntimeError\u001B[39;00m(\u001B[38;5;124m'\u001B[39m\u001B[38;5;124mError(s) in loading state_dict for \u001B[39m\u001B[38;5;132;01m{}\u001B[39;00m\u001B[38;5;124m:\u001B[39m\u001B[38;5;130;01m\\n\u001B[39;00m\u001B[38;5;130;01m\\t\u001B[39;00m\u001B[38;5;132;01m{}\u001B[39;00m\u001B[38;5;124m'\u001B[39m\u001B[38;5;241m.\u001B[39mformat(\n\u001B[0;32m   2154\u001B[0m                        \u001B[38;5;28mself\u001B[39m\u001B[38;5;241m.\u001B[39m\u001B[38;5;18m__class__\u001B[39m\u001B[38;5;241m.\u001B[39m\u001B[38;5;18m__name__\u001B[39m, \u001B[38;5;124m\"\u001B[39m\u001B[38;5;130;01m\\n\u001B[39;00m\u001B[38;5;130;01m\\t\u001B[39;00m\u001B[38;5;124m\"\u001B[39m\u001B[38;5;241m.\u001B[39mjoin(error_msgs)))\n\u001B[0;32m   2155\u001B[0m \u001B[38;5;28;01mreturn\u001B[39;00m _IncompatibleKeys(missing_keys, unexpected_keys)\n",
      "\u001B[1;31mRuntimeError\u001B[0m: Error(s) in loading state_dict for ConditionalUnetMatrixDenoiser:\n\tsize mismatch for outc_mat.weight: copying a param with shape torch.Size([21, 64, 1, 1]) from checkpoint, the shape in current model is torch.Size([1, 64, 1, 1]).\n\tsize mismatch for outc_mat.bias: copying a param with shape torch.Size([21]) from checkpoint, the shape in current model is torch.Size([1])."
     ]
    }
   ],
   "execution_count": 3
  },
  {
   "metadata": {},
   "cell_type": "code",
   "outputs": [],
   "execution_count": null,
   "source": "",
   "id": "11f47e33e79b2cf0"
  }
 ],
 "metadata": {
  "kernelspec": {
   "display_name": "Python 3",
   "language": "python",
   "name": "python3"
  },
  "language_info": {
   "codemirror_mode": {
    "name": "ipython",
    "version": 2
   },
   "file_extension": ".py",
   "mimetype": "text/x-python",
   "name": "python",
   "nbconvert_exporter": "python",
   "pygments_lexer": "ipython2",
   "version": "2.7.6"
  }
 },
 "nbformat": 4,
 "nbformat_minor": 5
}
