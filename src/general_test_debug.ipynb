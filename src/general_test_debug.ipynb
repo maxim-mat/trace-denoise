{
 "cells": [
  {
   "cell_type": "code",
   "execution_count": 11,
   "id": "initial_id",
   "metadata": {
    "collapsed": true,
    "ExecuteTime": {
     "end_time": "2024-10-13T20:12:36.857185300Z",
     "start_time": "2024-10-13T20:12:36.845184300Z"
    }
   },
   "outputs": [],
   "source": [
    "import numpy as np\n",
    "import pickle as pkl\n",
    "import pandas as pd\n",
    "import torch"
   ]
  },
  {
   "cell_type": "code",
   "execution_count": 12,
   "outputs": [],
   "source": [
    "with open(\"../data/pickles/50_salads_500_sample.pkl\", \"rb\") as f:\n",
    "    dataset = pkl.load(f)"
   ],
   "metadata": {
    "collapsed": false,
    "ExecuteTime": {
     "end_time": "2024-10-13T20:12:37.070003500Z",
     "start_time": "2024-10-13T20:12:37.045968900Z"
    }
   },
   "id": "d9fb61f884602455"
  },
  {
   "cell_type": "code",
   "execution_count": 13,
   "outputs": [
    {
     "data": {
      "text/plain": "torch.Size([496, 20])"
     },
     "execution_count": 13,
     "metadata": {},
     "output_type": "execute_result"
    }
   ],
   "source": [
    "from src.dataset.dataset import SaladsDataset\n",
    "\n",
    "salads_dataset = SaladsDataset(dataset['target'], dataset['stochastic'])\n",
    "salads_dataset[0][0].shape"
   ],
   "metadata": {
    "collapsed": false,
    "ExecuteTime": {
     "end_time": "2024-10-13T20:12:37.533309300Z",
     "start_time": "2024-10-13T20:12:37.510809900Z"
    }
   },
   "id": "81477b4af02d700f"
  },
  {
   "cell_type": "code",
   "execution_count": 3,
   "outputs": [],
   "source": [
    "def subsample_time_series(trace_data: dict, num_indexes: int):\n",
    "    \"\"\"\n",
    "    reduces trace lengths to num_indexes\n",
    "    :param trace_data: original dk and sk traces\n",
    "    :param num_indexes: length of new, under-sampled, sequences\n",
    "    :return: reduced length df and sk traces and respective sampled indexes\n",
    "    \"\"\"\n",
    "    dk_sample, sk_sample, sample_indexes = [], [], []\n",
    "    for dk_trace, sk_trace in zip(trace_data['target'], trace_data['stochastic']):\n",
    "        random_indexes = np.random.choice(dk_trace.shape[0], num_indexes, replace=False)\n",
    "        dk_sample.append(dk_trace[random_indexes])\n",
    "        sk_sample.append(sk_trace[random_indexes])\n",
    "        sample_indexes.append(random_indexes)\n",
    "    return {'target': dk_sample, 'stochastic': sk_sample}, sample_indexes"
   ],
   "metadata": {
    "collapsed": false,
    "ExecuteTime": {
     "end_time": "2024-10-13T18:25:45.031110400Z",
     "start_time": "2024-10-13T18:25:45.027610100Z"
    }
   },
   "id": "9a6193aba456d08d"
  },
  {
   "cell_type": "code",
   "execution_count": 4,
   "outputs": [],
   "source": [
    "sampled_dataset, indexes = subsample_time_series(dataset, 200)"
   ],
   "metadata": {
    "collapsed": false,
    "ExecuteTime": {
     "end_time": "2024-10-13T18:25:45.049110200Z",
     "start_time": "2024-10-13T18:25:45.033608800Z"
    }
   },
   "id": "585b2960919664a1"
  },
  {
   "cell_type": "code",
   "execution_count": 5,
   "outputs": [
    {
     "data": {
      "text/plain": "200"
     },
     "execution_count": 5,
     "metadata": {},
     "output_type": "execute_result"
    }
   ],
   "source": [
    "len(sampled_dataset['target'][0])"
   ],
   "metadata": {
    "collapsed": false,
    "ExecuteTime": {
     "end_time": "2024-10-13T18:25:45.056109100Z",
     "start_time": "2024-10-13T18:25:45.049609Z"
    }
   },
   "id": "432e825480b8f002"
  },
  {
   "cell_type": "code",
   "execution_count": null,
   "outputs": [],
   "source": [],
   "metadata": {
    "collapsed": false
   },
   "id": "541dbcfadb9acea1"
  }
 ],
 "metadata": {
  "kernelspec": {
   "display_name": "Python 3",
   "language": "python",
   "name": "python3"
  },
  "language_info": {
   "codemirror_mode": {
    "name": "ipython",
    "version": 2
   },
   "file_extension": ".py",
   "mimetype": "text/x-python",
   "name": "python",
   "nbconvert_exporter": "python",
   "pygments_lexer": "ipython2",
   "version": "2.7.6"
  }
 },
 "nbformat": 4,
 "nbformat_minor": 5
}
