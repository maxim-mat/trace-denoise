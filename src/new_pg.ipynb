{
 "cells": [
  {
   "cell_type": "code",
   "execution_count": 1,
   "id": "initial_id",
   "metadata": {
    "collapsed": true,
    "ExecuteTime": {
     "end_time": "2024-11-16T12:04:51.012954800Z",
     "start_time": "2024-11-16T12:04:49.158689800Z"
    }
   },
   "outputs": [],
   "source": [
    "import pickle as pkl\n",
    "import torch"
   ]
  },
  {
   "cell_type": "code",
   "execution_count": 2,
   "outputs": [],
   "source": [
    "with open(\"../data/pickles/50salads_target.pkl\", \"rb\") as f:\n",
    "    data = pkl.load(f)\n",
    "with open(\"../data/pickles/50_salads_one_hot.pkl\", \"rb\") as f:\n",
    "    data_oh = pkl.load(f)"
   ],
   "metadata": {
    "collapsed": false,
    "ExecuteTime": {
     "end_time": "2024-08-01T18:09:10.824479800Z",
     "start_time": "2024-08-01T18:09:10.779978800Z"
    }
   },
   "id": "364b82ed9c22cdde"
  },
  {
   "cell_type": "code",
   "execution_count": 3,
   "outputs": [],
   "source": [
    "from torch.utils.data import DataLoader\n",
    "from dataset.dataset import SaladsDataset\n",
    "from denoisers.UnetDenoiser import UnetDenoiser\n",
    "from ddpm.ddpm_multinomial import Diffusion\n",
    "\n",
    "salads_dataset = SaladsDataset(data_oh)"
   ],
   "metadata": {
    "collapsed": false,
    "ExecuteTime": {
     "end_time": "2024-08-01T18:09:10.876481600Z",
     "start_time": "2024-08-01T18:09:10.816979100Z"
    }
   },
   "id": "98041fdb1c1e8649"
  },
  {
   "cell_type": "code",
   "execution_count": 4,
   "outputs": [
    {
     "data": {
      "text/plain": "<All keys matched successfully>"
     },
     "execution_count": 4,
     "metadata": {},
     "output_type": "execute_result"
    }
   ],
   "source": [
    "denoiser = UnetDenoiser(in_ch=20, out_ch=20, max_input_dim=salads_dataset.sequence_length).to('cuda').float()\n",
    "checkpoint = torch.load('../runs/unet_ce/last.ckpt')\n",
    "denoiser.load_state_dict(checkpoint['model_state'])"
   ],
   "metadata": {
    "collapsed": false,
    "ExecuteTime": {
     "end_time": "2024-08-01T18:09:11.308787400Z",
     "start_time": "2024-08-01T18:09:10.877478900Z"
    }
   },
   "id": "f22949c5566c495e"
  },
  {
   "cell_type": "code",
   "execution_count": 7,
   "outputs": [
    {
     "data": {
      "text/plain": "tensor([[[0., 0., 0.,  ..., 1., 0., 0.],\n         [0., 0., 0.,  ..., 1., 0., 0.],\n         [0., 0., 0.,  ..., 1., 0., 0.],\n         ...,\n         [0., 0., 0.,  ..., 0., 0., 1.],\n         [0., 0., 0.,  ..., 0., 0., 1.],\n         [0., 0., 0.,  ..., 0., 0., 1.]],\n\n        [[0., 0., 0.,  ..., 1., 0., 0.],\n         [0., 0., 0.,  ..., 1., 0., 0.],\n         [0., 0., 0.,  ..., 1., 0., 0.],\n         ...,\n         [0., 0., 0.,  ..., 0., 0., 1.],\n         [0., 0., 0.,  ..., 0., 0., 1.],\n         [0., 0., 0.,  ..., 0., 0., 1.]],\n\n        [[0., 0., 0.,  ..., 1., 0., 0.],\n         [0., 0., 0.,  ..., 1., 0., 0.],\n         [0., 0., 0.,  ..., 1., 0., 0.],\n         ...,\n         [0., 0., 0.,  ..., 0., 0., 1.],\n         [0., 0., 0.,  ..., 0., 0., 1.],\n         [0., 0., 0.,  ..., 0., 0., 1.]],\n\n        ...,\n\n        [[0., 0., 0.,  ..., 1., 0., 0.],\n         [0., 0., 0.,  ..., 1., 0., 0.],\n         [0., 0., 0.,  ..., 1., 0., 0.],\n         ...,\n         [0., 0., 0.,  ..., 0., 0., 1.],\n         [0., 0., 0.,  ..., 0., 0., 1.],\n         [0., 0., 0.,  ..., 0., 0., 1.]],\n\n        [[0., 0., 0.,  ..., 1., 0., 0.],\n         [0., 0., 0.,  ..., 1., 0., 0.],\n         [0., 0., 0.,  ..., 1., 0., 0.],\n         ...,\n         [0., 0., 0.,  ..., 0., 0., 1.],\n         [0., 0., 0.,  ..., 0., 0., 1.],\n         [0., 0., 0.,  ..., 0., 0., 1.]],\n\n        [[0., 0., 0.,  ..., 1., 0., 0.],\n         [0., 0., 0.,  ..., 1., 0., 0.],\n         [0., 0., 0.,  ..., 1., 0., 0.],\n         ...,\n         [0., 0., 0.,  ..., 0., 0., 1.],\n         [0., 0., 0.,  ..., 0., 0., 1.],\n         [0., 0., 0.,  ..., 0., 0., 1.]]], device='cuda:0',\n       dtype=torch.float64)"
     },
     "execution_count": 7,
     "metadata": {},
     "output_type": "execute_result"
    }
   ],
   "source": [
    "loader = DataLoader(\n",
    "    salads_dataset,\n",
    "    batch_size=10,\n",
    "    shuffle=True\n",
    ")\n",
    "\n",
    "test = next(iter(loader)).to('cuda')\n",
    "test"
   ],
   "metadata": {
    "collapsed": false,
    "ExecuteTime": {
     "end_time": "2024-07-30T17:54:37.718700800Z",
     "start_time": "2024-07-30T17:54:37.688202200Z"
    }
   },
   "id": "acd8dfa5ff0f191f"
  },
  {
   "cell_type": "code",
   "execution_count": 8,
   "outputs": [],
   "source": [
    "diffuser = Diffusion(noise_steps=200)"
   ],
   "metadata": {
    "collapsed": false,
    "ExecuteTime": {
     "end_time": "2024-07-30T17:54:40.870412300Z",
     "start_time": "2024-07-30T17:54:40.848412900Z"
    }
   },
   "id": "55792641fc271ae1"
  },
  {
   "cell_type": "code",
   "execution_count": 9,
   "outputs": [],
   "source": [
    "t = torch.tensor([199]).to('cuda') \n",
    "x_t, eps = diffuser.noise_data(test, t)"
   ],
   "metadata": {
    "collapsed": false,
    "ExecuteTime": {
     "end_time": "2024-07-30T17:54:41.956912300Z",
     "start_time": "2024-07-30T17:54:41.935913Z"
    }
   },
   "id": "e363db14e70265cd"
  },
  {
   "cell_type": "code",
   "execution_count": 10,
   "outputs": [],
   "source": [
    "eps_hat = denoiser(x_t.permute(0, 2, 1).float(), t)"
   ],
   "metadata": {
    "collapsed": false,
    "ExecuteTime": {
     "end_time": "2024-07-30T17:54:52.027484900Z",
     "start_time": "2024-07-30T17:54:51.360026800Z"
    }
   },
   "id": "26c3031f25588c70"
  },
  {
   "cell_type": "code",
   "execution_count": 15,
   "outputs": [
    {
     "data": {
      "text/plain": "tensor(3.2845, device='cuda:0', dtype=torch.float64, grad_fn=<DivBackward1>)"
     },
     "execution_count": 15,
     "metadata": {},
     "output_type": "execute_result"
    }
   ],
   "source": [
    "from torch import nn\n",
    "\n",
    "criterion = nn.CrossEntropyLoss()\n",
    "criterion(eps_hat, test.permute(0, 2, 1))"
   ],
   "metadata": {
    "collapsed": false,
    "ExecuteTime": {
     "end_time": "2024-07-30T17:58:03.972270300Z",
     "start_time": "2024-07-30T17:58:03.942668200Z"
    }
   },
   "id": "139498d231921aea"
  },
  {
   "cell_type": "code",
   "execution_count": 10,
   "outputs": [
    {
     "name": "stderr",
     "output_type": "stream",
     "text": [
      "D:\\Projects\\trace-denoise\\src\\ddpm\\ddmp_multinomial.py:32: UserWarning: To copy construct from a tensor, it is recommended to use sourceTensor.clone().detach() or sourceTensor.clone().detach().requires_grad_(True), rather than torch.tensor(sourceTensor).\n",
      "  t_tensor = torch.tensor(t).long().to(self.device)\n"
     ]
    },
    {
     "data": {
      "text/plain": "tensor([[[  5.7263, -20.7785,  -9.4052,  ...,   0.5287,  -8.2503, -13.0716],\n         [  6.4067,   7.0115,  -2.1612,  ...,  -2.2935,   1.7831,  -0.3032],\n         [ 10.0543,  13.9898,  -0.2321,  ..., -14.1483,  16.3022, -10.3928],\n         ...,\n         [ 10.6984,  15.1259,   6.2504,  ..., -14.2516, -18.4344,   6.0720],\n         [ -0.5810,  -6.5327, -14.3074,  ...,   3.1594,   1.1031,  -2.7491],\n         [-17.1704,   0.7972,   0.2797,  ...,   2.2053, -14.4310,  17.4099]]],\n       device='cuda:0')"
     },
     "execution_count": 10,
     "metadata": {},
     "output_type": "execute_result"
    }
   ],
   "source": [
    "sqrt_alpha_hat = torch.sqrt(diffuser.alpha_hat[t])[:, None, None]\n",
    "sqrt_one_minus_alpha_hat = torch.sqrt(1 - diffuser.alpha_hat[t])[:, None, None]\n",
    "x_hat = diffuser.denoise(denoiser, x_t.permute(0, 2, 1).float(), t)\n",
    "x_hat"
   ],
   "metadata": {
    "collapsed": false,
    "ExecuteTime": {
     "end_time": "2024-07-30T17:43:08.804459500Z",
     "start_time": "2024-07-30T17:43:06.427409300Z"
    }
   },
   "id": "a17c9f7e3e5132de"
  },
  {
   "cell_type": "code",
   "execution_count": 21,
   "outputs": [
    {
     "data": {
      "text/plain": "tensor([1.0950e-08, 2.1622e-08, 8.2994e-07, 6.6863e-14, 3.6213e-20, 6.1329e-09,\n        5.8262e-10, 1.0000e+00, 1.6127e-17, 7.3481e-26, 6.2130e-11, 1.0840e-08,\n        5.7231e-15, 2.6599e-11, 3.5455e-08, 1.6197e-10, 4.9502e-09, 1.5804e-06,\n        1.9962e-11, 1.2460e-18], device='cuda:0')"
     },
     "execution_count": 21,
     "metadata": {},
     "output_type": "execute_result"
    }
   ],
   "source": [
    "torch.softmax(x_hat, dim=1)[0][:, 0]"
   ],
   "metadata": {
    "collapsed": false,
    "ExecuteTime": {
     "end_time": "2024-07-30T17:46:24.269163400Z",
     "start_time": "2024-07-30T17:46:24.256663200Z"
    }
   },
   "id": "c221acd6a4a7a429"
  },
  {
   "cell_type": "code",
   "execution_count": 11,
   "outputs": [
    {
     "data": {
      "text/plain": "tensor([[[0., 0., 0.,  ..., 1., 0., 0.],\n         [0., 0., 0.,  ..., 1., 0., 0.],\n         [0., 0., 0.,  ..., 1., 0., 0.],\n         ...,\n         [0., 0., 0.,  ..., 0., 0., 1.],\n         [0., 0., 0.,  ..., 0., 0., 1.],\n         [0., 0., 0.,  ..., 0., 0., 1.]]], device='cuda:0',\n       dtype=torch.float64)"
     },
     "execution_count": 11,
     "metadata": {},
     "output_type": "execute_result"
    }
   ],
   "source": [
    "(x_t - sqrt_one_minus_alpha_hat * eps) / sqrt_alpha_hat"
   ],
   "metadata": {
    "collapsed": false,
    "ExecuteTime": {
     "end_time": "2024-07-30T17:42:25.799065700Z",
     "start_time": "2024-07-30T17:42:25.790068600Z"
    }
   },
   "id": "c77cf1ec93689dd8"
  },
  {
   "cell_type": "code",
   "execution_count": 24,
   "outputs": [
    {
     "data": {
      "text/plain": "torch.Size([1, 20, 6584])"
     },
     "execution_count": 24,
     "metadata": {},
     "output_type": "execute_result"
    }
   ],
   "source": [
    "eps_hat.shape"
   ],
   "metadata": {
    "collapsed": false,
    "ExecuteTime": {
     "end_time": "2024-07-30T17:54:08.287367700Z",
     "start_time": "2024-07-30T17:54:08.276868700Z"
    }
   },
   "id": "34ec74f2bb0cc5"
  },
  {
   "cell_type": "code",
   "execution_count": 16,
   "outputs": [],
   "source": [
    "diffuser = Diffusion(noise_steps=200)\n",
    "x_gen = diffuser.sample(denoiser, 10, 20, salads_dataset.sequence_length, 'original')\n",
    "x_hat_result = torch.argmax(torch.softmax(x_gen, dim=1), dim=1)"
   ],
   "metadata": {
    "collapsed": false,
    "ExecuteTime": {
     "end_time": "2024-08-01T18:18:24.922389600Z",
     "start_time": "2024-08-01T18:18:12.928389400Z"
    }
   },
   "id": "7e8f9c8c66ef91c7"
  },
  {
   "cell_type": "code",
   "execution_count": 21,
   "outputs": [
    {
     "data": {
      "text/plain": "<Figure size 2000x1000 with 1 Axes>",
      "image/png": "[encoded data removed]"
     },
     "metadata": {},
     "output_type": "display_data"
    }
   ],
   "source": [
    "import matplotlib.pyplot as plt\n",
    "\n",
    "example = x_hat_result[4].to('cpu')\n",
    "\n",
    "plt.figure(figsize=(20, 10))\n",
    "plt.scatter(range(len(example)), example, marker='<', c='r', s=10)\n",
    "\n",
    "plt.xlabel('Index')\n",
    "plt.ylabel('Number')\n",
    "plt.title('Visualization of 6000 Numbers Between 1 and 19')\n",
    "plt.grid(True)\n",
    "\n",
    "plt.show()"
   ],
   "metadata": {
    "collapsed": false,
    "ExecuteTime": {
     "end_time": "2024-08-01T18:18:54.799267900Z",
     "start_time": "2024-08-01T18:18:54.639267600Z"
    }
   },
   "id": "c16576244862efa2"
  },
  {
   "cell_type": "code",
   "execution_count": null,
   "outputs": [],
   "source": [],
   "metadata": {
    "collapsed": false
   },
   "id": "a0f55c0b5b384587"
  }
 ],
 "metadata": {
  "kernelspec": {
   "display_name": "Python 3",
   "language": "python",
   "name": "python3"
  },
  "language_info": {
   "codemirror_mode": {
    "name": "ipython",
    "version": 2
   },
   "file_extension": ".py",
   "mimetype": "text/x-python",
   "name": "python",
   "nbconvert_exporter": "python",
   "pygments_lexer": "ipython2",
   "version": "2.7.6"
  }
 },
 "nbformat": 4,
 "nbformat_minor": 5
}
