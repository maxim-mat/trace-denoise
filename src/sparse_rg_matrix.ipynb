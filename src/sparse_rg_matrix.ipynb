{
 "cells": [
  {
   "cell_type": "code",
   "id": "initial_id",
   "metadata": {
    "collapsed": true,
    "ExecuteTime": {
     "end_time": "2025-02-16T21:01:08.814576Z",
     "start_time": "2025-02-16T21:01:08.809576Z"
    }
   },
   "source": [
    "from collections import defaultdict\n",
    "\n",
    "import streamlit as st\n",
    "import pickle as pkl\n",
    "\n",
    "import torch\n",
    "from sklearn.model_selection import train_test_split\n",
    "\n",
    "from denoisers.ConditionalUnetDenoiser import ConditionalUnetDenoiser\n",
    "from denoisers.ConditionalUnetMatrixDenoiser import ConditionalUnetMatrixDenoiser\n",
    "from utils.pm_utils import discover_dk_process, remove_duplicates_dataset, pad_to_multiple_of_n\n",
    "from utils.Config import Config\n",
    "import plotly.express as px\n",
    "import plotly.graph_objects as go\n",
    "from dataset.dataset import SaladsDataset\n",
    "from ddpm.ddpm_multinomial import Diffusion\n",
    "from utils.initialization import initialize\n",
    "import os\n",
    "import argparse\n",
    "import json\n",
    "from streamlit.components.v1 import html\n",
    "from pm4py.visualization.petri_net import visualizer as pn_visualizer\n",
    "from pm4py.visualization.bpmn import visualizer as bpmn_visualizer\n",
    "from pm4py import convert_to_bpmn\n",
    "from torch.utils.data import DataLoader\n",
    "from tqdm.notebook import tqdm\n",
    "from utils.pm_utils import conformance_measure"
   ],
   "outputs": [],
   "execution_count": 7
  },
  {
   "metadata": {
    "ExecuteTime": {
     "end_time": "2025-02-16T20:58:52.203666Z",
     "start_time": "2025-02-16T20:58:52.199666Z"
    }
   },
   "cell_type": "code",
   "source": [
    "with open(\"config.json\", \"r\") as f:\n",
    "    cfg_json = json.load(f)\n",
    "    cfg = Config(**cfg_json)"
   ],
   "id": "ae907098f7253e74",
   "outputs": [],
   "execution_count": 2
  },
  {
   "metadata": {
    "ExecuteTime": {
     "end_time": "2025-02-16T20:58:52.751667Z",
     "start_time": "2025-02-16T20:58:52.349168Z"
    }
   },
   "cell_type": "code",
   "source": [
    "with open(cfg.data_path, \"rb\") as f:\n",
    "    dataset = pkl.load(f)"
   ],
   "id": "d253d556d9b2099e",
   "outputs": [],
   "execution_count": 3
  },
  {
   "metadata": {
    "ExecuteTime": {
     "end_time": "2025-02-16T20:58:56.433666Z",
     "start_time": "2025-02-16T20:58:52.762667Z"
    }
   },
   "cell_type": "code",
   "source": "breakfast_dataset = SaladsDataset(dataset['target'], dataset['stochastic'])",
   "id": "b3c6ac3c1c196829",
   "outputs": [],
   "execution_count": 4
  },
  {
   "metadata": {
    "ExecuteTime": {
     "end_time": "2025-02-16T20:58:56.456165Z",
     "start_time": "2025-02-16T20:58:56.445166Z"
    }
   },
   "cell_type": "code",
   "source": [
    "train_dataset, test_dataset = train_test_split(breakfast_dataset, train_size=cfg.train_percent, shuffle=True,\n",
    "                                               random_state=cfg.seed)"
   ],
   "id": "7869c300847e294e",
   "outputs": [],
   "execution_count": 5
  },
  {
   "metadata": {
    "ExecuteTime": {
     "end_time": "2025-02-16T20:59:21.556166Z",
     "start_time": "2025-02-16T20:58:56.523666Z"
    }
   },
   "cell_type": "code",
   "source": [
    "dk_process_model, dk_init_marking, dk_final_marking = discover_dk_process(train_dataset, cfg,\n",
    "                                                                          preprocess=remove_duplicates_dataset)"
   ],
   "id": "6cecc54a62a06cbc",
   "outputs": [],
   "execution_count": 6
  },
  {
   "metadata": {
    "ExecuteTime": {
     "end_time": "2025-02-16T21:02:43.119461Z",
     "start_time": "2025-02-16T21:02:43.111464Z"
    }
   },
   "cell_type": "code",
   "source": [
    "from pm4py.objects.petri_net.utils import reachability_graph\n",
    "import pm4py\n",
    "import networkx as nx\n",
    "import numpy as np\n",
    "from scipy.sparse import coo_matrix\n",
    "\n",
    "def get_process_model_reachability_graph_transition_matrix(process_model: pm4py.PetriNet, init_marking: pm4py.Marking):\n",
    "    # Construct reachability graph\n",
    "    rg = reachability_graph.construct_reachability_graph(process_model, init_marking)\n",
    "    rg_nx = nx.DiGraph()\n",
    "\n",
    "    for state in rg.states:\n",
    "        rg_nx.add_node(state.name)\n",
    "\n",
    "    # Extract unique transition names (using the second element in the tuple)\n",
    "    transition_names = {\n",
    "        tuple(s.strip(\" '\") for s in transition.name.strip(\"()\").split(\",\"))[1]\n",
    "        for transition in rg.transitions\n",
    "    }\n",
    "    transition_name_index = {name: idx for idx, name in enumerate(sorted(transition_names))}\n",
    "\n",
    "    # Add edges with labels to the graph\n",
    "    for transition in rg.transitions:\n",
    "        transition_name = tuple(s.strip(\" '\") for s in transition.name.strip(\"()\").split(\",\"))\n",
    "        rg_nx.add_edge(\n",
    "            transition.from_state.name,\n",
    "            transition.to_state.name,\n",
    "            label=transition_name\n",
    "        )\n",
    "\n",
    "    nodes = sorted(rg_nx.nodes())\n",
    "    num_transitions = len(transition_names)\n",
    "    num_nodes = len(nodes)\n",
    "\n",
    "    # Instead of a dense (num_transitions, num_nodes, num_nodes) array,\n",
    "    # build a sparse matrix (one per transition) by collecting the nonzero entries.\n",
    "    # For efficiency, build a mapping from node name to its index.\n",
    "    node_index = {node: idx for idx, node in enumerate(nodes)}\n",
    "\n",
    "    # Create a dictionary to collect row, col, data for each transition index\n",
    "    sparse_data = {i: {\"rows\": [], \"cols\": [], \"data\": []} for i in range(num_transitions)}\n",
    "\n",
    "    for edge in tqdm(rg_nx.edges(data=True)):\n",
    "        from_node = node_index[edge[0]]\n",
    "        to_node = node_index[edge[1]]\n",
    "        transition_name = edge[2]['label'][1]\n",
    "        if transition_name in transition_name_index:\n",
    "            trans_idx = transition_name_index[transition_name]\n",
    "            sparse_data[trans_idx][\"rows\"].append(from_node)\n",
    "            sparse_data[trans_idx][\"cols\"].append(to_node)\n",
    "            sparse_data[trans_idx][\"data\"].append(1)\n",
    "        else:\n",
    "            raise RuntimeError(f\"Encountered transition {transition_name} but it was not indexed.\")\n",
    "\n",
    "    # Build a list of sparse matrices (one per transition)\n",
    "    sparse_transition_matrices = []\n",
    "    for i in range(num_transitions):\n",
    "        rows = sparse_data[i][\"rows\"]\n",
    "        cols = sparse_data[i][\"cols\"]\n",
    "        data = sparse_data[i][\"data\"]\n",
    "        # Create a sparse matrix of shape (num_nodes, num_nodes)\n",
    "        sp_mat = coo_matrix((data, (rows, cols)), shape=(num_nodes, num_nodes), dtype=int)\n",
    "        sparse_transition_matrices.append(sp_mat)\n",
    "\n",
    "    return rg_nx, sparse_transition_matrices"
   ],
   "id": "3df784504d2f14b8",
   "outputs": [],
   "execution_count": 8
  },
  {
   "metadata": {
    "ExecuteTime": {
     "end_time": "2025-02-16T21:05:34.025806Z",
     "start_time": "2025-02-16T21:02:57.751306Z"
    }
   },
   "cell_type": "code",
   "source": "rg_nx, sparse_transition_matrices = get_process_model_reachability_graph_transition_matrix(dk_process_model, dk_init_marking)",
   "id": "a4ec0a1b26208f8a",
   "outputs": [
    {
     "data": {
      "text/plain": [
       "  0%|          | 0/3078969 [00:00<?, ?it/s]"
      ],
      "application/vnd.jupyter.widget-view+json": {
       "version_major": 2,
       "version_minor": 0,
       "model_id": "9cda2cf2e68d4022a1658422dd9c82e5"
      }
     },
     "metadata": {},
     "output_type": "display_data"
    }
   ],
   "execution_count": 9
  },
  {
   "metadata": {
    "ExecuteTime": {
     "end_time": "2025-02-16T21:06:30.075117Z",
     "start_time": "2025-02-16T21:06:30.071116Z"
    }
   },
   "cell_type": "code",
   "source": [
    "import torch\n",
    "from torch import nn\n",
    "from scipy.sparse import coo_matrix\n",
    "\n",
    "def convert_sparse_scipy_to_torch(sparse_list):\n",
    "    \"\"\"Converts a list of SciPy COO matrices to PyTorch sparse tensors.\"\"\"\n",
    "    torch_sparse_list = []\n",
    "    for sp in sparse_list:\n",
    "        sp = sp.tocoo()  # ensure COO format\n",
    "        indices = torch.LongTensor([sp.row, sp.col])\n",
    "        values = torch.tensor(sp.data, dtype=torch.float32)\n",
    "        shape = sp.shape\n",
    "        torch_sparse = torch.sparse_coo_tensor(indices, values, size=shape)\n",
    "        torch_sparse_list.append(torch_sparse)\n",
    "    return torch_sparse_list"
   ],
   "id": "6bdb5ee9ebcfac02",
   "outputs": [],
   "execution_count": 10
  },
  {
   "metadata": {
    "ExecuteTime": {
     "end_time": "2025-02-16T21:06:44.569171Z",
     "start_time": "2025-02-16T21:06:43.770172Z"
    }
   },
   "cell_type": "code",
   "source": "transition_matrix = convert_sparse_scipy_to_torch(sparse_transition_matrices)",
   "id": "bc7ed0e5ed8b0ff2",
   "outputs": [
    {
     "name": "stderr",
     "output_type": "stream",
     "text": [
      "C:\\Users\\user\\AppData\\Local\\Temp\\ipykernel_36512\\1406905325.py:10: UserWarning: Creating a tensor from a list of numpy.ndarrays is extremely slow. Please consider converting the list to a single numpy.ndarray with numpy.array() before converting to a tensor. (Triggered internally at ..\\torch\\csrc\\utils\\tensor_new.cpp:278.)\n",
      "  indices = torch.LongTensor([sp.row, sp.col])\n"
     ]
    }
   ],
   "execution_count": 11
  },
  {
   "metadata": {
    "ExecuteTime": {
     "end_time": "2025-02-16T21:07:19.355251Z",
     "start_time": "2025-02-16T21:07:19.350751Z"
    }
   },
   "cell_type": "code",
   "source": "type(transition_matrix)",
   "id": "bf123e5d48cf250f",
   "outputs": [
    {
     "data": {
      "text/plain": [
       "list"
      ]
     },
     "execution_count": 13,
     "metadata": {},
     "output_type": "execute_result"
    }
   ],
   "execution_count": 13
  },
  {
   "metadata": {},
   "cell_type": "code",
   "outputs": [],
   "execution_count": null,
   "source": "",
   "id": "221fb48820189bf9"
  }
 ],
 "metadata": {
  "kernelspec": {
   "display_name": "Python 3",
   "language": "python",
   "name": "python3"
  },
  "language_info": {
   "codemirror_mode": {
    "name": "ipython",
    "version": 2
   },
   "file_extension": ".py",
   "mimetype": "text/x-python",
   "name": "python",
   "nbconvert_exporter": "python",
   "pygments_lexer": "ipython2",
   "version": "2.7.6"
  }
 },
 "nbformat": 4,
 "nbformat_minor": 5
}
