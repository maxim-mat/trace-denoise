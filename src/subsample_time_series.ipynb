{
 "cells": [
  {
   "cell_type": "code",
   "execution_count": 1,
   "id": "initial_id",
   "metadata": {
    "collapsed": true,
    "ExecuteTime": {
     "end_time": "2024-10-13T20:02:31.891073800Z",
     "start_time": "2024-10-13T20:02:28.594074Z"
    }
   },
   "outputs": [],
   "source": [
    "import os.path\n",
    "\n",
    "import numpy as np\n",
    "import pickle as pkl\n",
    "import pandas as pd\n",
    "import torch\n",
    "from utils import subsample_time_series"
   ]
  },
  {
   "cell_type": "code",
   "execution_count": 2,
   "outputs": [],
   "source": [
    "def create_subsampled_dataset(dataset_path: str, new_dataset_path: str, sample_size: int):\n",
    "    with open(dataset_path, \"rb\") as f:\n",
    "        dataset = pkl.load(f)\n",
    "    sampled_dataset, indexes = subsample_time_series(dataset, sample_size)\n",
    "    with open(new_dataset_path, \"wb\") as f:\n",
    "        pkl.dump(sampled_dataset, f)\n",
    "    root, ext = os.path.splitext(new_dataset_path)\n",
    "    with open(f\"{root}_indexes{ext}\", \"wb\") as f:\n",
    "        pkl.dump(indexes, f)"
   ],
   "metadata": {
    "collapsed": false,
    "ExecuteTime": {
     "end_time": "2024-10-13T20:02:31.904072500Z",
     "start_time": "2024-10-13T20:02:31.894097Z"
    }
   },
   "id": "f117bb1d27eda1cd"
  },
  {
   "cell_type": "code",
   "execution_count": 3,
   "outputs": [],
   "source": [
    "datasets = [\"../data/pickles/50_salads_unified.pkl\", \"../data/pickles/gtea_unified.pkl\", \"../data/pickles/breakfast_unified.pkl\"]\n",
    "new_datasets = [\"../data/pickles/50_salads_500_sample.pkl\", \"../data/pickles/gtea_500_sample.pkl\", \"../data/pickles/breakfast_500_sample.pkl\"]\n",
    "for dataset, new_dataset in zip(datasets, new_datasets):\n",
    "    create_subsampled_dataset(dataset, new_dataset, 496)"
   ],
   "metadata": {
    "collapsed": false,
    "ExecuteTime": {
     "end_time": "2024-10-13T20:02:33.584816200Z",
     "start_time": "2024-10-13T20:02:31.897574Z"
    }
   },
   "id": "6881e0ce3e5f3c17"
  },
  {
   "cell_type": "code",
   "execution_count": null,
   "outputs": [],
   "source": [],
   "metadata": {
    "collapsed": false
   },
   "id": "7dbd03612216dfcd"
  }
 ],
 "metadata": {
  "kernelspec": {
   "display_name": "Python 3",
   "language": "python",
   "name": "python3"
  },
  "language_info": {
   "codemirror_mode": {
    "name": "ipython",
    "version": 2
   },
   "file_extension": ".py",
   "mimetype": "text/x-python",
   "name": "python",
   "nbconvert_exporter": "python",
   "pygments_lexer": "ipython2",
   "version": "2.7.6"
  }
 },
 "nbformat": 4,
 "nbformat_minor": 5
}
