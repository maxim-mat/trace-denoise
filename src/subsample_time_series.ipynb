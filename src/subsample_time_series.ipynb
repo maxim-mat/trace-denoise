{
 "cells": [
  {
   "cell_type": "code",
   "execution_count": 1,
   "id": "initial_id",
   "metadata": {
    "collapsed": true,
    "ExecuteTime": {
     "end_time": "2024-10-17T07:00:25.065592900Z",
     "start_time": "2024-10-17T07:00:17.092946900Z"
    }
   },
   "outputs": [],
   "source": [
    "import os.path\n",
    "\n",
    "import numpy as np\n",
    "import pickle as pkl\n",
    "import pandas as pd\n",
    "import torch\n",
    "from utils import subsample_time_series"
   ]
  },
  {
   "cell_type": "code",
   "execution_count": 2,
   "outputs": [],
   "source": [
    "def create_subsampled_dataset(dataset_path: str, new_dataset_path: str, sample_size: int):\n",
    "    with open(dataset_path, \"rb\") as f:\n",
    "        dataset = pkl.load(f)\n",
    "    sampled_dataset, indexes = subsample_time_series(dataset, sample_size)\n",
    "    with open(new_dataset_path, \"wb\") as f:\n",
    "        pkl.dump(sampled_dataset, f)\n",
    "    root, ext = os.path.splitext(new_dataset_path)\n",
    "    with open(f\"{root}_indexes{ext}\", \"wb\") as f:\n",
    "        pkl.dump(indexes, f)"
   ],
   "metadata": {
    "collapsed": false,
    "ExecuteTime": {
     "end_time": "2024-10-16T17:39:28.421708600Z",
     "start_time": "2024-10-16T17:39:28.409708800Z"
    }
   },
   "id": "f117bb1d27eda1cd"
  },
  {
   "cell_type": "code",
   "execution_count": 3,
   "outputs": [],
   "source": [
    "datasets = [\"../data/pickles/50_salads_unified.pkl\", \"../data/pickles/gtea_unified.pkl\", \"../data/pickles/breakfast_unified.pkl\"]\n",
    "new_datasets = [\"../data/pickles/50_salads_24_sample.pkl\", \"../data/pickles/gtea_24_sample.pkl\", \"../data/pickles/breakfast_24_sample.pkl\"]\n",
    "for dataset, new_dataset in zip(datasets, new_datasets):\n",
    "    create_subsampled_dataset(dataset, new_dataset, 24)"
   ],
   "metadata": {
    "collapsed": false,
    "ExecuteTime": {
     "end_time": "2024-10-16T17:39:37.883569700Z",
     "start_time": "2024-10-16T17:39:36.680608600Z"
    }
   },
   "id": "6881e0ce3e5f3c17"
  },
  {
   "cell_type": "code",
   "execution_count": 17,
   "outputs": [],
   "source": [
    "with open(\"../data/pickles/breakfast_unified.pkl\", \"rb\") as f:\n",
    "    dataset = pkl.load(f)"
   ],
   "metadata": {
    "collapsed": false,
    "ExecuteTime": {
     "end_time": "2024-10-17T07:08:34.647001500Z",
     "start_time": "2024-10-17T07:08:33.762022100Z"
    }
   },
   "id": "7dbd03612216dfcd"
  },
  {
   "cell_type": "code",
   "execution_count": 18,
   "outputs": [],
   "source": [
    "from src.dataset.dataset import SaladsDataset\n",
    "\n",
    "salads_dataset = SaladsDataset(dataset['target'], dataset['stochastic'])"
   ],
   "metadata": {
    "collapsed": false,
    "ExecuteTime": {
     "end_time": "2024-10-17T07:08:38.554181500Z",
     "start_time": "2024-10-17T07:08:35.108678200Z"
    }
   },
   "id": "727dd314c10bcbc6"
  },
  {
   "cell_type": "code",
   "execution_count": 19,
   "outputs": [],
   "source": [
    "activities = {x.item() for y in [torch.argmax(x[0], dim=1) for x in salads_dataset] for x in y}"
   ],
   "metadata": {
    "collapsed": false,
    "ExecuteTime": {
     "end_time": "2024-10-17T07:08:51.563175900Z",
     "start_time": "2024-10-17T07:08:38.556179600Z"
    }
   },
   "id": "6786bb8bcf5209e6"
  },
  {
   "cell_type": "code",
   "execution_count": 20,
   "outputs": [
    {
     "data": {
      "text/plain": "{0,\n 1,\n 2,\n 3,\n 4,\n 5,\n 6,\n 9,\n 10,\n 11,\n 12,\n 13,\n 14,\n 15,\n 16,\n 17,\n 18,\n 19,\n 20,\n 21,\n 22,\n 23,\n 24,\n 25,\n 26,\n 27,\n 28,\n 29,\n 30,\n 31,\n 32,\n 33,\n 34,\n 35,\n 36,\n 37,\n 38,\n 39,\n 40,\n 41,\n 42,\n 43,\n 44,\n 45,\n 46,\n 48}"
     },
     "execution_count": 20,
     "metadata": {},
     "output_type": "execute_result"
    }
   ],
   "source": [
    "activities"
   ],
   "metadata": {
    "collapsed": false,
    "ExecuteTime": {
     "end_time": "2024-10-17T07:08:58.453855800Z",
     "start_time": "2024-10-17T07:08:58.444995Z"
    }
   },
   "id": "85ea95bd1466f19"
  },
  {
   "cell_type": "code",
   "execution_count": 21,
   "outputs": [
    {
     "data": {
      "text/plain": "{'0': 'a_0',\n '1': 'a_1',\n '2': 'a_2',\n '3': 'a_3',\n '4': 'a_4',\n '5': 'a_5',\n '6': 'a_6',\n '9': 'a_9',\n '10': 'a_10',\n '11': 'a_11',\n '12': 'a_12',\n '13': 'a_13',\n '14': 'a_14',\n '15': 'a_15',\n '16': 'a_16',\n '17': 'a_17',\n '18': 'a_18',\n '19': 'a_19',\n '20': 'a_20',\n '21': 'a_21',\n '22': 'a_22',\n '23': 'a_23',\n '24': 'a_24',\n '25': 'a_25',\n '26': 'a_26',\n '27': 'a_27',\n '28': 'a_28',\n '29': 'a_29',\n '30': 'a_30',\n '31': 'a_31',\n '32': 'a_32',\n '33': 'a_33',\n '34': 'a_34',\n '35': 'a_35',\n '36': 'a_36',\n '37': 'a_37',\n '38': 'a_38',\n '39': 'a_39',\n '40': 'a_40',\n '41': 'a_41',\n '42': 'a_42',\n '43': 'a_43',\n '44': 'a_44',\n '45': 'a_45',\n '46': 'a_46',\n '48': 'a_48'}"
     },
     "execution_count": 21,
     "metadata": {},
     "output_type": "execute_result"
    }
   ],
   "source": [
    "{str(a): f\"a_{a}\" for a in activities}"
   ],
   "metadata": {
    "collapsed": false,
    "ExecuteTime": {
     "end_time": "2024-10-17T07:09:04.635904900Z",
     "start_time": "2024-10-17T07:09:04.626404700Z"
    }
   },
   "id": "1da7fdc2ba7a6732"
  },
  {
   "cell_type": "code",
   "execution_count": null,
   "outputs": [],
   "source": [],
   "metadata": {
    "collapsed": false
   },
   "id": "9e825faf127053a3"
  }
 ],
 "metadata": {
  "kernelspec": {
   "display_name": "Python 3",
   "language": "python",
   "name": "python3"
  },
  "language_info": {
   "codemirror_mode": {
    "name": "ipython",
    "version": 2
   },
   "file_extension": ".py",
   "mimetype": "text/x-python",
   "name": "python",
   "nbconvert_exporter": "python",
   "pygments_lexer": "ipython2",
   "version": "2.7.6"
  }
 },
 "nbformat": 4,
 "nbformat_minor": 5
}
