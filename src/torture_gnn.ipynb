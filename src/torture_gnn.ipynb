{
 "cells": [
  {
   "cell_type": "code",
   "execution_count": 7,
   "id": "initial_id",
   "metadata": {
    "collapsed": true,
    "ExecuteTime": {
     "end_time": "2024-10-06T20:12:47.372101700Z",
     "start_time": "2024-10-06T20:12:47.347604Z"
    }
   },
   "outputs": [],
   "source": [
    "from sklearn.model_selection import train_test_split\n",
    "\n",
    "from dataset.dataset import SaladsDataset\n",
    "from main import discover_dk_process\n",
    "from Config import Config\n",
    "import json\n",
    "import pickle as pkl\n",
    "import pm4py"
   ]
  },
  {
   "cell_type": "code",
   "execution_count": 2,
   "outputs": [],
   "source": [
    "with open(\"config.json\", \"r\") as f:\n",
    "    cfg_json = json.load(f)\n",
    "    cfg = Config(**cfg_json)"
   ],
   "metadata": {
    "collapsed": false,
    "ExecuteTime": {
     "end_time": "2024-10-06T20:09:32.005041400Z",
     "start_time": "2024-10-06T20:09:31.993791900Z"
    }
   },
   "id": "c3db7bf7699e52e9"
  },
  {
   "cell_type": "code",
   "execution_count": 3,
   "outputs": [],
   "source": [
    "with open(cfg.data_path, \"rb\") as f:\n",
    "    dataset = pkl.load(f)\n",
    "salads_dataset = SaladsDataset(dataset['target'], dataset['stochastic'])\n",
    "train_dataset, test_dataset = train_test_split(salads_dataset, train_size=cfg.train_percent, shuffle=True,\n",
    "                                               random_state=cfg.seed)"
   ],
   "metadata": {
    "collapsed": false,
    "ExecuteTime": {
     "end_time": "2024-10-06T20:09:32.077040800Z",
     "start_time": "2024-10-06T20:09:31.998041800Z"
    }
   },
   "id": "66189b634c3053f9"
  },
  {
   "cell_type": "code",
   "execution_count": 4,
   "outputs": [],
   "source": [
    "model, initial, final = discover_dk_process(train_dataset, cfg)"
   ],
   "metadata": {
    "collapsed": false,
    "ExecuteTime": {
     "end_time": "2024-10-06T20:09:49.947924100Z",
     "start_time": "2024-10-06T20:09:32.602424500Z"
    }
   },
   "id": "f94e95fa66060f9e"
  },
  {
   "cell_type": "code",
   "execution_count": 9,
   "outputs": [],
   "source": [
    "nx_model = pm4py.convert_petri_net_to_networkx(model, initial, final)"
   ],
   "metadata": {
    "collapsed": false,
    "ExecuteTime": {
     "end_time": "2024-10-06T20:13:19.486963100Z",
     "start_time": "2024-10-06T20:13:19.475462400Z"
    }
   },
   "id": "e9f596f537c5ec45"
  },
  {
   "cell_type": "code",
   "execution_count": null,
   "outputs": [],
   "source": [],
   "metadata": {
    "collapsed": false
   },
   "id": "5dd5daa3ef9fecee"
  }
 ],
 "metadata": {
  "kernelspec": {
   "display_name": "Python 3",
   "language": "python",
   "name": "python3"
  },
  "language_info": {
   "codemirror_mode": {
    "name": "ipython",
    "version": 2
   },
   "file_extension": ".py",
   "mimetype": "text/x-python",
   "name": "python",
   "nbconvert_exporter": "python",
   "pygments_lexer": "ipython2",
   "version": "2.7.6"
  }
 },
 "nbformat": 4,
 "nbformat_minor": 5
}
